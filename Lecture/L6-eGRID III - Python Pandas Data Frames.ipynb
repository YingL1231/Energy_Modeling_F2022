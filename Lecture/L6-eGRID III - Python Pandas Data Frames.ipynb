{
 "cells": [
  {
   "cell_type": "markdown",
   "id": "c6073728",
   "metadata": {},
   "source": [
    "# H6 - Exploring eGRID III with python and dataframes"
   ]
  },
  {
   "cell_type": "code",
   "execution_count": 22,
   "id": "2159ee42",
   "metadata": {},
   "outputs": [
    {
     "data": {
      "text/html": [
       "<div>\n",
       "<style scoped>\n",
       "    .dataframe tbody tr th:only-of-type {\n",
       "        vertical-align: middle;\n",
       "    }\n",
       "\n",
       "    .dataframe tbody tr th {\n",
       "        vertical-align: top;\n",
       "    }\n",
       "\n",
       "    .dataframe thead th {\n",
       "        text-align: right;\n",
       "    }\n",
       "</style>\n",
       "<table border=\"1\" class=\"dataframe\">\n",
       "  <thead>\n",
       "    <tr style=\"text-align: right;\">\n",
       "      <th></th>\n",
       "      <th>SEQPLT20</th>\n",
       "      <th>YEAR</th>\n",
       "      <th>PSTATABB</th>\n",
       "      <th>PNAME</th>\n",
       "      <th>ORISPL</th>\n",
       "      <th>OPRNAME</th>\n",
       "      <th>OPRCODE</th>\n",
       "      <th>UTLSRVNM</th>\n",
       "      <th>UTLSRVID</th>\n",
       "      <th>SECTOR</th>\n",
       "      <th>...</th>\n",
       "      <th>PLWIPR</th>\n",
       "      <th>PLSOPR</th>\n",
       "      <th>PLGTPR</th>\n",
       "      <th>PLOFPR</th>\n",
       "      <th>PLOPPR</th>\n",
       "      <th>PLTNPR</th>\n",
       "      <th>PLTRPR</th>\n",
       "      <th>PLTHPR</th>\n",
       "      <th>PLCYPR</th>\n",
       "      <th>PLCNPR</th>\n",
       "    </tr>\n",
       "  </thead>\n",
       "  <tbody>\n",
       "    <tr>\n",
       "      <th>0</th>\n",
       "      <td>1</td>\n",
       "      <td>2020</td>\n",
       "      <td>AK</td>\n",
       "      <td>7-Mile Ridge Wind Project</td>\n",
       "      <td>60814</td>\n",
       "      <td>Alaska Power and Telephone Co</td>\n",
       "      <td>219</td>\n",
       "      <td>Alaska Power and Telephone Co</td>\n",
       "      <td>219</td>\n",
       "      <td>Electric Utility</td>\n",
       "      <td>...</td>\n",
       "      <td></td>\n",
       "      <td></td>\n",
       "      <td></td>\n",
       "      <td></td>\n",
       "      <td></td>\n",
       "      <td></td>\n",
       "      <td></td>\n",
       "      <td></td>\n",
       "      <td></td>\n",
       "      <td></td>\n",
       "    </tr>\n",
       "    <tr>\n",
       "      <th>1</th>\n",
       "      <td>2</td>\n",
       "      <td>2020</td>\n",
       "      <td>AK</td>\n",
       "      <td>Agrium Kenai Nitrogen Operations</td>\n",
       "      <td>54452</td>\n",
       "      <td>Homer Electric Assn Inc</td>\n",
       "      <td>19558</td>\n",
       "      <td>Agrium US Inc</td>\n",
       "      <td>179</td>\n",
       "      <td>Industrial CHP</td>\n",
       "      <td>...</td>\n",
       "      <td></td>\n",
       "      <td></td>\n",
       "      <td></td>\n",
       "      <td></td>\n",
       "      <td></td>\n",
       "      <td></td>\n",
       "      <td></td>\n",
       "      <td></td>\n",
       "      <td></td>\n",
       "      <td></td>\n",
       "    </tr>\n",
       "    <tr>\n",
       "      <th>2</th>\n",
       "      <td>3</td>\n",
       "      <td>2020</td>\n",
       "      <td>AK</td>\n",
       "      <td>Alakanuk</td>\n",
       "      <td>57053</td>\n",
       "      <td>Alaska Village Elec Coop, Inc</td>\n",
       "      <td>221</td>\n",
       "      <td>Alaska Village Elec Coop, Inc</td>\n",
       "      <td>221</td>\n",
       "      <td>Electric Utility</td>\n",
       "      <td>...</td>\n",
       "      <td></td>\n",
       "      <td></td>\n",
       "      <td></td>\n",
       "      <td></td>\n",
       "      <td></td>\n",
       "      <td></td>\n",
       "      <td></td>\n",
       "      <td></td>\n",
       "      <td></td>\n",
       "      <td></td>\n",
       "    </tr>\n",
       "  </tbody>\n",
       "</table>\n",
       "<p>3 rows × 140 columns</p>\n",
       "</div>"
      ],
      "text/plain": [
       "   SEQPLT20  YEAR PSTATABB                             PNAME  ORISPL  \\\n",
       "0         1  2020       AK         7-Mile Ridge Wind Project   60814   \n",
       "1         2  2020       AK  Agrium Kenai Nitrogen Operations   54452   \n",
       "2         3  2020       AK                          Alakanuk   57053   \n",
       "\n",
       "                         OPRNAME  OPRCODE                       UTLSRVNM  \\\n",
       "0  Alaska Power and Telephone Co      219  Alaska Power and Telephone Co   \n",
       "1        Homer Electric Assn Inc    19558                  Agrium US Inc   \n",
       "2  Alaska Village Elec Coop, Inc      221  Alaska Village Elec Coop, Inc   \n",
       "\n",
       "   UTLSRVID            SECTOR  ... PLWIPR PLSOPR PLGTPR PLOFPR PLOPPR PLTNPR  \\\n",
       "0       219  Electric Utility  ...                                             \n",
       "1       179    Industrial CHP  ...                                             \n",
       "2       221  Electric Utility  ...                                             \n",
       "\n",
       "   PLTRPR PLTHPR PLCYPR PLCNPR  \n",
       "0                               \n",
       "1                               \n",
       "2                               \n",
       "\n",
       "[3 rows x 140 columns]"
      ]
     },
     "execution_count": 22,
     "metadata": {},
     "output_type": "execute_result"
    }
   ],
   "source": [
    "import pandas as pd # this imports the pandas library which is necessary for data frames and calls that library\n",
    "                    # can call all the functions of this library with \"pd.\"\n",
    "import numpy as np  # same for numpy\n",
    "###############################################################################################################\n",
    "## Below we:\n",
    "## 1. Read eGRID20 file\n",
    "## Read the PLNT20 sheet of the excel file into a pandas DataFrame.\n",
    "## A DataFrame is a two-dimensional labeled data structure with columns of potentially different types\n",
    "## Specify that the headers are on the second row of the excel file (i.e., row 1 in Python)\n",
    "## 2. Confirm we read all columns by printing the first five rows\n",
    "###############################################################################################################\n",
    "egrid=pd.read_excel(\"egrid2020_data.xlsx\",sheet_name=\"PLNT20\",keep_default_na=False,header=1)\n",
    "#The only two paramters necessary for this are 1) The excel file and 2.The sheet name\n",
    "#the other two parameters are optional but helpful. 3)Telling python to not use the \"NA\" fo\n",
    "#4) specifying that the header is in row 1 (row 1 is in fact the second row of the spreadsh\n",
    "#because python always starts counting at 0\n",
    "egrid.head(3) # This prints the first three rows of the dataframe that we just named \"egrid\" *the default is five rows"
   ]
  },
  {
   "cell_type": "markdown",
   "id": "5809c9ba",
   "metadata": {},
   "source": [
    "## a. How many plants are in the eGRID PLNT spreadsheet?"
   ]
  },
  {
   "cell_type": "code",
   "execution_count": 23,
   "id": "6315eee3",
   "metadata": {},
   "outputs": [
    {
     "data": {
      "text/plain": [
       "12668"
      ]
     },
     "execution_count": 23,
     "metadata": {},
     "output_type": "execute_result"
    }
   ],
   "source": [
    "#Use the function len(). It is wise enough to not count the header in the number of rows\n",
    "len(egrid)"
   ]
  },
  {
   "cell_type": "code",
   "execution_count": 25,
   "id": "46e505ec",
   "metadata": {},
   "outputs": [
    {
     "name": "stdout",
     "output_type": "stream",
     "text": [
      "The variable NumPlants is of type <class 'int'>\n",
      "There are 12668 plants in eGRID2020\n"
     ]
    }
   ],
   "source": [
    "#another way to print the statement is first storing the lenght of the dataframe in a variable called \n",
    "# \"NumPlant\"  and then calling that variable to print it\n",
    "NumPlants=len(egrid)\n",
    "print(\"The variable NumPlants is of type\", type(NumPlants)) ##This show that NumPlants is data of type \"int\" o\n",
    "print(\"There are\", NumPlants,\"plants in eGRID2020\")\n"
   ]
  },
  {
   "cell_type": "markdown",
   "id": "9325a2f8",
   "metadata": {},
   "source": [
    "## What is the data type of the data stored in the columns of the dataframe eGRID?"
   ]
  },
  {
   "cell_type": "code",
   "execution_count": 26,
   "id": "1231f995",
   "metadata": {},
   "outputs": [
    {
     "name": "stdout",
     "output_type": "stream",
     "text": [
      "The column names and types in the PLNT tab of eGRID 2020 are: SEQPLT20     int64\n",
      "YEAR         int64\n",
      "PSTATABB    object\n",
      "PNAME       object\n",
      "ORISPL       int64\n",
      "             ...  \n",
      "PLTNPR      object\n",
      "PLTRPR      object\n",
      "PLTHPR      object\n",
      "PLCYPR      object\n",
      "PLCNPR      object\n",
      "Length: 140, dtype: object\n"
     ]
    }
   ],
   "source": [
    "#Use the pandas function pd.dtypes\n",
    "egrid.dtypes # this will print a list of all the columns and the datatype of each in front\n",
    "             # it will show that some columns such as year have numeric data \"int64\" while others are \n",
    "             # objects. Need to keep in mind that some data are objects and not numbers so we need \n",
    "             # to convert to number any mahematical operations\n",
    "print(\"The column names and types in the PLNT tab of eGRID 2020 are:\", egrid.dtypes)"
   ]
  },
  {
   "cell_type": "markdown",
   "id": "379f76b7",
   "metadata": {},
   "source": [
    "# b. What is the total nameplate capacity of the power plants recorded in eGRID?"
   ]
  },
  {
   "cell_type": "code",
   "execution_count": 27,
   "id": "27c7648e",
   "metadata": {},
   "outputs": [
    {
     "name": "stdout",
     "output_type": "stream",
     "text": [
      "The data type of the NAMEPCAP column in the PLNT tab of eGRID 2020 is object\n"
     ]
    }
   ],
   "source": [
    "#The column NAMEPCAP has the nameplate capacity of the plants\n",
    "#lets check its type to see if it is numeric and we can sum it\n",
    "#We find the datatype of a column in a dataframe with dataframe[\"columnheader\"].dtype\n",
    "print(\"The data type of the NAMEPCAP column in the PLNT tab of eGRID 2020 is\", egrid.NAMEPCAP.dtype)\n",
    "#An alternative is:\n",
    "#print(\"The data type of the NAMEPCAP column in the PLNT tab of eGRID 2020 is\", egrid[\"NAMEPCAP\"].dtype)"
   ]
  },
  {
   "cell_type": "code",
   "execution_count": 28,
   "id": "73e3f655",
   "metadata": {},
   "outputs": [],
   "source": [
    "#since we cannot do math with objects, we need to convert the datatype of NAMEPCAP to a number\n",
    "#we do this with the function pd.to_numeric(dataframe[\"columnname\"])\n",
    "#We assign to the column NAMEPCAP in the existing dataframe, the same values in the object but converted \n",
    "#to num\n",
    "egrid.NAMEPCAP=pd.to_numeric(egrid.NAMEPCAP)\n",
    "#An alternative is\n",
    "#egrid[\"NAMEPCAP\"]=pd.to_numeric(egrid[\"NAMEPCAP\"])"
   ]
  },
  {
   "cell_type": "code",
   "execution_count": 29,
   "id": "aaa3718c",
   "metadata": {},
   "outputs": [
    {
     "name": "stdout",
     "output_type": "stream",
     "text": [
      "The data type of the NAMEPCAP column in the PLNT tab of eGRID 2020 is now float64\n"
     ]
    }
   ],
   "source": [
    "#Now check that the datatype of the data in NAMEPCAP is indeed a number (in fact is a real number with decimals\n",
    "print(\"The data type of the NAMEPCAP column in the PLNT tab of eGRID 2020 is now\", egrid.NAMEPCAP.dtype)\n",
    "#An alternative is\n",
    "#print(\"The data type of the NAMEPCAP column in the PLNT tab of eGRID 2020 is now\", egrid[\"NAMEPCAP\"].dtype)"
   ]
  },
  {
   "cell_type": "code",
   "execution_count": 30,
   "id": "5071bbbd",
   "metadata": {},
   "outputs": [
    {
     "name": "stdout",
     "output_type": "stream",
     "text": [
      "The total name plate capacity of US plants according to eGRID2020 is 1656187.7000000002 MW\n"
     ]
    }
   ],
   "source": [
    "#Now that the datatype of NAMEPCAP is numbers we can add it for all the plants\n",
    "US_MW_Cap=egrid.NAMEPCAP.sum() # I am storing the sum of all the values in NAMECAP into a variable called US_MW\n",
    "print(\"The total name plate capacity of US plants according to eGRID2020 is\", US_MW_Cap, \"MW\")\n",
    "# An alternative is:\n",
    "# US_MW_Cap=egrid[\"NAMEPCAP\"].sum()"
   ]
  },
  {
   "cell_type": "markdown",
   "id": "940f36b2",
   "metadata": {},
   "source": [
    "# c. What was the total power generation in 2020 from these plants?"
   ]
  },
  {
   "cell_type": "code",
   "execution_count": 31,
   "id": "1b825367",
   "metadata": {},
   "outputs": [
    {
     "name": "stdout",
     "output_type": "stream",
     "text": [
      "The data type of the PLNGENAN column in the PLNT tab of eGRID 2020 is  object\n"
     ]
    }
   ],
   "source": [
    "#Check the datatype of the data in PLNGENAN is indeed a number (in fact is a real number with decimals\n",
    "print(\"The data type of the PLNGENAN column in the PLNT tab of eGRID 2020 is \", egrid.PLNGENAN.dtype)"
   ]
  },
  {
   "cell_type": "code",
   "execution_count": 34,
   "id": "39fb0f06",
   "metadata": {},
   "outputs": [
    {
     "name": "stdout",
     "output_type": "stream",
     "text": [
      "Data type of the PLNGENAN column in the PLNT tab of eGRID 2020 is now float64\n"
     ]
    }
   ],
   "source": [
    "#Again we need to convert the datatype of PLNGENAN to a number\n",
    "#we do this with the function pd.to_numeric(dataframe.columnname)\n",
    "egrid.PLNGENAN=pd.to_numeric(egrid.PLNGENAN)\n",
    "print(\"Data type of the PLNGENAN column in the PLNT tab of eGRID 2020 is now\", egrid.PLNGENAN.dtype)"
   ]
  },
  {
   "cell_type": "code",
   "execution_count": 35,
   "id": "43b3ba24",
   "metadata": {},
   "outputs": [
    {
     "name": "stdout",
     "output_type": "stream",
     "text": [
      "The total GENERATION from US plants according to eGRID2020 was 4021549453.402 MWh\n"
     ]
    }
   ],
   "source": [
    "#Now that the datatype of PLNGENAN is numeric we can add it for all the plants\n",
    "US_MWh_Gen=egrid.PLNGENAN.sum() # I am storing the sum of all the values in a variable I choose to call US_MWh_\n",
    "print(\"The total GENERATION from US plants according to eGRID2020 was\", US_MWh_Gen, \"MWh\")"
   ]
  },
  {
   "cell_type": "markdown",
   "id": "b4b8e2c6",
   "metadata": {},
   "source": [
    "# d. How many solar plants were in eGRID 2020?"
   ]
  },
  {
   "cell_type": "code",
   "execution_count": 36,
   "id": "1e52962e",
   "metadata": {},
   "outputs": [
    {
     "data": {
      "text/plain": [
       "array(['WIND', 'GAS', 'OIL', 'HYDRO', 'COAL', 'OTHF', 'BIOMASS', 'OFSL',\n",
       "       'SOLAR', 'NUCLEAR', '', 'GEOTHERMAL'], dtype=object)"
      ]
     },
     "execution_count": 36,
     "metadata": {},
     "output_type": "execute_result"
    }
   ],
   "source": [
    "# First lets find how does eGRID call the solar plants that use solar energy.\n",
    "# lets look at the fuel column and see what are all the values\n",
    "# We use the pandas \"unique\" function which returns an array with all the unique values\n",
    "egrid.PLFUELCT.unique()"
   ]
  },
  {
   "cell_type": "code",
   "execution_count": 37,
   "id": "d5550eda",
   "metadata": {},
   "outputs": [],
   "source": [
    "#Create a new dataframe that only has the solar plants\n",
    "egridSolar=egrid[(egrid.PLFUELCT==\"SOLAR\")]"
   ]
  },
  {
   "cell_type": "code",
   "execution_count": 38,
   "id": "e1708cad",
   "metadata": {},
   "outputs": [
    {
     "name": "stdout",
     "output_type": "stream",
     "text": [
      "The total number of SOLAR plants in the US according to eGRID2020 was 4820\n"
     ]
    }
   ],
   "source": [
    "#Now lets find the length of the new dataframe egridSolar\n",
    "NumSolarPlants=len(egridSolar)\n",
    "print(\"The total number of SOLAR plants in the US according to eGRID2020 was\", NumSolarPlants)"
   ]
  },
  {
   "cell_type": "markdown",
   "id": "4a8213dd",
   "metadata": {},
   "source": [
    "# e. What was the power generation of SOLAR power plants in 2020?"
   ]
  },
  {
   "cell_type": "code",
   "execution_count": 42,
   "id": "426b05d5",
   "metadata": {},
   "outputs": [
    {
     "name": "stdout",
     "output_type": "stream",
     "text": [
      "The total GENERATION from SOLAR US plants according to eGRID2020 was 88969043.38800001 MWh\n"
     ]
    }
   ],
   "source": [
    "US_Solar_MWh_Gen=egridSolar.PLNGENAN.sum() # I am storing the sum of all the values in a variable \n",
    "                                           # I chose to vall this variable US_Solar_MWh_Gen\n",
    "print(\"The total GENERATION from SOLAR US plants according to eGRID2020 was\", US_Solar_MWh_Gen, \"MWh\")"
   ]
  },
  {
   "cell_type": "markdown",
   "id": "108e4326",
   "metadata": {},
   "source": [
    "# f. What percentage of the US 2020 solar generation was from South Carolina and North Carolina"
   ]
  },
  {
   "cell_type": "code",
   "execution_count": 43,
   "id": "d9320a76",
   "metadata": {},
   "outputs": [
    {
     "name": "stdout",
     "output_type": "stream",
     "text": [
      "There are 916 SOLAR plants in NC and SC\n"
     ]
    }
   ],
   "source": [
    "# Extract the SOLAR plants in NC and SC using PSTATABB\n",
    "NCSC_Solar=egridSolar[(egridSolar.PSTATABB==\"NC\")|(egridSolar.PSTATABB==\"SC\")]\n",
    "print(\"There are\",len(NCSC_Solar),\"SOLAR plants in NC and SC\")"
   ]
  },
  {
   "cell_type": "code",
   "execution_count": 44,
   "id": "86b79d85",
   "metadata": {},
   "outputs": [
    {
     "name": "stdout",
     "output_type": "stream",
     "text": [
      "The total GENERATION from SOLAR plants In the CAROLINAS according to eGRID2020 was 9964585.003 MWh\n"
     ]
    }
   ],
   "source": [
    "#Now find the solar generation form the carolinas\n",
    "NCSC_Solar_MWh_Gen=NCSC_Solar.PLNGENAN.sum()\n",
    "print(\"The total GENERATION from SOLAR plants In the CAROLINAS according to eGRID2020 was\", NCSC_Solar_MWh_Gen, \"MWh\")"
   ]
  },
  {
   "cell_type": "code",
   "execution_count": 45,
   "id": "028c2f2d",
   "metadata": {},
   "outputs": [
    {
     "name": "stdout",
     "output_type": "stream",
     "text": [
      "The CAROLINAS according to eGRID2020 generated  11.200058608637358 % of US solar power in 2020\n"
     ]
    }
   ],
   "source": [
    "#Now calculate the percentage by dividing the carolinas generation by the US solar generation\n",
    "NCSC_Solar_Gen_Percent=NCSC_Solar_MWh_Gen/US_Solar_MWh_Gen*100\n",
    "print(\"The CAROLINAS according to eGRID2020 generated \", NCSC_Solar_Gen_Percent, \"% of US solar power in 2020\")"
   ]
  },
  {
   "cell_type": "code",
   "execution_count": null,
   "id": "cc1a9875",
   "metadata": {},
   "outputs": [],
   "source": []
  }
 ],
 "metadata": {
  "kernelspec": {
   "display_name": "Python 3",
   "language": "python",
   "name": "python3"
  },
  "language_info": {
   "codemirror_mode": {
    "name": "ipython",
    "version": 3
   },
   "file_extension": ".py",
   "mimetype": "text/x-python",
   "name": "python",
   "nbconvert_exporter": "python",
   "pygments_lexer": "ipython3",
   "version": "3.8.8"
  }
 },
 "nbformat": 4,
 "nbformat_minor": 5
}
