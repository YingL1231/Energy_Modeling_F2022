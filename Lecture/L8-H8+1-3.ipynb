{
 "cells": [
  {
   "cell_type": "markdown",
   "metadata": {},
   "source": [
    "# Lecture 8"
   ]
  },
  {
   "cell_type": "markdown",
   "metadata": {},
   "source": [
    "# H8-1"
   ]
  },
  {
   "cell_type": "markdown",
   "metadata": {},
   "source": [
    "### Write a function that takes as input a numerical value representing temperature in Celsius and outputs a numerical value representing that temperature in  Fahrenheit"
   ]
  },
  {
   "cell_type": "code",
   "execution_count": 1,
   "metadata": {},
   "outputs": [],
   "source": [
    "def ToFahrenheitFromCelsius(celsius):  #function names are case sensitive\n",
    "    temperature=celsius * 9/5 + 32\n",
    "    return temperature"
   ]
  },
  {
   "cell_type": "code",
   "execution_count": 2,
   "metadata": {},
   "outputs": [
    {
     "name": "stdout",
     "output_type": "stream",
     "text": [
      "A temperature of 40 Celsius is the same as 104.0 Fahrenheit\n"
     ]
    }
   ],
   "source": [
    "print(\"A temperature of 40 Celsius is the same as\",ToFahrenheitFromCelsius(40),\"Fahrenheit\")"
   ]
  },
  {
   "cell_type": "markdown",
   "metadata": {},
   "source": [
    "# H8-2"
   ]
  },
  {
   "cell_type": "markdown",
   "metadata": {},
   "source": [
    "### Write a function in Python that takes as input a numerical value representing temperature in Celsius or  Kelvin (or Fahrenheit) and outputs a numerical value representing that temperature in  Fahrenheit "
   ]
  },
  {
   "cell_type": "code",
   "execution_count": 46,
   "metadata": {},
   "outputs": [],
   "source": [
    "def temp_converter_to_Fahrenheit(units, temperature):\n",
    "    if units == \"Celsius\":\n",
    "        converted = ToFahrenheitFromCelsius(temperature)\n",
    "    elif (units == \"Kelvin\"):\n",
    "        converted = ToFahrenheitFromCelsius(temperature-273)\n",
    "    elif (units == \"Fahrenheit\"):\n",
    "        converted = temperature\n",
    "    else:\n",
    "        converted = \"N/A\"\n",
    "    return converted"
   ]
  },
  {
   "cell_type": "code",
   "execution_count": 48,
   "metadata": {},
   "outputs": [
    {
     "name": "stdout",
     "output_type": "stream",
     "text": [
      "A temperature of 35 Celsius converted to Fahrenheit is 95.0\n"
     ]
    }
   ],
   "source": [
    "#The temperature converter works well if the units are spelled exactly as in the function\n",
    "print(\"A temperature of 35 Celsius converted to Fahrenheit is\",temp_converter_to_Fahrenheit(\"Celsius\",35))"
   ]
  },
  {
   "cell_type": "code",
   "execution_count": 34,
   "metadata": {},
   "outputs": [
    {
     "name": "stdout",
     "output_type": "stream",
     "text": [
      "the temperature converted to Fahrenheit is N/A\n"
     ]
    }
   ],
   "source": [
    "#But the temperature converter does not work with spellings of the units that are different from those in the function\n",
    "#For example, it does not work with \"c\"\n",
    "print(\"the temperature converted to Fahrenheit is\",temp_converter_to_Fahrenheit(\"c\",30))"
   ]
  },
  {
   "cell_type": "markdown",
   "metadata": {},
   "source": [
    "# H8-3 - Using Dictionaries"
   ]
  },
  {
   "cell_type": "code",
   "execution_count": 2,
   "metadata": {},
   "outputs": [],
   "source": [
    "#define a dictionary with different spellings of the \"Celsius\" units\n",
    "#to see how dictionaries work\n",
    "TempUnits={\n",
    "    \"Celsius\":\"Celsius\",\n",
    "    \"CELSIUS\":\"Celsius\",\n",
    "    \"celsius\":\"Celsius\",\n",
    "    \"C\":\"Celsius\",\n",
    "    \"c\":\"Celsius\"\n",
    "}"
   ]
  },
  {
   "cell_type": "code",
   "execution_count": 5,
   "metadata": {},
   "outputs": [
    {
     "name": "stdout",
     "output_type": "stream",
     "text": [
      "the meaning of CELSIUS is  Celsius\n"
     ]
    }
   ],
   "source": [
    "print(\"the meaning of CELSIUS is \",TempUnits[\"CELSIUS\"])"
   ]
  },
  {
   "cell_type": "code",
   "execution_count": 10,
   "metadata": {},
   "outputs": [
    {
     "name": "stdout",
     "output_type": "stream",
     "text": [
      "the meaning of c is Celsius\n"
     ]
    }
   ],
   "source": [
    "#You can also retrieve the VALUE associated to a KEY in a dictionary by using the .get method\n",
    "print (\"the meaning of c is\",TempUnits.get(\"c\"))"
   ]
  },
  {
   "cell_type": "code",
   "execution_count": 2,
   "metadata": {},
   "outputs": [],
   "source": [
    "#create a dictionary with more temperature units\n",
    "TempUnits={\n",
    "    \"Celsius\":\"Celsius\",\n",
    "    \"CELSIUS\":\"Celsius\",\n",
    "    \"celsius\":\"Celsius\",\n",
    "    \"C\":\"Celsius\",\n",
    "    \"c\":\"Celsius\",\n",
    "    \"f\":\"Fahrenheit\",\n",
    "    \"F\":\"Fahrenheit\",\n",
    "    \"FAHRENHEIT\":\"Fahrenheit\",\n",
    "    \"fahrenheit\":\"Fahrenheit\",\n",
    "    \"k\":\"Kelvin\",\n",
    "    \"K\":\"Kelvin\",\n",
    "    \"KELVIN\":\"Kelvin\",\n",
    "}"
   ]
  },
  {
   "cell_type": "code",
   "execution_count": 49,
   "metadata": {},
   "outputs": [
    {
     "name": "stdout",
     "output_type": "stream",
     "text": [
      "the temperature converted to Fahrenheit is N/A\n"
     ]
    }
   ],
   "source": [
    "#Remember that the temperature converter does not work with spellings of the units that are different from those in the function\n",
    "print(\"the temperature converted to Fahrenheit is\",temp_converter_to_Fahrenheit(\"k\",30))"
   ]
  },
  {
   "cell_type": "code",
   "execution_count": 50,
   "metadata": {},
   "outputs": [
    {
     "name": "stdout",
     "output_type": "stream",
     "text": [
      "the temperature converted to Fahrenheit is 30\n"
     ]
    }
   ],
   "source": [
    "#But we can use the dictionary to retrive the correct spelling before passing the units to the temp_converter\n",
    "#We use the value given by the user as a KEY to retrieve the VALUE of the dictionary\n",
    "a=temp_converter_to_Fahrenheit(\"f\",30)\n",
    "print(\"the temperature converted to Fahrenheit is\",temp_converter_to_Fahrenheit(TempUnits[\"f\"],30))"
   ]
  },
  {
   "cell_type": "code",
   "execution_count": 6,
   "metadata": {},
   "outputs": [],
   "source": [
    "#But a better aproach is to improve the temperature converter by using the dictionary INSIDE the function"
   ]
  },
  {
   "cell_type": "code",
   "execution_count": 8,
   "metadata": {},
   "outputs": [
    {
     "name": "stdout",
     "output_type": "stream",
     "text": [
      "Celsius\n"
     ]
    }
   ],
   "source": [
    "#We will use the units specified by the user as a key into the dictionary TempUnits to retrieve the right value\n",
    "#Buf first lets see how it works, assuming the user entered \"c\"\n",
    "units=\"c\"\n",
    "units=TempUnits[units]\n",
    "print(units)"
   ]
  },
  {
   "cell_type": "code",
   "execution_count": 20,
   "metadata": {},
   "outputs": [],
   "source": [
    "def temp_converter_to_Fahrenheit(units, temperature):\n",
    "    units = TempUnits[units]\n",
    "    if units == \"Celsius\":\n",
    "        converted = ToFahrenheitFromCelsius(units,temperature)\n",
    "    elif (units == \"Kelvin\"):\n",
    "        converted = ToFahrenheitFromCelsius(units,temperature-273)\n",
    "    elif (units == \"Fahrenheit\"):\n",
    "        converted = temperature\n",
    "    else:\n",
    "        converted = \"N/A\"\n",
    "    return converted"
   ]
  },
  {
   "cell_type": "code",
   "execution_count": 21,
   "metadata": {},
   "outputs": [
    {
     "name": "stdout",
     "output_type": "stream",
     "text": [
      "the temperature converted to Fahrenheit is 30\n"
     ]
    }
   ],
   "source": [
    "print(\"the temperature converted to Fahrenheit is\",temp_converter_to_Fahrenheit(\"f\",30))"
   ]
  },
  {
   "cell_type": "markdown",
   "metadata": {},
   "source": [
    "# H8-3 using the logical operator OR"
   ]
  },
  {
   "cell_type": "code",
   "execution_count": 54,
   "metadata": {},
   "outputs": [
    {
     "data": {
      "text/plain": [
       "True"
      ]
     },
     "execution_count": 54,
     "metadata": {},
     "output_type": "execute_result"
    }
   ],
   "source": [
    "#We will use the operator OR\n",
    "#We can compare numbers\n",
    "1==2 or 1==1"
   ]
  },
  {
   "cell_type": "code",
   "execution_count": 64,
   "metadata": {},
   "outputs": [
    {
     "data": {
      "text/plain": [
       "True"
      ]
     },
     "execution_count": 64,
     "metadata": {},
     "output_type": "execute_result"
    }
   ],
   "source": [
    "#We can compare strings\n",
    "\"a\"==\"A\" or \"A\"==\"e\" or \"A\"==\"A\""
   ]
  },
  {
   "cell_type": "code",
   "execution_count": 68,
   "metadata": {},
   "outputs": [
    {
     "name": "stdout",
     "output_type": "stream",
     "text": [
      "True\n"
     ]
    }
   ],
   "source": [
    "units = \"c\"\n",
    "LogicalStatement= units == \"Celsius\" or units == \"c\" or units == \"C\" or units == \"CELSIUS\"\n",
    "print(LogicalStatement)"
   ]
  },
  {
   "cell_type": "code",
   "execution_count": 74,
   "metadata": {},
   "outputs": [],
   "source": [
    "def temp_converter_to_Fahrenheit(units, temperature):\n",
    "    if units == \"Celsius\" or units == \"celsius\" or units==\"c\" or units == \"C\" or units == \"CELSIUS\":\n",
    "        converted = ToFahrenheitFromCelsius(temperature)\n",
    "    elif units == \"Kelvin\" or units == \"kelvin\" or units==\"k\" or units ==\"C\" or units==\"KELVIN\":\n",
    "        converted = ToFahrenheitFromCelsius(temperature-273)\n",
    "    elif units == \"Fahrenheit\" or units==\"fahrenheit\" or units==\"f\" or units==\"F\" or units ==\"FAHRENHEIT\":\n",
    "        converted = temperature\n",
    "    else:\n",
    "        converted = \"N/A\"\n",
    "    return converted"
   ]
  },
  {
   "cell_type": "code",
   "execution_count": 77,
   "metadata": {},
   "outputs": [
    {
     "name": "stdout",
     "output_type": "stream",
     "text": [
      "A temperature of 22 Celsius converted to Fahrenheit is 71.6\n"
     ]
    }
   ],
   "source": [
    "print(\"A temperature of 22 Celsius converted to Fahrenheit is\",temp_converter_to_Fahrenheit(\"c\",22))"
   ]
  }
 ],
 "metadata": {
  "kernelspec": {
   "display_name": "Python 3",
   "language": "python",
   "name": "python3"
  },
  "language_info": {
   "codemirror_mode": {
    "name": "ipython",
    "version": 3
   },
   "file_extension": ".py",
   "mimetype": "text/x-python",
   "name": "python",
   "nbconvert_exporter": "python",
   "pygments_lexer": "ipython3",
   "version": "3.8.8"
  }
 },
 "nbformat": 4,
 "nbformat_minor": 2
}
