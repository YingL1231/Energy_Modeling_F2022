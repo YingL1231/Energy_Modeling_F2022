{
  "nbformat": 4,
  "nbformat_minor": 0,
  "metadata": {
    "kernelspec": {
      "display_name": "Python 3",
      "language": "python",
      "name": "python3"
    },
    "language_info": {
      "codemirror_mode": {
        "name": "ipython",
        "version": 3
      },
      "file_extension": ".py",
      "mimetype": "text/x-python",
      "name": "python",
      "nbconvert_exporter": "python",
      "pygments_lexer": "ipython3",
      "version": "3.7.4"
    },
    "colab": {
      "provenance": [],
      "collapsed_sections": [],
      "toc_visible": true,
      "include_colab_link": true
    }
  },
  "cells": [
    {
      "cell_type": "markdown",
      "metadata": {
        "id": "view-in-github",
        "colab_type": "text"
      },
      "source": [
        "<a href=\"https://colab.research.google.com/github/ENV716/Energy_Modeling_F2022/blob/main/Lab/Lab05/Lab05_IntrotoLP_Part1.ipynb\" target=\"_parent\"><img src=\"https://colab.research.google.com/assets/colab-badge.svg\" alt=\"Open In Colab\"/></a>"
      ]
    },
    {
      "cell_type": "markdown",
      "metadata": {
        "id": "UTSWAyK4aXM6"
      },
      "source": [
        "# **Lab 5 - Intro to LPs in Python with PYOMO**"
      ]
    },
    {
      "cell_type": "markdown",
      "metadata": {
        "id": "xGkLoJVsarvC"
      },
      "source": [
        "Learning outcomes for Lab 5:\n",
        "* Learn how to implement a simple LP in Python using PYOMO; \n",
        "* Solve the chemical solution example we explored in the lectures.\n"
      ]
    },
    {
      "cell_type": "markdown",
      "metadata": {
        "id": "FZqW7gHHgKXA"
      },
      "source": [
        "Recall you have two machines A and B and you can produce two types of chemical solutions for CO2 capture. Profit from producing type I is \\$800 and type II \\$600. The units produced are constrained by machine availability. You only have 60 hours in machine A and 48 in machine B. \n",
        "\n",
        "* Type I requires 4h in MA and 2h in MB\n",
        "* Type II requires 2h in MA and 4h in MB\n",
        "\n",
        "![Screen Shot 2021-09-23 at 10.23.03 PM.png](data:image/png;base64,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)\n",
        "\n",
        "This is a small instance with 2 decision variables and 2 constraints. We will explore two ways to implement this model to get you familiar with the Pyomo environment. But keep in mind that for larger models, there are other ways to do it and we will explore them in upcoming labs. "
      ]
    },
    {
      "cell_type": "code",
      "metadata": {
        "colab": {
          "base_uri": "https://localhost:8080/"
        },
        "id": "Ybf3uRt9Z6pT",
        "outputId": "ccfa4829-4450-48cc-ac4e-806da9de876f"
      },
      "source": [
        "from google.colab import drive\n",
        "drive.mount('/content/drive')"
      ],
      "execution_count": 1,
      "outputs": [
        {
          "output_type": "stream",
          "name": "stdout",
          "text": [
            "Mounted at /content/drive\n"
          ]
        }
      ]
    },
    {
      "cell_type": "code",
      "metadata": {
        "id": "zFBz6O9Jbgae"
      },
      "source": [
        "import os\n",
        "os.chdir('/content/drive/MyDrive/Colab Notebooks/')"
      ],
      "execution_count": 2,
      "outputs": []
    },
    {
      "cell_type": "markdown",
      "metadata": {
        "id": "uVXUnISKckjh"
      },
      "source": [
        "## Installing and Running Pyomo on Google Colab"
      ]
    },
    {
      "cell_type": "markdown",
      "metadata": {
        "id": "2TTAb-ffdI4v"
      },
      "source": [
        "To import/install a library that's not in Colaboratory by default, you can use !pip install. This needs to be done at the begining of you notebook. And you only need to run it once at the start of each Colab session."
      ]
    },
    {
      "cell_type": "code",
      "metadata": {
        "colab": {
          "base_uri": "https://localhost:8080/"
        },
        "id": "demwApZCdXt5",
        "outputId": "0e5f84ab-ab0c-4f55-b01a-90cc6ffdaf82"
      },
      "source": [
        "!pip install pyomo"
      ],
      "execution_count": 3,
      "outputs": [
        {
          "output_type": "stream",
          "name": "stdout",
          "text": [
            "Looking in indexes: https://pypi.org/simple, https://us-python.pkg.dev/colab-wheels/public/simple/\n",
            "Collecting pyomo\n",
            "  Downloading Pyomo-6.4.2-cp37-cp37m-manylinux_2_12_x86_64.manylinux2010_x86_64.whl (9.7 MB)\n",
            "\u001b[K     |████████████████████████████████| 9.7 MB 4.5 MB/s \n",
            "\u001b[?25hCollecting ply\n",
            "  Downloading ply-3.11-py2.py3-none-any.whl (49 kB)\n",
            "\u001b[K     |████████████████████████████████| 49 kB 5.6 MB/s \n",
            "\u001b[?25hInstalling collected packages: ply, pyomo\n",
            "Successfully installed ply-3.11 pyomo-6.4.2\n"
          ]
        }
      ]
    },
    {
      "cell_type": "markdown",
      "metadata": {
        "id": "z1gRSEXcdnms"
      },
      "source": [
        "## Installing optimization solver\n",
        "\n",
        "Pyomo does not include any optimization solvers. Therefore, you will need to install third-party solvers to solve optimization models built with Pyomo. There are several solver options, for this class we will use glpk and/or cbc.\n",
        "We'll install glpk using apt-get. The verbose -y and -qq ??"
      ]
    },
    {
      "cell_type": "code",
      "metadata": {
        "id": "7SacEI5mdxI2",
        "colab": {
          "base_uri": "https://localhost:8080/"
        },
        "outputId": "9f5460ce-6009-447e-9e3b-c1091dc61473"
      },
      "source": [
        "!apt-get install -y -qq glpk-utils"
      ],
      "execution_count": 4,
      "outputs": [
        {
          "output_type": "stream",
          "name": "stdout",
          "text": [
            "Selecting previously unselected package libsuitesparseconfig5:amd64.\n",
            "(Reading database ... 159447 files and directories currently installed.)\n",
            "Preparing to unpack .../libsuitesparseconfig5_1%3a5.1.2-2_amd64.deb ...\n",
            "Unpacking libsuitesparseconfig5:amd64 (1:5.1.2-2) ...\n",
            "Selecting previously unselected package libamd2:amd64.\n",
            "Preparing to unpack .../libamd2_1%3a5.1.2-2_amd64.deb ...\n",
            "Unpacking libamd2:amd64 (1:5.1.2-2) ...\n",
            "Selecting previously unselected package libcolamd2:amd64.\n",
            "Preparing to unpack .../libcolamd2_1%3a5.1.2-2_amd64.deb ...\n",
            "Unpacking libcolamd2:amd64 (1:5.1.2-2) ...\n",
            "Selecting previously unselected package libglpk40:amd64.\n",
            "Preparing to unpack .../libglpk40_4.65-1_amd64.deb ...\n",
            "Unpacking libglpk40:amd64 (4.65-1) ...\n",
            "Selecting previously unselected package glpk-utils.\n",
            "Preparing to unpack .../glpk-utils_4.65-1_amd64.deb ...\n",
            "Unpacking glpk-utils (4.65-1) ...\n",
            "Setting up libsuitesparseconfig5:amd64 (1:5.1.2-2) ...\n",
            "Setting up libcolamd2:amd64 (1:5.1.2-2) ...\n",
            "Setting up libamd2:amd64 (1:5.1.2-2) ...\n",
            "Setting up libglpk40:amd64 (4.65-1) ...\n",
            "Setting up glpk-utils (4.65-1) ...\n",
            "Processing triggers for libc-bin (2.27-3ubuntu1.5) ...\n",
            "Processing triggers for man-db (2.8.3-2ubuntu0.1) ...\n"
          ]
        }
      ]
    },
    {
      "cell_type": "markdown",
      "metadata": {
        "id": "tGwd2ywmeJ72"
      },
      "source": [
        "## Import Pyomo and solver\n",
        "\n",
        "The first step in any Pyomo project is to import relevant components of the Pyomo library. This can be done with the following python statement 'from pyomo.environ import *'. \\\\\n",
        "\n",
        "We use the * symbol to elimate the need of using the expression pyomo.environ every time we need to use a pyomo function. \\\\\n",
        "\n",
        "You also need to load the solver. The Pyomo libary includes a SolverFactory() class used to specify a solver. Here you have two options.\n",
        "* **cbc** from Coin OR or\n",
        "* **glpk** \\\\\n",
        "\n",
        "Both solvers will work for linear problems, put cbc could also be used for nonlinear applications. Let's use glpk today."
      ]
    },
    {
      "cell_type": "code",
      "metadata": {
        "id": "qR3PKPtvZ4eL"
      },
      "source": [
        "from pyomo.environ import *\n",
        "#Import solver\n",
        "opt=SolverFactory('glpk')"
      ],
      "execution_count": 5,
      "outputs": []
    },
    {
      "cell_type": "markdown",
      "metadata": {
        "id": "civp5i5Nfn4N"
      },
      "source": [
        "## Create Model"
      ]
    },
    {
      "cell_type": "markdown",
      "metadata": {
        "id": "GZ0gYgRxhcil"
      },
      "source": [
        "The next thing you need to do is initialize the model. The are two options with Pyomo for model building: AbstractModel() and ConcreteModel(). The file “PyomoFundamentals.pdf” will explain the differences in details. In a nutshell concrete models are immediately constructed and data is presented when components like variables, constraints and objective function are created. The abstract model is useful when you will run the same optimization model for different data sets, or when you will import data that is stored in a excel spreadsheet. You can create an abstract model even before entering/importing the data set.\n",
        "\n",
        "For the chemical solutions example, since we already have all the data we need, let’s build a concrete model. Let’s create the model and name it “model” using the following command.\n"
      ]
    },
    {
      "cell_type": "code",
      "metadata": {
        "id": "r6JPTe1wZ4eO"
      },
      "source": [
        "#Creating model\n",
        "model = ConcreteModel()"
      ],
      "execution_count": 6,
      "outputs": []
    },
    {
      "cell_type": "markdown",
      "metadata": {
        "id": "e58zGUr7h-xy"
      },
      "source": [
        "## Add model components\n",
        "\n",
        "The first components we will add to the model are the decision variables. We will use class Var() to specify the variable type using the domain argument. The number of units type I and II will be a continuous number greater than equal to zero."
      ]
    },
    {
      "cell_type": "code",
      "metadata": {
        "id": "YE5xztjNZ4eO"
      },
      "source": [
        "#Adding decision variables\n",
        "model.x1 = Var(domain=NonNegativeReals)\n",
        "model.x2 = Var(domain=NonNegativeReals)\n",
        "#model.x2 = Var(domain=Reals,bounds=(0,None))  #alternative way to define variables"
      ],
      "execution_count": 7,
      "outputs": []
    },
    {
      "cell_type": "markdown",
      "metadata": {
        "id": "PsfRa8uNibiz"
      },
      "source": [
        "The domain argument could also be used to specify other type of variables like Real, Integers and Booleans. The class Var() has also an argument to set bounds on decision variables, for example Var(domain=Reals, bounds=(0,None)) is the same of defining domain equal NonNegativeReals. \\\\\n",
        "\n",
        "The second component we will add is objective function. Recall an objective function is an expression involving decision variables. We will store it in model.profit and use the class Objective() to define the expression and sense of the optimization model.\n"
      ]
    },
    {
      "cell_type": "code",
      "metadata": {
        "id": "2RM0lZ67Z4eP"
      },
      "source": [
        "#Adding objective function\n",
        "model.profit = Objective(expr = 800*model.x1 + 600*model.x2, sense=maximize)"
      ],
      "execution_count": 8,
      "outputs": []
    },
    {
      "cell_type": "markdown",
      "metadata": {
        "id": "bM3QN1aTiiPK"
      },
      "source": [
        "The third component we will add is the constraints using the class Constraint(). The expression is specified using the argument expr. "
      ]
    },
    {
      "cell_type": "code",
      "metadata": {
        "id": "RG0HUR9zZ4eP"
      },
      "source": [
        "#Adding constraints\n",
        "model.machA = Constraint(expr = 4*model.x1 + 2*model.x2 <= 60)\n",
        "model.machB = Constraint(expr = 2*model.x1 + 4*model.x2 <= 48)"
      ],
      "execution_count": 9,
      "outputs": []
    },
    {
      "cell_type": "markdown",
      "metadata": {
        "id": "WMG4zeoGim95"
      },
      "source": [
        "## Solve the model\n",
        "\n",
        "We already specified the solver now all we need to do is call solve(). The solve() method attempts to solve the model using the specified solver. And you can add a few lines to print the results as below. "
      ]
    },
    {
      "cell_type": "code",
      "metadata": {
        "scrolled": true,
        "colab": {
          "base_uri": "https://localhost:8080/"
        },
        "id": "3O9hHwECZ4eP",
        "outputId": "95b6f3c7-d2de-4d92-b5a1-4956d2c7d780"
      },
      "source": [
        "#Solve Model\n",
        "results = opt.solve(model)\n",
        "\n",
        "#Print results\n",
        "print('Profit = ', model.profit())\n",
        "print('\\nDecision Variables')\n",
        "print('x1 = ', model.x1())\n",
        "print('x2 = ', model.x2())"
      ],
      "execution_count": 10,
      "outputs": [
        {
          "output_type": "stream",
          "name": "stdout",
          "text": [
            "Profit =  13200.0\n",
            "\n",
            "Decision Variables\n",
            "x1 =  12.0\n",
            "x2 =  6.0\n"
          ]
        }
      ]
    },
    {
      "cell_type": "code",
      "metadata": {
        "colab": {
          "base_uri": "https://localhost:8080/"
        },
        "id": "BL4IM6mKZ4eQ",
        "outputId": "5b47dcaf-9af1-4009-80ab-7b24e76fe660"
      },
      "source": [
        "print('\\nConstraints')\n",
        "print('Mach A = ', model.machA())\n",
        "print('Mach B = ', model.machB())"
      ],
      "execution_count": 11,
      "outputs": [
        {
          "output_type": "stream",
          "name": "stdout",
          "text": [
            "\n",
            "Constraints\n",
            "Mach A =  60.0\n",
            "Mach B =  48.0\n"
          ]
        }
      ]
    },
    {
      "cell_type": "code",
      "metadata": {
        "scrolled": true,
        "colab": {
          "base_uri": "https://localhost:8080/"
        },
        "id": "oOW5fft9Z4eR",
        "outputId": "357a52b8-bd04-4ba6-c1ff-adb7a67ecaab"
      },
      "source": [
        "#results.write()\n",
        "if results.solver.status == 'ok':\n",
        "    model.pprint()"
      ],
      "execution_count": 12,
      "outputs": [
        {
          "output_type": "stream",
          "name": "stdout",
          "text": [
            "2 Var Declarations\n",
            "    x1 : Size=1, Index=None\n",
            "        Key  : Lower : Value : Upper : Fixed : Stale : Domain\n",
            "        None :     0 :  12.0 :  None : False : False : NonNegativeReals\n",
            "    x2 : Size=1, Index=None\n",
            "        Key  : Lower : Value : Upper : Fixed : Stale : Domain\n",
            "        None :     0 :   6.0 :  None : False : False : NonNegativeReals\n",
            "\n",
            "1 Objective Declarations\n",
            "    profit : Size=1, Index=None, Active=True\n",
            "        Key  : Active : Sense    : Expression\n",
            "        None :   True : maximize : 800*x1 + 600*x2\n",
            "\n",
            "2 Constraint Declarations\n",
            "    machA : Size=1, Index=None, Active=True\n",
            "        Key  : Lower : Body        : Upper : Active\n",
            "        None :  -Inf : 4*x1 + 2*x2 :  60.0 :   True\n",
            "    machB : Size=1, Index=None, Active=True\n",
            "        Key  : Lower : Body        : Upper : Active\n",
            "        None :  -Inf : 2*x1 + 4*x2 :  48.0 :   True\n",
            "\n",
            "5 Declarations: x1 x2 profit machA machB\n"
          ]
        }
      ]
    },
    {
      "cell_type": "markdown",
      "metadata": {
        "id": "bf5e4kvimD67"
      },
      "source": [
        "## How to get shadow prices?"
      ]
    },
    {
      "cell_type": "markdown",
      "metadata": {
        "id": "mcPzY0ORmbEt"
      },
      "source": [
        "Access to shadow prices values is similar to accessing decision variables values, except that shadow prices are not captured by default so additional specifications are needed before solving the model to signal that shadow prices are desired. The dual suffix is where you can access shadow prices."
      ]
    },
    {
      "cell_type": "code",
      "metadata": {
        "id": "Gn8TJet7mjLO"
      },
      "source": [
        "#calculating shadow prices\n",
        "model.dual=Suffix(direction=Suffix.IMPORT)"
      ],
      "execution_count": 13,
      "outputs": []
    },
    {
      "cell_type": "markdown",
      "metadata": {
        "id": "_Or7Kcq4mxWX"
      },
      "source": [
        "Then all you need to do is solve the model and print results plus shadow prices."
      ]
    },
    {
      "cell_type": "code",
      "metadata": {
        "colab": {
          "base_uri": "https://localhost:8080/"
        },
        "id": "UpLy4cFhmzbB",
        "outputId": "e4b339b3-d002-4af1-d149-0b7cd52fb411"
      },
      "source": [
        "#Solve Model\n",
        "results = opt.solve(model)\n",
        "\n",
        "print(\"Shadow Prices\")\n",
        "model.dual.pprint()"
      ],
      "execution_count": 14,
      "outputs": [
        {
          "output_type": "stream",
          "name": "stdout",
          "text": [
            "Shadow Prices\n",
            "dual : Direction=Suffix.IMPORT, Datatype=Suffix.FLOAT\n",
            "    Key   : Value\n",
            "    machA : 166.666666666667\n",
            "    machB : 66.6666666666667\n"
          ]
        }
      ]
    },
    {
      "cell_type": "markdown",
      "metadata": {
        "id": "Q20IFapykf_m"
      },
      "source": [
        "## Exercise 1 \n",
        "\n",
        "Change the model to incorporate a new constraint that says total number of units type I and type II cannot exceed 15. Create a new model and call it 'model2'. Solve the model.\n"
      ]
    },
    {
      "cell_type": "code",
      "metadata": {
        "id": "QwutRBYHlyG3"
      },
      "source": [
        "#your model"
      ],
      "execution_count": null,
      "outputs": []
    },
    {
      "cell_type": "markdown",
      "metadata": {
        "id": "9VAhVyZRl1RQ"
      },
      "source": [
        "## Exercise 2\n",
        "\n",
        "Change the model to incorporate a new constraint that says total number of units type I cannot exceed 11. Create a new model and call it 'model3'. Solve the model."
      ]
    },
    {
      "cell_type": "code",
      "metadata": {
        "id": "t9B-Zux3l-C6"
      },
      "source": [
        "#your model"
      ],
      "execution_count": null,
      "outputs": []
    }
  ]
}