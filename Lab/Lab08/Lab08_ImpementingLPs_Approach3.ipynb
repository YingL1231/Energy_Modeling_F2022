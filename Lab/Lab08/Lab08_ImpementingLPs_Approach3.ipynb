{
  "nbformat": 4,
  "nbformat_minor": 0,
  "metadata": {
    "kernelspec": {
      "display_name": "Python 3",
      "language": "python",
      "name": "python3"
    },
    "language_info": {
      "codemirror_mode": {
        "name": "ipython",
        "version": 3
      },
      "file_extension": ".py",
      "mimetype": "text/x-python",
      "name": "python",
      "nbconvert_exporter": "python",
      "pygments_lexer": "ipython3",
      "version": "3.7.4"
    },
    "colab": {
      "provenance": [],
      "collapsed_sections": [],
      "toc_visible": true,
      "include_colab_link": true
    }
  },
  "cells": [
    {
      "cell_type": "markdown",
      "metadata": {
        "id": "view-in-github",
        "colab_type": "text"
      },
      "source": [
        "<a href=\"https://colab.research.google.com/github/ENV716/Energy_Modeling_F2022/blob/main/Lab/Lab08/Lab08_ImpementingLPs_Approach3.ipynb\" target=\"_parent\"><img src=\"https://colab.research.google.com/assets/colab-badge.svg\" alt=\"Open In Colab\"/></a>"
      ]
    },
    {
      "cell_type": "markdown",
      "metadata": {
        "id": "Y14uvsnh0e75"
      },
      "source": [
        "# **Lab 08 - LPs in Pythin with Set(), Param() and Dictionarioes (Approach 3)**\n"
      ]
    },
    {
      "cell_type": "markdown",
      "metadata": {
        "id": "RRVCA3_S17L0"
      },
      "source": [
        "## Initializing "
      ]
    },
    {
      "cell_type": "code",
      "metadata": {
        "colab": {
          "base_uri": "https://localhost:8080/"
        },
        "id": "p9RjfZs31rSC",
        "outputId": "7f20f786-74b4-44e3-84a1-813340cfda53"
      },
      "source": [
        "from google.colab import drive\n",
        "drive.mount('/content/drive')\n",
        "\n",
        "import os\n",
        "os.chdir('/content/drive/MyDrive/Colab Notebooks/')"
      ],
      "execution_count": 1,
      "outputs": [
        {
          "output_type": "stream",
          "name": "stdout",
          "text": [
            "Mounted at /content/drive\n"
          ]
        }
      ]
    },
    {
      "cell_type": "markdown",
      "metadata": {
        "id": "iCRbHUT8110g"
      },
      "source": [
        "Installing Pyomo and glpk solver."
      ]
    },
    {
      "cell_type": "code",
      "metadata": {
        "colab": {
          "base_uri": "https://localhost:8080/"
        },
        "id": "jAqq5CgB2CdL",
        "outputId": "b7b099f5-9022-4292-8fe2-9a2a58b95f0f"
      },
      "source": [
        "!pip install pyomo\n",
        "!apt-get install -y -qq glpk-utils"
      ],
      "execution_count": 2,
      "outputs": [
        {
          "output_type": "stream",
          "name": "stdout",
          "text": [
            "Looking in indexes: https://pypi.org/simple, https://us-python.pkg.dev/colab-wheels/public/simple/\n",
            "Collecting pyomo\n",
            "  Downloading Pyomo-6.4.2-cp37-cp37m-manylinux_2_12_x86_64.manylinux2010_x86_64.whl (9.7 MB)\n",
            "\u001b[K     |████████████████████████████████| 9.7 MB 5.1 MB/s \n",
            "\u001b[?25hCollecting ply\n",
            "  Downloading ply-3.11-py2.py3-none-any.whl (49 kB)\n",
            "\u001b[K     |████████████████████████████████| 49 kB 5.1 MB/s \n",
            "\u001b[?25hInstalling collected packages: ply, pyomo\n",
            "Successfully installed ply-3.11 pyomo-6.4.2\n",
            "Selecting previously unselected package libsuitesparseconfig5:amd64.\n",
            "(Reading database ... 123942 files and directories currently installed.)\n",
            "Preparing to unpack .../libsuitesparseconfig5_1%3a5.1.2-2_amd64.deb ...\n",
            "Unpacking libsuitesparseconfig5:amd64 (1:5.1.2-2) ...\n",
            "Selecting previously unselected package libamd2:amd64.\n",
            "Preparing to unpack .../libamd2_1%3a5.1.2-2_amd64.deb ...\n",
            "Unpacking libamd2:amd64 (1:5.1.2-2) ...\n",
            "Selecting previously unselected package libcolamd2:amd64.\n",
            "Preparing to unpack .../libcolamd2_1%3a5.1.2-2_amd64.deb ...\n",
            "Unpacking libcolamd2:amd64 (1:5.1.2-2) ...\n",
            "Selecting previously unselected package libglpk40:amd64.\n",
            "Preparing to unpack .../libglpk40_4.65-1_amd64.deb ...\n",
            "Unpacking libglpk40:amd64 (4.65-1) ...\n",
            "Selecting previously unselected package glpk-utils.\n",
            "Preparing to unpack .../glpk-utils_4.65-1_amd64.deb ...\n",
            "Unpacking glpk-utils (4.65-1) ...\n",
            "Setting up libsuitesparseconfig5:amd64 (1:5.1.2-2) ...\n",
            "Setting up libcolamd2:amd64 (1:5.1.2-2) ...\n",
            "Setting up libamd2:amd64 (1:5.1.2-2) ...\n",
            "Setting up libglpk40:amd64 (4.65-1) ...\n",
            "Setting up glpk-utils (4.65-1) ...\n",
            "Processing triggers for libc-bin (2.27-3ubuntu1.6) ...\n",
            "Processing triggers for man-db (2.8.3-2ubuntu0.1) ...\n"
          ]
        }
      ]
    },
    {
      "cell_type": "markdown",
      "metadata": {
        "id": "uDsRodub2IFw"
      },
      "source": [
        "Importing pyomo and solver."
      ]
    },
    {
      "cell_type": "code",
      "metadata": {
        "id": "KF4yLGmk0Wp-"
      },
      "source": [
        "from pyomo.environ import *\n",
        "#Import solver\n",
        "opt=SolverFactory('glpk')"
      ],
      "execution_count": 3,
      "outputs": []
    },
    {
      "cell_type": "markdown",
      "source": [
        "## Compare differentt approaches\n",
        "\n",
        "\n",
        "\n"
      ],
      "metadata": {
        "id": "nrQsMe20UhQV"
      }
    },
    {
      "cell_type": "markdown",
      "source": [
        "Recall: \n",
        "* Approach 1: With values/scalar and one constraint at a time (refer to Lab 06 file)\n",
        "* Approach 2: With vector/matrices format, indexes and sets, adding constraints in blocks with for loops (refer to Lab 07)\n",
        "* Approach 3: With Set(), Param(), dictionaries and functions (preferred)"
      ],
      "metadata": {
        "id": "uCYSlVqYVcgu"
      }
    },
    {
      "cell_type": "markdown",
      "source": [
        "## Problem formulation: manufacturing facility"
      ],
      "metadata": {
        "id": "or5SDIwib8MM"
      }
    },
    {
      "cell_type": "markdown",
      "source": [
        "We will implement the chemical solutions model again using model objects (Sets() and Param()), using dictionaries to specify parameters, indexing decision variables and constraints by sets, using user defined function to define constraints and objective function in a more general form.\n",
        "\n",
        "Start by writing the LP formulation indexed by sets and in standard form. \n",
        "\n",
        "Sets: \\\\\n",
        "$m∈ M:$ set of machines A and B \\\\\n",
        "$p∈P:$ set of chemical solution types I and II\n",
        "\n",
        "Parameters:  \\\\\n",
        "$a_{m,p}:$ number of hours on machine m needed to produce chemical solution type $p$ \\\\\n",
        "$H_m:$  number of hours available on machine $m$ \\\\\n",
        "$C_p:$ profit gained from producing type $p$ \\\\\n",
        "\n",
        "Decision Variables: \\\\\n",
        "$x_p:$ number of units of type p to produce \\\\\n",
        "\n",
        "Problem Formulation: \\\\  \n",
        "$ max_x\t\\sum_{p\\in P}c_p*x_p$ \\\\\n",
        "$ s.t.\t\\sum_{p\\in P}a_{m,p}*x_p ≤ H_m  \\quad ∀ m \\in M $ \\\\\n",
        "$ \\quad \\quad \\quad x_p ≥ 0 \\quad \\quad \\quad \\quad   ∀p\\in P $ \\\\\n",
        "\n",
        "Now let’s start by adding sets and parameters to the model. Because we are using objects Sets() and Param(), the assigned names should start with “model.”."
      ],
      "metadata": {
        "id": "A4fXVBwGUuro"
      }
    },
    {
      "cell_type": "markdown",
      "source": [
        "## Creating model, defining sets and parameters"
      ],
      "metadata": {
        "id": "_4C_QBZGcLLO"
      }
    },
    {
      "cell_type": "code",
      "source": [
        "#using sets and parameter\n",
        "model=ConcreteModel()\n",
        "\n",
        "#Sets\n",
        "model.M=Set(initialize=['MA','MB'])  #set of machines\n",
        "model.P=Set(initialize=['TypeI','TypeII']) #set of solution types\n",
        "\n",
        "#Parameters\n",
        "model.c=Param(model.P,initialize={'TypeI':800,'TypeII':600})  #profit for each unit Type\n",
        "model.H=Param(model.M,initialize={'MA':60,'MB':48}) #hours available on each machine\n",
        "model.a=Param(model.M,model.P,initialize={\n",
        "    ('MA','TypeI'):4,\n",
        "    ('MA','TypeII'):2,\n",
        "    ('MB','TypeI'):2,\n",
        "    ('MB','TypeII'):4}) #hours need for each unit at each machine"
      ],
      "metadata": {
        "id": "414AAnYDV0kc"
      },
      "execution_count": 8,
      "outputs": []
    },
    {
      "cell_type": "markdown",
      "source": [
        "## Defining decision variables"
      ],
      "metadata": {
        "id": "ir2y09IrcQoc"
      }
    },
    {
      "cell_type": "markdown",
      "source": [
        "Next define the decision variables, objective function and constraint also indexed by set. For generalization purpose note that we use user defined function to enter the expressions. Most of the formulation you will find on the internet will use this syntax. Don’t forget object “model” will always be an argument to your function. And if you need to add a constraint for all elements within a specific set, those elements should also be an argument to your function. Note that now instead if using the “exp=” we are using “rule=”."
      ],
      "metadata": {
        "id": "kTJN1g0pV3Ph"
      }
    },
    {
      "cell_type": "code",
      "source": [
        "#add dec variables\n",
        "model.X=Var(model.P,domain=NonNegativeReals)"
      ],
      "metadata": {
        "id": "wYtdZmX-V4Zu"
      },
      "execution_count": 9,
      "outputs": []
    },
    {
      "cell_type": "code",
      "metadata": {
        "id": "Ulml4g9hJH8_",
        "colab": {
          "base_uri": "https://localhost:8080/"
        },
        "outputId": "c86e95c2-d5be-436b-f5fc-95e9032e49f2"
      },
      "source": [
        "## Added for ilustration\n",
        "model.X.pprint()"
      ],
      "execution_count": 10,
      "outputs": [
        {
          "output_type": "stream",
          "name": "stdout",
          "text": [
            "X : Size=2, Index=P\n",
            "    Key    : Lower : Value : Upper : Fixed : Stale : Domain\n",
            "     TypeI :     0 :  None :  None : False :  True : NonNegativeReals\n",
            "    TypeII :     0 :  None :  None : False :  True : NonNegativeReals\n"
          ]
        }
      ]
    },
    {
      "cell_type": "markdown",
      "source": [
        "## Defining objective function"
      ],
      "metadata": {
        "id": "itWErfbVcUZU"
      }
    },
    {
      "cell_type": "code",
      "source": [
        "#add obj func by defining a function and then we call argument rule instead of expr\n",
        "def obj_profit(model):\n",
        "    return sum(model.c[p]*model.X[p] for p in model.P)\n",
        "model.profit=Objective(sense=maximize,rule=obj_profit)"
      ],
      "metadata": {
        "id": "xdhtwY9JZqAg"
      },
      "execution_count": 11,
      "outputs": []
    },
    {
      "cell_type": "code",
      "metadata": {
        "id": "Fm1RX33vJPLW",
        "colab": {
          "base_uri": "https://localhost:8080/"
        },
        "outputId": "6c913cc9-77b6-4f88-ede7-2d8a2a558e19"
      },
      "source": [
        "## Added for ilustration\n",
        "model.profit.pprint()"
      ],
      "execution_count": 23,
      "outputs": [
        {
          "output_type": "stream",
          "name": "stdout",
          "text": [
            "profit : Size=1, Index=None, Active=True\n",
            "    Key  : Active : Sense    : Expression\n",
            "    None :   True : maximize : 800*X[TypeI] + 600*X[TypeII]\n"
          ]
        }
      ]
    },
    {
      "cell_type": "markdown",
      "source": [
        "## Defining constraints"
      ],
      "metadata": {
        "id": "NQJc8f34cYo4"
      }
    },
    {
      "cell_type": "code",
      "source": [
        "#similar idea for adding constraints\n",
        "def mach_hours(model,m):\n",
        "    return sum(model.a[m,p]*model.X[p] for p in model.P) <= model.H[m]\n",
        "model.mach=Constraint(model.M,rule=mach_hours)"
      ],
      "metadata": {
        "id": "kxHd2k6BZguh"
      },
      "execution_count": 14,
      "outputs": []
    },
    {
      "cell_type": "code",
      "metadata": {
        "id": "P982eZUPJUQ3",
        "colab": {
          "base_uri": "https://localhost:8080/"
        },
        "outputId": "5a87d4b3-cc38-45bf-bcdc-c53b68f13489"
      },
      "source": [
        "## Added for for ilustration\n",
        "for m in model.M:\n",
        "    print(model.mach[m].expr)"
      ],
      "execution_count": 18,
      "outputs": [
        {
          "output_type": "stream",
          "name": "stdout",
          "text": [
            "4*X[TypeI] + 2*X[TypeII]  <=  60\n",
            "2*X[TypeI] + 4*X[TypeII]  <=  48\n"
          ]
        }
      ]
    },
    {
      "cell_type": "markdown",
      "source": [
        "## Solving the model"
      ],
      "metadata": {
        "id": "mTohZzFHcbJA"
      }
    },
    {
      "cell_type": "markdown",
      "source": [
        "Then all you need to do is solve the model and print the results."
      ],
      "metadata": {
        "id": "OhsCS2OGWMZ3"
      }
    },
    {
      "cell_type": "code",
      "source": [
        "#Solve model\n",
        "opt.solve(model)\n",
        "\n",
        "#Print results\n",
        "print(\"Profit =\",model.profit())\n",
        "print(\"Decision Variables\")\n",
        "for p in model.P:\n",
        "    print(model.X[p],model.X[p].value)"
      ],
      "metadata": {
        "id": "hfqQYJP4WLhU",
        "colab": {
          "base_uri": "https://localhost:8080/"
        },
        "outputId": "59660976-45ad-440c-8573-d6fb59bec193"
      },
      "execution_count": 17,
      "outputs": [
        {
          "output_type": "stream",
          "name": "stdout",
          "text": [
            "Profit = 13200.0\n",
            "Decision Variables\n",
            "X[TypeI] 12.0\n",
            "X[TypeII] 6.0\n"
          ]
        }
      ]
    }
  ]
}