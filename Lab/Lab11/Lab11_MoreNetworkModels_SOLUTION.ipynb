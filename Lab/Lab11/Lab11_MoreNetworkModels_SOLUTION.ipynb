{
  "nbformat": 4,
  "nbformat_minor": 0,
  "metadata": {
    "kernelspec": {
      "display_name": "Python 3",
      "language": "python",
      "name": "python3"
    },
    "language_info": {
      "codemirror_mode": {
        "name": "ipython",
        "version": 3
      },
      "file_extension": ".py",
      "mimetype": "text/x-python",
      "name": "python",
      "nbconvert_exporter": "python",
      "pygments_lexer": "ipython3",
      "version": "3.7.4"
    },
    "colab": {
      "provenance": [],
      "toc_visible": true,
      "include_colab_link": true
    }
  },
  "cells": [
    {
      "cell_type": "markdown",
      "metadata": {
        "id": "view-in-github",
        "colab_type": "text"
      },
      "source": [
        "<a href=\"https://colab.research.google.com/github/ENV716/Energy_Modeling_F2022/blob/main/Lab/Lab11/Lab11_MoreNetworkModels_SOLUTION.ipynb\" target=\"_parent\"><img src=\"https://colab.research.google.com/assets/colab-badge.svg\" alt=\"Open In Colab\"/></a>"
      ]
    },
    {
      "cell_type": "markdown",
      "metadata": {
        "id": "P0sInrLWNjGn"
      },
      "source": [
        "# **Lab 11 - More Network Models with Pyomo**\n"
      ]
    },
    {
      "cell_type": "markdown",
      "metadata": {
        "id": "9Mc0pKi9UtBk"
      },
      "source": [
        "Learning goals for Lab 11:\n",
        "* Implement other types of Network Models - Max flow;\n",
        "* Implement other types of Network Models - Shortest path.\n"
      ]
    },
    {
      "cell_type": "markdown",
      "metadata": {
        "id": "RRVCA3_S17L0"
      },
      "source": [
        "## Initializing "
      ]
    },
    {
      "cell_type": "code",
      "metadata": {
        "colab": {
          "base_uri": "https://localhost:8080/"
        },
        "id": "p9RjfZs31rSC",
        "outputId": "83e4b311-8d2b-4b31-fbe9-7883f196dec7"
      },
      "source": [
        "from google.colab import drive\n",
        "drive.mount('/content/drive')\n",
        "import os\n",
        "os.chdir('/content/drive/MyDrive/Colab Notebooks/')"
      ],
      "execution_count": 2,
      "outputs": [
        {
          "output_type": "stream",
          "name": "stdout",
          "text": [
            "Mounted at /content/drive\n"
          ]
        }
      ]
    },
    {
      "cell_type": "markdown",
      "metadata": {
        "id": "iCRbHUT8110g"
      },
      "source": [
        "Installing Pyomo and solver. Recall for teh shortest path example we have binary variables so we will need to use another solver. Instead of installing glpk, thsi time we will install COIN-OR CBC. \\\\ \n",
        "COIN-OR CBC is a multi-threaded open-source Coin-or branch and cut **mixed-integer linear programming solver**. CBC is generally a good choice for a general purpose MILP solver for medium to large scale problems."
      ]
    },
    {
      "cell_type": "code",
      "metadata": {
        "id": "jAqq5CgB2CdL",
        "colab": {
          "base_uri": "https://localhost:8080/"
        },
        "outputId": "a59a9d11-917b-4660-c658-4263d38f713e"
      },
      "source": [
        "!pip install pyomo\n",
        "#!apt-get install -y -qq glpk-utils\n",
        "!apt-get install -y -qq coinor-cbc"
      ],
      "execution_count": 3,
      "outputs": [
        {
          "output_type": "stream",
          "name": "stdout",
          "text": [
            "Looking in indexes: https://pypi.org/simple, https://us-python.pkg.dev/colab-wheels/public/simple/\n",
            "Collecting pyomo\n",
            "  Downloading Pyomo-6.4.2-cp37-cp37m-manylinux_2_12_x86_64.manylinux2010_x86_64.whl (9.7 MB)\n",
            "\u001b[K     |████████████████████████████████| 9.7 MB 6.8 MB/s \n",
            "\u001b[?25hCollecting ply\n",
            "  Downloading ply-3.11-py2.py3-none-any.whl (49 kB)\n",
            "\u001b[K     |████████████████████████████████| 49 kB 5.9 MB/s \n",
            "\u001b[?25hInstalling collected packages: ply, pyomo\n",
            "Successfully installed ply-3.11 pyomo-6.4.2\n",
            "Selecting previously unselected package coinor-libcoinutils3v5.\n",
            "(Reading database ... 123991 files and directories currently installed.)\n",
            "Preparing to unpack .../0-coinor-libcoinutils3v5_2.10.14+repack1-1_amd64.deb ...\n",
            "Unpacking coinor-libcoinutils3v5 (2.10.14+repack1-1) ...\n",
            "Selecting previously unselected package coinor-libosi1v5.\n",
            "Preparing to unpack .../1-coinor-libosi1v5_0.107.9+repack1-1_amd64.deb ...\n",
            "Unpacking coinor-libosi1v5 (0.107.9+repack1-1) ...\n",
            "Selecting previously unselected package coinor-libclp1.\n",
            "Preparing to unpack .../2-coinor-libclp1_1.16.11+repack1-1_amd64.deb ...\n",
            "Unpacking coinor-libclp1 (1.16.11+repack1-1) ...\n",
            "Selecting previously unselected package coinor-libcgl1.\n",
            "Preparing to unpack .../3-coinor-libcgl1_0.59.10+repack1-1_amd64.deb ...\n",
            "Unpacking coinor-libcgl1 (0.59.10+repack1-1) ...\n",
            "Selecting previously unselected package coinor-libcbc3.\n",
            "Preparing to unpack .../4-coinor-libcbc3_2.9.9+repack1-1_amd64.deb ...\n",
            "Unpacking coinor-libcbc3 (2.9.9+repack1-1) ...\n",
            "Selecting previously unselected package coinor-cbc.\n",
            "Preparing to unpack .../5-coinor-cbc_2.9.9+repack1-1_amd64.deb ...\n",
            "Unpacking coinor-cbc (2.9.9+repack1-1) ...\n",
            "Setting up coinor-libcoinutils3v5 (2.10.14+repack1-1) ...\n",
            "Setting up coinor-libosi1v5 (0.107.9+repack1-1) ...\n",
            "Setting up coinor-libclp1 (1.16.11+repack1-1) ...\n",
            "Setting up coinor-libcgl1 (0.59.10+repack1-1) ...\n",
            "Setting up coinor-libcbc3 (2.9.9+repack1-1) ...\n",
            "Setting up coinor-cbc (2.9.9+repack1-1) ...\n",
            "Processing triggers for man-db (2.8.3-2ubuntu0.1) ...\n",
            "Processing triggers for libc-bin (2.27-3ubuntu1.6) ...\n"
          ]
        }
      ]
    },
    {
      "cell_type": "markdown",
      "metadata": {
        "id": "uDsRodub2IFw"
      },
      "source": [
        "Importing pyomo and cbc solver."
      ]
    },
    {
      "cell_type": "code",
      "metadata": {
        "id": "hFRChwsqdvDB"
      },
      "source": [
        "from pyomo.environ import *\n",
        "#Import solver\n",
        "opt=SolverFactory('cbc',executable='/usr/bin/cbc')"
      ],
      "execution_count": 4,
      "outputs": []
    },
    {
      "cell_type": "markdown",
      "metadata": {
        "id": "_SwHFQAjPApD"
      },
      "source": [
        "## Exercise 1: Maximum Flow Model - Natural Gas company (A9-Q2)"
      ]
    },
    {
      "cell_type": "markdown",
      "metadata": {
        "id": "4Yz0n3RosfLR"
      },
      "source": [
        "Let's start by writing the max flow problem."
      ]
    },
    {
      "cell_type": "markdown",
      "metadata": {
        "id": "zch1FBVBsXTh"
      },
      "source": [
        "**Sets** \\\\\n",
        "$N$: set of nodes \\\\\n",
        "$K$: set of nodes without source and sink nodes \\\\\n",
        "$A$: set of arcs $(ij)$ \\\\\n",
        "\n",
        "**Parameters** \\\\\n",
        "$u_{ij}$: flow capacity for arc $(ij)$\n",
        "\n",
        "**Decision Variable** \\\\\n",
        "$x_{ij}$: how much flow on arc $(ij)$ - any value from 0 to $u_{ij}$\n",
        "\n",
        "**Model** \\\\\n",
        "$ max \\ \\sum_{j \\in N} x_{1j}$ \\\\\n",
        "$ s.t.$\n",
        "$ \\ \\sum_{j \\in N} x_{ij} = \\sum_{j \\in N} x_{ji} \\quad \\forall i \\in K $ \\\\\n",
        "$ \\quad \\quad \\sum_{j \\in N} x_{1j} = \\sum_{j \\in N} x_{j10} $ \\\\\n",
        "$ \\quad \\quad x_{ij} \\leq u_{ij} \\quad \\forall (ij) \\in A $ \\\\\n",
        "$ \\quad \\quad x_{ij} \\geq 0 \\quad \\forall (ij) \\in A $\n"
      ]
    },
    {
      "cell_type": "markdown",
      "source": [
        "### Implementing model from A9 question 2."
      ],
      "metadata": {
        "id": "RFjN4X64o8Su"
      }
    },
    {
      "cell_type": "code",
      "metadata": {
        "id": "K1ZHhyviF62r"
      },
      "source": [
        "model=ConcreteModel()\n",
        "\n",
        "model.Nodes=Set(initialize=range(1,11))  \n",
        "\n",
        "model.first=1\n",
        "model.last=10\n",
        "#defining set of nodes without origin and destination\n",
        "model.NodesK=Set(within=model.Nodes,initialize=range(2,10))\n",
        "\n",
        "\n",
        "\n",
        "model.Arcs=Set(within=model.Nodes*model.Nodes, \n",
        "                initialize=[(1,2),(1,3),(1,4),(2,5),(5,2),\n",
        "                            (3,4),(3,5),(3,6),(5,3),(6,3),\n",
        "                            (4,6),(4,10),(6,4),(5,7),(5,9),(9,5),\n",
        "                            (6,7),(6,8),(6,10),(7,6),(8,6),\n",
        "                            (7,8),(7,9),(8,7),(9,7),(8,9),(8,10),(9,8),(9,10)])\n",
        "\n",
        "model.FlowCap=Param(model.Arcs,\n",
        "                     initialize={(1,2):5,(1,3):12,(1,4):8,(2,5):6,(5,2):3,\n",
        "                            (3,4):2,(3,5):4,(3,6):5,(5,3):3,(6,3):4,\n",
        "                            (4,6):9,(4,10):2,(6,4):5,(5,7):6,(5,9):5,(9,5):2,\n",
        "                            (6,7):3,(6,8):6,(6,10):8,(7,6):4,(8,6):3,\n",
        "                            (7,8):5,(7,9):7,(8,7):2,(9,7):3,(8,9):5,(8,10):7,(9,8):1,(9,10):4})\n",
        "\n",
        "#Add dec variables\n",
        "model.x=Var(model.Arcs,domain=NonNegativeReals)"
      ],
      "execution_count": 5,
      "outputs": []
    },
    {
      "cell_type": "code",
      "source": [
        "#Adding objective function\n",
        "def max_flow(model):\n",
        "    return sum(model.x[i,j] for (i,j) in model.Arcs if i == model.first)\n",
        "model.maxflow=Objective(rule=max_flow, sense=maximize)\n",
        "\n",
        "print(model.maxflow.expr)\n"
      ],
      "metadata": {
        "colab": {
          "base_uri": "https://localhost:8080/"
        },
        "id": "tdN5MOPHnfFF",
        "outputId": "cdd245fd-28b0-4ca3-d346-196dec0cccfe"
      },
      "execution_count": 6,
      "outputs": [
        {
          "output_type": "stream",
          "name": "stdout",
          "text": [
            "x[1,2] + x[1,3] + x[1,4]\n"
          ]
        }
      ]
    },
    {
      "cell_type": "code",
      "metadata": {
        "colab": {
          "base_uri": "https://localhost:8080/"
        },
        "id": "tmvU9cJPHzBA",
        "outputId": "1fc79ab6-8045-4154-e22b-9bbc1a86efb1"
      },
      "source": [
        "#Adding constraints\n",
        "#Flow balance transhipment nodes - for all nodes in K\n",
        "def flow_bal(model, n):\n",
        "    inFlow  = sum(model.x[i,j] for (i,j) in model.Arcs if j == n)\n",
        "    outFlow = sum(model.x[j,i] for (j,i) in model.Arcs if j == n)\n",
        "    return inFlow == outFlow\n",
        "model.flowbalance = Constraint(model.NodesK, rule=flow_bal)\n",
        "\n",
        "#printing constraints\n",
        "for n in model.NodesK:\n",
        "  print(model.flowbalance[n].expr)"
      ],
      "execution_count": 7,
      "outputs": [
        {
          "output_type": "stream",
          "name": "stdout",
          "text": [
            "x[1,2] + x[5,2]  ==  x[2,5]\n",
            "x[1,3] + x[5,3] + x[6,3]  ==  x[3,4] + x[3,5] + x[3,6]\n",
            "x[1,4] + x[3,4] + x[6,4]  ==  x[4,6] + x[4,10]\n",
            "x[2,5] + x[3,5] + x[9,5]  ==  x[5,2] + x[5,3] + x[5,7] + x[5,9]\n",
            "x[3,6] + x[4,6] + x[7,6] + x[8,6]  ==  x[6,3] + x[6,4] + x[6,7] + x[6,8] + x[6,10]\n",
            "x[5,7] + x[6,7] + x[8,7] + x[9,7]  ==  x[7,6] + x[7,8] + x[7,9]\n",
            "x[6,8] + x[7,8] + x[9,8]  ==  x[8,6] + x[8,7] + x[8,9] + x[8,10]\n",
            "x[5,9] + x[7,9] + x[8,9]  ==  x[9,5] + x[9,7] + x[9,8] + x[9,10]\n"
          ]
        }
      ]
    },
    {
      "cell_type": "code",
      "source": [
        "#Adding constraints\n",
        "#flow origin = flow destination - only one\n",
        "def orig_dest(model):\n",
        "    orig  = sum(model.x[i,j] for (i,j) in model.Arcs if i == model.first)\n",
        "    dest = sum(model.x[i,j] for (i,j) in model.Arcs if j == model.last)\n",
        "    return orig == dest\n",
        "model.origdest = Constraint(rule=orig_dest)\n",
        "\n",
        "#printing org = dest constraints\n",
        "print(model.origdest.expr)"
      ],
      "metadata": {
        "colab": {
          "base_uri": "https://localhost:8080/"
        },
        "id": "FeOT3emEnlS2",
        "outputId": "d9b72268-7aa9-451f-892b-7fff7d2bd75d"
      },
      "execution_count": 8,
      "outputs": [
        {
          "output_type": "stream",
          "name": "stdout",
          "text": [
            "x[1,2] + x[1,3] + x[1,4]  ==  x[4,10] + x[6,10] + x[8,10] + x[9,10]\n"
          ]
        }
      ]
    },
    {
      "cell_type": "code",
      "source": [
        "#Adding constraints\n",
        "#arc flow capacity\n",
        "def flow_cap(model,i,j):\n",
        "    return model.x[i,j] <= model.FlowCap[i,j]\n",
        "model.flowcap = Constraint(model.Arcs,rule=flow_cap) \n",
        "\n",
        "#printing max flow constraints\n",
        "for (i,j) in model.Arcs:\n",
        "  print(model.flowcap[i,j].expr)"
      ],
      "metadata": {
        "colab": {
          "base_uri": "https://localhost:8080/"
        },
        "id": "CTlDJwx2nnn6",
        "outputId": "f0863101-c5c1-4230-f884-cef4367334c0"
      },
      "execution_count": 9,
      "outputs": [
        {
          "output_type": "stream",
          "name": "stdout",
          "text": [
            "x[1,2]  <=  5\n",
            "x[1,3]  <=  12\n",
            "x[1,4]  <=  8\n",
            "x[2,5]  <=  6\n",
            "x[5,2]  <=  3\n",
            "x[3,4]  <=  2\n",
            "x[3,5]  <=  4\n",
            "x[3,6]  <=  5\n",
            "x[5,3]  <=  3\n",
            "x[6,3]  <=  4\n",
            "x[4,6]  <=  9\n",
            "x[4,10]  <=  2\n",
            "x[6,4]  <=  5\n",
            "x[5,7]  <=  6\n",
            "x[5,9]  <=  5\n",
            "x[9,5]  <=  2\n",
            "x[6,7]  <=  3\n",
            "x[6,8]  <=  6\n",
            "x[6,10]  <=  8\n",
            "x[7,6]  <=  4\n",
            "x[8,6]  <=  3\n",
            "x[7,8]  <=  5\n",
            "x[7,9]  <=  7\n",
            "x[8,7]  <=  2\n",
            "x[9,7]  <=  3\n",
            "x[8,9]  <=  5\n",
            "x[8,10]  <=  7\n",
            "x[9,8]  <=  1\n",
            "x[9,10]  <=  4\n"
          ]
        }
      ]
    },
    {
      "cell_type": "code",
      "metadata": {
        "colab": {
          "base_uri": "https://localhost:8080/"
        },
        "id": "8mEiqB_dybba",
        "outputId": "10033420-131a-4be8-8cce-2b37f1643dfa"
      },
      "source": [
        "#Solving model\n",
        "opt.solve(model)\n",
        "\n",
        "#Print results\n",
        "print(\"Max Flow from 1 to 10 =\",model.maxflow())\n",
        "print(\"Decision Variables\")\n",
        "for a in model.Arcs:\n",
        "    print(model.x[a],model.x[a].value)"
      ],
      "execution_count": 10,
      "outputs": [
        {
          "output_type": "stream",
          "name": "stdout",
          "text": [
            "Max Flow from 1 to 10 = 21.0\n",
            "Decision Variables\n",
            "x[1,2] 4.0\n",
            "x[1,3] 9.0\n",
            "x[1,4] 8.0\n",
            "x[2,5] 4.0\n",
            "x[5,2] 0.0\n",
            "x[3,4] 0.0\n",
            "x[3,5] 4.0\n",
            "x[3,6] 5.0\n",
            "x[5,3] 0.0\n",
            "x[6,3] 0.0\n",
            "x[4,6] 6.0\n",
            "x[4,10] 2.0\n",
            "x[6,4] 0.0\n",
            "x[5,7] 4.0\n",
            "x[5,9] 4.0\n",
            "x[9,5] 0.0\n",
            "x[6,7] 0.0\n",
            "x[6,8] 3.0\n",
            "x[6,10] 8.0\n",
            "x[7,6] 0.0\n",
            "x[8,6] 0.0\n",
            "x[7,8] 4.0\n",
            "x[7,9] 0.0\n",
            "x[8,7] 0.0\n",
            "x[9,7] 0.0\n",
            "x[8,9] 0.0\n",
            "x[8,10] 7.0\n",
            "x[9,8] 0.0\n",
            "x[9,10] 4.0\n"
          ]
        }
      ]
    },
    {
      "cell_type": "markdown",
      "metadata": {
        "id": "cw2hTgS2P1Uz"
      },
      "source": [
        "## Exercise 2: Shortest Path - min cost (A9-Q1)"
      ]
    },
    {
      "cell_type": "markdown",
      "source": [
        "Let's start by writing the shortest flow model formulation."
      ],
      "metadata": {
        "id": "YxwrtDy8ozed"
      }
    },
    {
      "cell_type": "markdown",
      "metadata": {
        "id": "2GtK5f6MstMg"
      },
      "source": [
        "**Sets** \\\\\n",
        "$N$: set of nodes \\\\\n",
        "$K$: set of nodes without source and sink \\\\\n",
        "$A$: set of arcs $(ij)$ \\\\\n",
        "\n",
        "**Parameters** \\\\\n",
        "$c_{ij}$: cost for using arc $ij$\n",
        "\n",
        "**Decision Variable** \\\\\n",
        "$x_{ij}$: 1 if arc $(ij)$ is being used, 0 o.w. - binary\n",
        "\n",
        "**Model** \\\\\n",
        "$ min \\ \\sum_{(ij) \\in A} c_{ij}*x_{ij}$ \\\\\n",
        "$ s.t.$\n",
        "$ \\ \\sum_{j \\in N} x_{ij} = \\sum_{j \\in N} x_{ji} \\quad \\forall i \\in K $ \\\\\n",
        "$ \\quad \\quad \\sum_{j \\in N} x_{1j} = 1 $ \\\\\n",
        "$ \\quad \\quad \\sum_{i \\in N} x_{i10} = 1 $ \\\\\n",
        "$ \\quad \\quad x_{ij} \\in \\{0,1\\} \\quad \\forall (ij) \\in A $\n"
      ]
    },
    {
      "cell_type": "markdown",
      "source": [
        "### Part a: Implementing model from A9 question 1."
      ],
      "metadata": {
        "id": "qaIEqSW0pBX9"
      }
    },
    {
      "cell_type": "code",
      "metadata": {
        "colab": {
          "base_uri": "https://localhost:8080/"
        },
        "id": "EfGbm3Zm0ps5",
        "outputId": "ac4bdcd1-639c-44e2-ce9d-0ae58dc2dbf9"
      },
      "source": [
        "model2=ConcreteModel()\n",
        "\n",
        "model2.Nodes=Set(initialize=range(1,11))  \n",
        "model2.first=1\n",
        "model2.last=10\n",
        "\n",
        "model2.Arcs=Set(within=model2.Nodes*model2.Nodes, \n",
        "                initialize=[(1,2),(1,6),(1,7),(1,8),\n",
        "                            (2,1),(6,1),(7,1),(8,1),\n",
        "                            (2,4),(2,5),(2,7),(2,8),\n",
        "                            (4,2),(5,2),(7,2),(8,2),\n",
        "                            (3,6),(3,9),(3,10),\n",
        "                            (6,3),(9,3),(10,3),\n",
        "                            (4,5),(4,9),\n",
        "                            (5,4),(9,4),\n",
        "                            (5,7),\n",
        "                            (7,5),\n",
        "                            (6,8),(6,9),(6,10),\n",
        "                            (8,6),(9,6),(10,6),\n",
        "                            (8,9),\n",
        "                            (9,8)])\n",
        "\n",
        "model2.Arcs.pprint()\n",
        "\n",
        "#Add parameter\n",
        "model2.cost=Param(model2.Arcs,\n",
        "                  initialize={(1,2):9,(1,6):5,(1,7):17,(1,8):15,\n",
        "                              (2,1):9,(6,1):5,(7,1):17,(8,1):15,\n",
        "                              (2,4):4,(2,5):14,(2,7):7,(2,8):6,\n",
        "                              (4,2):4,(5,2):14,(7,2):7,(8,2):6,\n",
        "                              (3,6):7,(3,9):2,(3,10):10,\n",
        "                              (6,3):7,(9,3):2,(10,3):10,\n",
        "                              (4,5):8,(4,9):11,\n",
        "                              (5,4):8,(9,4):11,\n",
        "                              (5,7):4,\n",
        "                              (7,5):4,\n",
        "                              (6,8):8,(6,9):12,(6,10):4,\n",
        "                              (8,6):8,(9,6):12,(10,6):4,\n",
        "                              (8,9):3,\n",
        "                              (9,8):3})\n",
        "\n",
        "#Add dec variables\n",
        "#arc being used or not - decision variable xij\n",
        "model2.x=Var(model2.Arcs,domain=Boolean)"
      ],
      "execution_count": 11,
      "outputs": [
        {
          "output_type": "stream",
          "name": "stdout",
          "text": [
            "Arcs : Size=1, Index=None, Ordered=Insertion\n",
            "    Key  : Dimen : Domain      : Size : Members\n",
            "    None :     2 : Arcs_domain :   36 : {(1, 2), (1, 6), (1, 7), (1, 8), (2, 1), (6, 1), (7, 1), (8, 1), (2, 4), (2, 5), (2, 7), (2, 8), (4, 2), (5, 2), (7, 2), (8, 2), (3, 6), (3, 9), (3, 10), (6, 3), (9, 3), (10, 3), (4, 5), (4, 9), (5, 4), (9, 4), (5, 7), (7, 5), (6, 8), (6, 9), (6, 10), (8, 6), (9, 6), (10, 6), (8, 9), (9, 8)}\n"
          ]
        }
      ]
    },
    {
      "cell_type": "code",
      "source": [
        "#Adding objective function\n",
        "def min_path(model2):\n",
        "    return sum(model2.cost[a]*model2.x[a] for a in model2.Arcs)\n",
        "model2.shortest=Objective(rule=min_path, sense=minimize)\n",
        "\n",
        "print(\"\\nObjective Function\")\n",
        "print(model2.shortest.expr)"
      ],
      "metadata": {
        "colab": {
          "base_uri": "https://localhost:8080/"
        },
        "id": "yk_MyWL5pH67",
        "outputId": "72aaa198-b807-4d2c-f4b6-c7015e4b55d1"
      },
      "execution_count": 12,
      "outputs": [
        {
          "output_type": "stream",
          "name": "stdout",
          "text": [
            "\n",
            "Objective Function\n",
            "9*x[1,2] + 5*x[1,6] + 17*x[1,7] + 15*x[1,8] + 9*x[2,1] + 5*x[6,1] + 17*x[7,1] + 15*x[8,1] + 4*x[2,4] + 14*x[2,5] + 7*x[2,7] + 6*x[2,8] + 4*x[4,2] + 14*x[5,2] + 7*x[7,2] + 6*x[8,2] + 7*x[3,6] + 2*x[3,9] + 10*x[3,10] + 7*x[6,3] + 2*x[9,3] + 10*x[10,3] + 8*x[4,5] + 11*x[4,9] + 8*x[5,4] + 11*x[9,4] + 4*x[5,7] + 4*x[7,5] + 8*x[6,8] + 12*x[6,9] + 4*x[6,10] + 8*x[8,6] + 12*x[9,6] + 4*x[10,6] + 3*x[8,9] + 3*x[9,8]\n"
          ]
        }
      ]
    },
    {
      "cell_type": "code",
      "source": [
        "#Adding constraints\n",
        "def flow_rule(model2, n):\n",
        "    if(n == model2.first): #origin constraint\n",
        "        return sum(model2.x[i,j] for (i,j) in model2.Arcs if i==n) == 1\n",
        "    elif(n == model2.last):  #destination constraint\n",
        "        return sum(model2.x[i,j] for (i,j) in model2.Arcs if j==n) == 1\n",
        "    else: #transhipment constraint\n",
        "        inFlow  = sum(model2.x[i,j] for (i,j) in model2.Arcs if j == n)\n",
        "        outFlow = sum(model2.x[j,i] for (j,i) in model2.Arcs if j == n)\n",
        "        return inFlow == outFlow\n",
        "model2.flow = Constraint(model2.Nodes, rule=flow_rule)\n",
        "\n",
        "print(\"Constraints\")\n",
        "for n in model2.Nodes:\n",
        "  print(model2.flow[n].expr)"
      ],
      "metadata": {
        "colab": {
          "base_uri": "https://localhost:8080/"
        },
        "id": "CvuoFoaHpKrv",
        "outputId": "21c667fc-10da-4f1c-9b1c-ad6612815609"
      },
      "execution_count": 13,
      "outputs": [
        {
          "output_type": "stream",
          "name": "stdout",
          "text": [
            "Constraints\n",
            "x[1,2] + x[1,6] + x[1,7] + x[1,8]  ==  1\n",
            "x[1,2] + x[4,2] + x[5,2] + x[7,2] + x[8,2]  ==  x[2,1] + x[2,4] + x[2,5] + x[2,7] + x[2,8]\n",
            "x[6,3] + x[9,3] + x[10,3]  ==  x[3,6] + x[3,9] + x[3,10]\n",
            "x[2,4] + x[5,4] + x[9,4]  ==  x[4,2] + x[4,5] + x[4,9]\n",
            "x[2,5] + x[4,5] + x[7,5]  ==  x[5,2] + x[5,4] + x[5,7]\n",
            "x[1,6] + x[3,6] + x[8,6] + x[9,6] + x[10,6]  ==  x[6,1] + x[6,3] + x[6,8] + x[6,9] + x[6,10]\n",
            "x[1,7] + x[2,7] + x[5,7]  ==  x[7,1] + x[7,2] + x[7,5]\n",
            "x[1,8] + x[2,8] + x[6,8] + x[9,8]  ==  x[8,1] + x[8,2] + x[8,6] + x[8,9]\n",
            "x[3,9] + x[4,9] + x[6,9] + x[8,9]  ==  x[9,3] + x[9,4] + x[9,6] + x[9,8]\n",
            "x[3,10] + x[6,10]  ==  1\n"
          ]
        }
      ]
    },
    {
      "cell_type": "markdown",
      "metadata": {
        "id": "UI2R21K6HdXF"
      },
      "source": [
        "### Part b: Solving the model"
      ]
    },
    {
      "cell_type": "code",
      "metadata": {
        "colab": {
          "base_uri": "https://localhost:8080/"
        },
        "id": "9l82YRSO337b",
        "outputId": "619952aa-bb19-47d2-e842-a718c38c5dc2"
      },
      "source": [
        "opt.solve(model2)\n",
        "\n",
        "#Print results\n",
        "print(\"Lowest cost from 1 to 10 =\",model2.shortest())\n",
        "print(\"Decision Variables\")\n",
        "for a in model2.Arcs:\n",
        "    print(model2.x[a],model2.x[a].value)"
      ],
      "execution_count": 14,
      "outputs": [
        {
          "output_type": "stream",
          "name": "stdout",
          "text": [
            "Lowest cost from 1 to 10 = 9.0\n",
            "Decision Variables\n",
            "x[1,2] 0.0\n",
            "x[1,6] 1.0\n",
            "x[1,7] 0.0\n",
            "x[1,8] 0.0\n",
            "x[2,1] 0.0\n",
            "x[6,1] 0.0\n",
            "x[7,1] 0.0\n",
            "x[8,1] 0.0\n",
            "x[2,4] 0.0\n",
            "x[2,5] 0.0\n",
            "x[2,7] 0.0\n",
            "x[2,8] 0.0\n",
            "x[4,2] 0.0\n",
            "x[5,2] 0.0\n",
            "x[7,2] 0.0\n",
            "x[8,2] 0.0\n",
            "x[3,6] 0.0\n",
            "x[3,9] 0.0\n",
            "x[3,10] 0.0\n",
            "x[6,3] 0.0\n",
            "x[9,3] 0.0\n",
            "x[10,3] 0.0\n",
            "x[4,5] 0.0\n",
            "x[4,9] 0.0\n",
            "x[5,4] 0.0\n",
            "x[9,4] 0.0\n",
            "x[5,7] 0.0\n",
            "x[7,5] 0.0\n",
            "x[6,8] 0.0\n",
            "x[6,9] 0.0\n",
            "x[6,10] 1.0\n",
            "x[8,6] 0.0\n",
            "x[9,6] 0.0\n",
            "x[10,6] 0.0\n",
            "x[8,9] 0.0\n",
            "x[9,8] 0.0\n"
          ]
        }
      ]
    },
    {
      "cell_type": "markdown",
      "metadata": {
        "id": "W5HdaTDA4NmW"
      },
      "source": [
        "### Part c: Find the lowest cost from 3 to all 9 remaining nodes."
      ]
    },
    {
      "cell_type": "markdown",
      "metadata": {
        "id": "Qbon9leDuy9P"
      },
      "source": [
        "This is one approach. There are other possible ways to do it!"
      ]
    },
    {
      "cell_type": "code",
      "metadata": {
        "colab": {
          "base_uri": "https://localhost:8080/"
        },
        "id": "etS1auWSCMFV",
        "outputId": "e0b16ff2-0c26-4fb9-8257-43cd85fe5186"
      },
      "source": [
        "import numpy as np\n",
        "opt_sol = np.zeros(shape=(11,1))\n",
        "\n",
        "origin = 3\n",
        "\n",
        "for destination in range(1,11):\n",
        "  if(destination != origin):\n",
        "\n",
        "    model2=ConcreteModel()\n",
        "\n",
        "    model2.Nodes=Set(initialize=range(1,11))  \n",
        "\n",
        "    #Create set K with all nodes - origin - destination\n",
        "    model2.OrgDest = Set(initialize=[origin,destination])\n",
        "    model2.NodesK = model2.Nodes - model2.OrgDest\n",
        "    #print(model2.NodesK.pprint())\n",
        "\n",
        "    model2.Arcs=Set(within=model2.Nodes*model2.Nodes, \n",
        "                initialize=[(1,2),(1,6),(1,7),(1,8),\n",
        "                            (2,1),(6,1),(7,1),(8,1),\n",
        "                            (2,4),(2,5),(2,7),(2,8),\n",
        "                            (4,2),(5,2),(7,2),(8,2),\n",
        "                            (3,6),(3,9),(3,10),\n",
        "                            (6,3),(9,3),(10,3),\n",
        "                            (4,5),(4,9),\n",
        "                            (5,4),(9,4),\n",
        "                            (5,7),\n",
        "                            (7,5),\n",
        "                            (6,8),(6,9),(6,10),\n",
        "                            (8,6),(9,6),(10,6),\n",
        "                            (8,9),\n",
        "                            (9,8)])\n",
        "\n",
        "    #Add parameter\n",
        "    model2.cost=Param(model2.Arcs,\n",
        "                  initialize={(1,2):9,(1,6):5,(1,7):17,(1,8):15,\n",
        "                              (2,1):9,(6,1):5,(7,1):17,(8,1):15,\n",
        "                              (2,4):4,(2,5):14,(2,7):7,(2,8):6,\n",
        "                              (4,2):4,(5,2):14,(7,2):7,(8,2):6,\n",
        "                              (3,6):7,(3,9):2,(3,10):10,\n",
        "                              (6,3):7,(9,3):2,(10,3):10,\n",
        "                              (4,5):8,(4,9):11,\n",
        "                              (5,4):8,(9,4):11,\n",
        "                              (5,7):4,\n",
        "                              (7,5):4,\n",
        "                              (6,8):8,(6,9):12,(6,10):4,\n",
        "                              (8,6):8,(9,6):12,(10,6):4,\n",
        "                              (8,9):3,\n",
        "                              (9,8):3})\n",
        "\n",
        "    #Add dec variables\n",
        "    model2.x=Var(model2.Arcs,domain=Boolean)\n",
        "\n",
        "    #Adding objective function\n",
        "    def min_path(model2):\n",
        "      return sum(model2.cost[a]*model2.x[a] for a in model2.Arcs)\n",
        "    model2.shortest=Objective(rule=min_path, sense=minimize)\n",
        "\n",
        "    #Adding constraints\n",
        "    #origin =1\n",
        "    def orig_rule(model2):\n",
        "      return sum(model2.x[i,j] for (i,j) in model2.Arcs if i==origin) == 1\n",
        "    model2.orig = Constraint(rule=orig_rule)\n",
        "\n",
        "    #destination =1\n",
        "    def dest_rule(model2):\n",
        "      return sum(model2.x[i,j] for (i,j) in model2.Arcs if j==destination) == 1\n",
        "    model2.dest = Constraint(rule=dest_rule)\n",
        "\n",
        "    def tranship_rule(model2, n):\n",
        "      inFlow  = sum(model2.x[i,j] for (i,j) in model2.Arcs if i == n)\n",
        "      outFlow = sum(model2.x[j,i] for (j,i) in model2.Arcs if i == n)\n",
        "      return inFlow == outFlow\n",
        "    model2.tranship = Constraint(model2.NodesK, rule=tranship_rule)\n",
        "    \n",
        "    opt.solve(model2)\n",
        "    opt_sol[destination] =  model2.shortest()\n",
        "    #Print results\n",
        "    print(\"Lowest cost from 3 to\",destination,\"=\",model2.shortest())\n",
        "    for (i,j) in model2.Arcs:\n",
        "      if model2.x[i,j].value != 0:\n",
        "        print(model2.x[i,j],model2.x[i,j].value,model2.cost[i,j])"
      ],
      "execution_count": 15,
      "outputs": [
        {
          "output_type": "stream",
          "name": "stdout",
          "text": [
            "Lowest cost from 3 to 1 = 12.0\n",
            "x[6,1] 1.0 5\n",
            "x[3,6] 1.0 7\n",
            "Lowest cost from 3 to 2 = 11.0\n",
            "x[8,2] 1.0 6\n",
            "x[3,9] 1.0 2\n",
            "x[9,8] 1.0 3\n",
            "Lowest cost from 3 to 4 = 12.0\n",
            "x[2,4] 1.0 4\n",
            "x[4,2] 1.0 4\n",
            "x[3,9] 1.0 2\n",
            "x[9,3] 1.0 2\n",
            "Lowest cost from 3 to 5 = 12.0\n",
            "x[3,9] 1.0 2\n",
            "x[9,3] 1.0 2\n",
            "x[5,7] 1.0 4\n",
            "x[7,5] 1.0 4\n",
            "Lowest cost from 3 to 6 = 7.0\n",
            "x[3,6] 1.0 7\n",
            "Lowest cost from 3 to 7 = 12.0\n",
            "x[3,9] 1.0 2\n",
            "x[9,3] 1.0 2\n",
            "x[5,7] 1.0 4\n",
            "x[7,5] 1.0 4\n",
            "Lowest cost from 3 to 8 = 5.0\n",
            "x[3,9] 1.0 2\n",
            "x[9,8] 1.0 3\n",
            "Lowest cost from 3 to 9 = 2.0\n",
            "x[3,9] 1.0 2\n",
            "Lowest cost from 3 to 10 = 10.0\n",
            "x[3,10] 1.0 10\n"
          ]
        }
      ]
    },
    {
      "cell_type": "markdown",
      "source": [
        "Note that some paths are non contiguous. For example 3 to 7, it goes from 3 to 9 then back to 3 and from 5 to 7 and then back to 5. We can add a new constraint to make sure each arc is only used in one direction. In other words if \\\\\n",
        "$x_{39} = 1$ then $x_{93} = 0$ \\\\\n",
        "One way to do it is by adding a constraint \\\\\n",
        "$x_{39} + x_{93} = 1$ \\\\\n",
        "But the problem is this constraint would force arc (3,9) or (9,3) to be in the optimal solution because one of them need to be one for the sum to be one. So the constraint should be modified such that \\\\\n",
        "$x_{39} + x_{93} <= 1$ \\\\\n",
        "Now we allow both to be zero and one of them to be 1 in the optimal solution. Let's add this to the model."
      ],
      "metadata": {
        "id": "RTJQRu7WzGim"
      }
    },
    {
      "cell_type": "code",
      "source": [
        "import numpy as np\n",
        "opt_sol = np.zeros(shape=(11,1))\n",
        "\n",
        "origin = 3\n",
        "\n",
        "for destination in range(1,11):\n",
        "  if(destination != origin):\n",
        "\n",
        "    model2=ConcreteModel()\n",
        "\n",
        "    model2.Nodes=Set(initialize=range(1,11))  \n",
        "    #model2.first=Param(initialize = 3)\n",
        "    #model2.last=Param(initialize = 2)\n",
        "\n",
        "    model2.OrgDest = Set(initialize=[origin,destination])\n",
        "    model2.NodesK = model2.Nodes - model2.OrgDest\n",
        "\n",
        "    #print(model2.NodesK.pprint())\n",
        "\n",
        "    model2.Arcs=Set(within=model2.Nodes*model2.Nodes, \n",
        "                initialize=[(1,2),(1,6),(1,7),(1,8),\n",
        "                            (2,1),(6,1),(7,1),(8,1),\n",
        "                            (2,4),(2,5),(2,7),(2,8),\n",
        "                            (4,2),(5,2),(7,2),(8,2),\n",
        "                            (3,6),(3,9),(3,10),\n",
        "                            (6,3),(9,3),(10,3),\n",
        "                            (4,5),(4,9),\n",
        "                            (5,4),(9,4),\n",
        "                            (5,7),\n",
        "                            (7,5),\n",
        "                            (6,8),(6,9),(6,10),\n",
        "                            (8,6),(9,6),(10,6),\n",
        "                            (8,9),\n",
        "                            (9,8)])\n",
        "\n",
        "    #Add parameter\n",
        "    model2.cost=Param(model2.Arcs,\n",
        "                  initialize={(1,2):9,(1,6):5,(1,7):17,(1,8):15,\n",
        "                              (2,1):9,(6,1):5,(7,1):17,(8,1):15,\n",
        "                              (2,4):4,(2,5):14,(2,7):7,(2,8):6,\n",
        "                              (4,2):4,(5,2):14,(7,2):7,(8,2):6,\n",
        "                              (3,6):7,(3,9):2,(3,10):10,\n",
        "                              (6,3):7,(9,3):2,(10,3):10,\n",
        "                              (4,5):8,(4,9):11,\n",
        "                              (5,4):8,(9,4):11,\n",
        "                              (5,7):4,\n",
        "                              (7,5):4,\n",
        "                              (6,8):8,(6,9):12,(6,10):4,\n",
        "                              (8,6):8,(9,6):12,(10,6):4,\n",
        "                              (8,9):3,\n",
        "                              (9,8):3})\n",
        "\n",
        "    #Add dec variables\n",
        "    model2.x=Var(model2.Arcs,domain=Boolean)\n",
        "\n",
        "    #Adding objective function\n",
        "    def min_path(model2):\n",
        "      return sum(model2.cost[a]*model2.x[a] for a in model2.Arcs)\n",
        "    model2.shortest=Objective(rule=min_path, sense=minimize)\n",
        "\n",
        "    #Adding constraints\n",
        "    #origin =1\n",
        "    def orig_rule(model2):\n",
        "      return sum(model2.x[i,j] for (i,j) in model2.Arcs if i==origin) == 1\n",
        "    model2.orig = Constraint(rule=orig_rule)\n",
        "\n",
        "    #destination =1\n",
        "    def dest_rule(model2):\n",
        "      return sum(model2.x[i,j] for (i,j) in model2.Arcs if j==destination) == 1\n",
        "    model2.dest = Constraint(rule=dest_rule)\n",
        "\n",
        "    def tranship_rule(model2, n):\n",
        "      inFlow  = sum(model2.x[i,j] for (i,j) in model2.Arcs if i == n)\n",
        "      outFlow = sum(model2.x[j,i] for (j,i) in model2.Arcs if i == n)\n",
        "      return inFlow == outFlow\n",
        "    model2.tranship = Constraint(model2.NodesK, rule=tranship_rule)\n",
        "\n",
        "    ## added constraint to fix issue from previous solution\n",
        "    def no_back(model2,i,j):\n",
        "       return model2.x[i,j] + model2.x[j,i] <= 1\n",
        "    model2.noback = Constraint(model2.Arcs, rule=no_back)\n",
        "    \n",
        "    opt.solve(model2)\n",
        "    opt_sol[destination] =  model2.shortest()\n",
        "    #Print results\n",
        "    print(\"Lowest cost from 3 to\",destination,\"=\",model2.shortest())\n",
        "    for (i,j) in model2.Arcs:\n",
        "      if model2.x[i,j].value != 0:\n",
        "        print(model2.x[i,j],model2.x[i,j].value,model2.cost[i,j])"
      ],
      "metadata": {
        "colab": {
          "base_uri": "https://localhost:8080/"
        },
        "id": "H7OGFZ6jy8sn",
        "outputId": "225b484b-b9d2-401d-bbc0-0fb58096fc08"
      },
      "execution_count": 16,
      "outputs": [
        {
          "output_type": "stream",
          "name": "stdout",
          "text": [
            "Lowest cost from 3 to 1 = 12.0\n",
            "x[6,1] 1.0 5\n",
            "x[3,6] 1.0 7\n",
            "Lowest cost from 3 to 2 = 11.0\n",
            "x[8,2] 1.0 6\n",
            "x[3,9] 1.0 2\n",
            "x[9,8] 1.0 3\n",
            "Lowest cost from 3 to 4 = 13.0\n",
            "x[3,9] 1.0 2\n",
            "x[9,4] 1.0 11\n",
            "Lowest cost from 3 to 5 = 21.0\n",
            "x[3,9] 1.0 2\n",
            "x[4,5] 1.0 8\n",
            "x[9,4] 1.0 11\n",
            "Lowest cost from 3 to 6 = 7.0\n",
            "x[3,6] 1.0 7\n",
            "Lowest cost from 3 to 7 = 18.0\n",
            "x[2,7] 1.0 7\n",
            "x[8,2] 1.0 6\n",
            "x[3,9] 1.0 2\n",
            "x[9,8] 1.0 3\n",
            "Lowest cost from 3 to 8 = 5.0\n",
            "x[3,9] 1.0 2\n",
            "x[9,8] 1.0 3\n",
            "Lowest cost from 3 to 9 = 2.0\n",
            "x[3,9] 1.0 2\n",
            "Lowest cost from 3 to 10 = 10.0\n",
            "x[3,10] 1.0 10\n"
          ]
        }
      ]
    },
    {
      "cell_type": "code",
      "metadata": {
        "colab": {
          "base_uri": "https://localhost:8080/"
        },
        "id": "cF5Caf6DD_-7",
        "outputId": "1172b572-0bcb-4948-d3ce-3f46d0b5f886"
      },
      "source": [
        "opt_sol"
      ],
      "execution_count": 44,
      "outputs": [
        {
          "output_type": "execute_result",
          "data": {
            "text/plain": [
              "array([[ 0.],\n",
              "       [12.],\n",
              "       [11.],\n",
              "       [ 0.],\n",
              "       [13.],\n",
              "       [21.],\n",
              "       [ 7.],\n",
              "       [18.],\n",
              "       [ 5.],\n",
              "       [ 2.],\n",
              "       [10.]])"
            ]
          },
          "metadata": {},
          "execution_count": 44
        }
      ]
    }
  ]
}