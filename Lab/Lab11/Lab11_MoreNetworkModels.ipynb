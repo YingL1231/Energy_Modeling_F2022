{
  "nbformat": 4,
  "nbformat_minor": 0,
  "metadata": {
    "kernelspec": {
      "display_name": "Python 3",
      "language": "python",
      "name": "python3"
    },
    "language_info": {
      "codemirror_mode": {
        "name": "ipython",
        "version": 3
      },
      "file_extension": ".py",
      "mimetype": "text/x-python",
      "name": "python",
      "nbconvert_exporter": "python",
      "pygments_lexer": "ipython3",
      "version": "3.7.4"
    },
    "colab": {
      "provenance": [],
      "toc_visible": true,
      "include_colab_link": true
    }
  },
  "cells": [
    {
      "cell_type": "markdown",
      "metadata": {
        "id": "view-in-github",
        "colab_type": "text"
      },
      "source": [
        "<a href=\"https://colab.research.google.com/github/ENV716/Energy_Modeling_F2022/blob/main/Lab/Lab11/Lab11_MoreNetworkModels.ipynb\" target=\"_parent\"><img src=\"https://colab.research.google.com/assets/colab-badge.svg\" alt=\"Open In Colab\"/></a>"
      ]
    },
    {
      "cell_type": "markdown",
      "metadata": {
        "id": "P0sInrLWNjGn"
      },
      "source": [
        "# **Lab 11 - More Network Models with Pyomo**\n"
      ]
    },
    {
      "cell_type": "markdown",
      "metadata": {
        "id": "9Mc0pKi9UtBk"
      },
      "source": [
        "Learning goals for Lab 11:\n",
        "* Implement other types of Network Models - Max flow;\n",
        "* Implement other types of Network Models - Shortest path.\n"
      ]
    },
    {
      "cell_type": "markdown",
      "metadata": {
        "id": "RRVCA3_S17L0"
      },
      "source": [
        "## Initializing "
      ]
    },
    {
      "cell_type": "code",
      "metadata": {
        "colab": {
          "base_uri": "https://localhost:8080/"
        },
        "id": "p9RjfZs31rSC",
        "outputId": "6057b4fd-3917-4de0-b2a1-de2e131ae50a"
      },
      "source": [
        "from google.colab import drive\n",
        "drive.mount('/content/drive')\n",
        "import os\n",
        "os.chdir('/content/drive/MyDrive/Colab Notebooks/')"
      ],
      "execution_count": null,
      "outputs": [
        {
          "output_type": "stream",
          "name": "stdout",
          "text": [
            "Mounted at /content/drive\n"
          ]
        }
      ]
    },
    {
      "cell_type": "markdown",
      "metadata": {
        "id": "iCRbHUT8110g"
      },
      "source": [
        "Installing Pyomo and solver. Recall for teh shortest path example we have binary variables so we will need to use another solver. Instead of installing glpk, thsi time we will install COIN-OR CBC. \\\\ \n",
        "COIN-OR CBC is a multi-threaded open-source Coin-or branch and cut **mixed-integer linear programming solver**. CBC is generally a good choice for a general purpose MILP solver for medium to large scale problems."
      ]
    },
    {
      "cell_type": "code",
      "metadata": {
        "id": "jAqq5CgB2CdL",
        "colab": {
          "base_uri": "https://localhost:8080/"
        },
        "outputId": "feec6d5b-e1f7-4ece-8138-4e6f09a059c0"
      },
      "source": [
        "!pip install pyomo\n",
        "#!apt-get install -y -qq glpk-utils\n",
        "!apt-get install -y -qq coinor-cbc"
      ],
      "execution_count": null,
      "outputs": [
        {
          "output_type": "stream",
          "name": "stdout",
          "text": [
            "Looking in indexes: https://pypi.org/simple, https://us-python.pkg.dev/colab-wheels/public/simple/\n",
            "Collecting pyomo\n",
            "  Downloading Pyomo-6.4.2-cp37-cp37m-manylinux_2_12_x86_64.manylinux2010_x86_64.whl (9.7 MB)\n",
            "\u001b[K     |████████████████████████████████| 9.7 MB 7.7 MB/s \n",
            "\u001b[?25hCollecting ply\n",
            "  Downloading ply-3.11-py2.py3-none-any.whl (49 kB)\n",
            "\u001b[K     |████████████████████████████████| 49 kB 5.4 MB/s \n",
            "\u001b[?25hInstalling collected packages: ply, pyomo\n",
            "Successfully installed ply-3.11 pyomo-6.4.2\n",
            "Selecting previously unselected package coinor-libcoinutils3v5.\n",
            "(Reading database ... 123991 files and directories currently installed.)\n",
            "Preparing to unpack .../0-coinor-libcoinutils3v5_2.10.14+repack1-1_amd64.deb ...\n",
            "Unpacking coinor-libcoinutils3v5 (2.10.14+repack1-1) ...\n",
            "Selecting previously unselected package coinor-libosi1v5.\n",
            "Preparing to unpack .../1-coinor-libosi1v5_0.107.9+repack1-1_amd64.deb ...\n",
            "Unpacking coinor-libosi1v5 (0.107.9+repack1-1) ...\n",
            "Selecting previously unselected package coinor-libclp1.\n",
            "Preparing to unpack .../2-coinor-libclp1_1.16.11+repack1-1_amd64.deb ...\n",
            "Unpacking coinor-libclp1 (1.16.11+repack1-1) ...\n",
            "Selecting previously unselected package coinor-libcgl1.\n",
            "Preparing to unpack .../3-coinor-libcgl1_0.59.10+repack1-1_amd64.deb ...\n",
            "Unpacking coinor-libcgl1 (0.59.10+repack1-1) ...\n",
            "Selecting previously unselected package coinor-libcbc3.\n",
            "Preparing to unpack .../4-coinor-libcbc3_2.9.9+repack1-1_amd64.deb ...\n",
            "Unpacking coinor-libcbc3 (2.9.9+repack1-1) ...\n",
            "Selecting previously unselected package coinor-cbc.\n",
            "Preparing to unpack .../5-coinor-cbc_2.9.9+repack1-1_amd64.deb ...\n",
            "Unpacking coinor-cbc (2.9.9+repack1-1) ...\n",
            "Setting up coinor-libcoinutils3v5 (2.10.14+repack1-1) ...\n",
            "Setting up coinor-libosi1v5 (0.107.9+repack1-1) ...\n",
            "Setting up coinor-libclp1 (1.16.11+repack1-1) ...\n",
            "Setting up coinor-libcgl1 (0.59.10+repack1-1) ...\n",
            "Setting up coinor-libcbc3 (2.9.9+repack1-1) ...\n",
            "Setting up coinor-cbc (2.9.9+repack1-1) ...\n",
            "Processing triggers for man-db (2.8.3-2ubuntu0.1) ...\n",
            "Processing triggers for libc-bin (2.27-3ubuntu1.6) ...\n"
          ]
        }
      ]
    },
    {
      "cell_type": "markdown",
      "metadata": {
        "id": "uDsRodub2IFw"
      },
      "source": [
        "Importing pyomo and cbc solver."
      ]
    },
    {
      "cell_type": "code",
      "metadata": {
        "id": "hFRChwsqdvDB"
      },
      "source": [
        "from pyomo.environ import *\n",
        "#Import solver\n",
        "opt=SolverFactory('cbc',executable='/usr/bin/cbc')"
      ],
      "execution_count": null,
      "outputs": []
    },
    {
      "cell_type": "markdown",
      "metadata": {
        "id": "_SwHFQAjPApD"
      },
      "source": [
        "## Exercise 1: Maximum Flow Model - Natural Gas company (A9-Q2)"
      ]
    },
    {
      "cell_type": "markdown",
      "metadata": {
        "id": "4Yz0n3RosfLR"
      },
      "source": [
        "Let's start by writing the max flow problem."
      ]
    },
    {
      "cell_type": "markdown",
      "metadata": {
        "id": "zch1FBVBsXTh"
      },
      "source": [
        "**Sets** \\\\\n",
        "$N$: set of nodes \\\\\n",
        "$K$: set of nodes without source and sink nodes \\\\\n",
        "$A$: set of arcs $(ij)$ \\\\\n",
        "\n",
        "**Parameters** \\\\\n",
        "$u_{ij}$: flow capacity for arc $(ij)$\n",
        "\n",
        "**Decision Variable** \\\\\n",
        "$x_{ij}$: how much flow on arc $(ij)$ - any value from 0 to $u_{ij}$\n",
        "\n",
        "**Model** \\\\\n",
        "$ max \\ \\sum_{j \\in N} x_{1j}$ \\\\\n",
        "$ s.t.$\n",
        "$ \\ \\sum_{j \\in N} x_{ij} = \\sum_{j \\in N} x_{ji} \\quad \\forall i \\in K $ \\\\\n",
        "$ \\quad \\quad \\sum_{j \\in N} x_{1j} = \\sum_{j \\in N} x_{j10} $ \\\\\n",
        "$ \\quad \\quad x_{ij} \\leq u_{ij} \\quad \\forall (ij) \\in A $ \\\\\n",
        "$ \\quad \\quad x_{ij} \\geq 0 \\quad \\forall (ij) \\in A $\n"
      ]
    },
    {
      "cell_type": "markdown",
      "source": [
        "### Implementing model from A9 question 2."
      ],
      "metadata": {
        "id": "RFjN4X64o8Su"
      }
    },
    {
      "cell_type": "code",
      "metadata": {
        "id": "K1ZHhyviF62r"
      },
      "source": [
        "model=ConcreteModel()\n",
        "\n",
        "model.Nodes=Set(initialize=range(1,11))  \n",
        "\n",
        "model.first=1\n",
        "model.last=10\n",
        "#defining set of nodes without origin and destination\n",
        "model.NodesK=Set(within=model.Nodes,initialize=range(2,10))\n",
        "\n",
        "\n",
        "\n",
        "model.Arcs=Set(within=model.Nodes*model.Nodes, \n",
        "                initialize=[(1,2),(1,3),(1,4),(2,5),(5,2),\n",
        "                            (3,4),(3,5),(3,6),(5,3),(6,3),\n",
        "                            (4,6),(4,10),(6,4),(5,7),(5,9),(9,5),\n",
        "                            (6,7),(6,8),(6,10),(7,6),(8,6),\n",
        "                            (7,8),(7,9),(8,7),(9,7),(8,9),(8,10),(9,8),(9,10)])\n",
        "\n",
        "model.FlowCap=Param(model.Arcs,\n",
        "                     initialize={(1,2):5,(1,3):12,(1,4):8,(2,5):6,(5,2):3,\n",
        "                            (3,4):2,(3,5):4,(3,6):5,(5,3):3,(6,3):4,\n",
        "                            (4,6):9,(4,10):2,(6,4):5,(5,7):6,(5,9):5,(9,5):2,\n",
        "                            (6,7):3,(6,8):6,(6,10):8,(7,6):4,(8,6):3,\n",
        "                            (7,8):5,(7,9):7,(8,7):2,(9,7):3,(8,9):5,(8,10):7,(9,8):1,(9,10):4})\n",
        "\n",
        "#Add dec variables\n",
        "model.x=Var(model.Arcs,domain=NonNegativeReals)"
      ],
      "execution_count": null,
      "outputs": []
    },
    {
      "cell_type": "code",
      "source": [
        "#Adding objective function\n"
      ],
      "metadata": {
        "id": "tdN5MOPHnfFF"
      },
      "execution_count": null,
      "outputs": []
    },
    {
      "cell_type": "code",
      "metadata": {
        "id": "tmvU9cJPHzBA"
      },
      "source": [
        "#Adding constraints\n",
        "#Flow balance transhipment nodes - for all nodes in K\n",
        "\n",
        "\n",
        "#printing constraints\n"
      ],
      "execution_count": null,
      "outputs": []
    },
    {
      "cell_type": "code",
      "source": [
        "#Adding constraints\n",
        "#flow origin = flow destination - only one\n",
        "\n",
        "\n",
        "#printing org = dest constraints\n"
      ],
      "metadata": {
        "id": "FeOT3emEnlS2"
      },
      "execution_count": null,
      "outputs": []
    },
    {
      "cell_type": "code",
      "source": [
        "#Adding constraints\n",
        "#arc flow capacity\n",
        "\n",
        "\n",
        "#printing max flow constraints\n"
      ],
      "metadata": {
        "id": "CTlDJwx2nnn6"
      },
      "execution_count": null,
      "outputs": []
    },
    {
      "cell_type": "code",
      "metadata": {
        "id": "8mEiqB_dybba"
      },
      "source": [
        "#Solving model\n",
        "opt.solve(model)\n",
        "\n",
        "#Print results\n",
        "print(\"Max Flow from 1 to 10 =\",model.maxflow())\n",
        "print(\"Decision Variables\")\n",
        "for a in model.Arcs:\n",
        "    print(model.x[a],model.x[a].value)"
      ],
      "execution_count": null,
      "outputs": []
    },
    {
      "cell_type": "markdown",
      "metadata": {
        "id": "cw2hTgS2P1Uz"
      },
      "source": [
        "## Exercise 2: Shortest Path - min cost (A9-Q1)"
      ]
    },
    {
      "cell_type": "markdown",
      "source": [
        "Let's start by writing the shortest flow model formulation."
      ],
      "metadata": {
        "id": "YxwrtDy8ozed"
      }
    },
    {
      "cell_type": "markdown",
      "metadata": {
        "id": "2GtK5f6MstMg"
      },
      "source": [
        "**Sets** \\\\\n",
        "$N$: set of nodes \\\\\n",
        "$K$: set of nodes without source and sink \\\\\n",
        "$A$: set of arcs $(ij)$ \\\\\n",
        "\n",
        "**Parameters** \\\\\n",
        "$c_{ij}$: cost for using arc $ij$\n",
        "\n",
        "**Decision Variable** \\\\\n",
        "$x_{ij}$: 1 if arc $(ij)$ is being used, 0 o.w. - binary\n",
        "\n",
        "**Model** \\\\\n",
        "$ min \\ \\sum_{(ij) \\in A} c_{ij}*x_{ij}$ \\\\\n",
        "$ s.t.$\n",
        "$ \\ \\sum_{j \\in N} x_{ij} = \\sum_{j \\in N} x_{ji} \\quad \\forall i \\in K $ \\\\\n",
        "$ \\quad \\quad \\sum_{j \\in N} x_{1j} = 1 $ \\\\\n",
        "$ \\quad \\quad \\sum_{i \\in N} x_{i10} = 1 $ \\\\\n",
        "$ \\quad \\quad x_{ij} \\in \\{0,1\\} \\quad \\forall (ij) \\in A $\n"
      ]
    },
    {
      "cell_type": "markdown",
      "source": [
        "### Part a: Implementing model from A9 question 1."
      ],
      "metadata": {
        "id": "qaIEqSW0pBX9"
      }
    },
    {
      "cell_type": "code",
      "metadata": {
        "id": "EfGbm3Zm0ps5"
      },
      "source": [
        "model2=ConcreteModel()\n",
        "\n",
        "model2.Nodes=Set(initialize=range(1,11))  \n",
        "model2.first=1\n",
        "model2.last=10\n",
        "\n",
        "model2.Arcs=Set(within=model2.Nodes*model2.Nodes, \n",
        "                initialize=[(1,2),(1,6),(1,7),(1,8),\n",
        "                            (2,1),(6,1),(7,1),(8,1),\n",
        "                            (2,4),(2,5),(2,7),(2,8),\n",
        "                            (4,2),(5,2),(7,2),(8,2),\n",
        "                            (3,6),(3,9),(3,10),\n",
        "                            (6,3),(9,3),(10,3),\n",
        "                            (4,5),(4,9),\n",
        "                            (5,4),(9,4),\n",
        "                            (5,7),\n",
        "                            (7,5),\n",
        "                            (6,8),(6,9),(6,10),\n",
        "                            (8,6),(9,6),(10,6),\n",
        "                            (8,9),\n",
        "                            (9,8)])\n",
        "\n",
        "model2.Arcs.pprint()\n",
        "\n",
        "#Add parameter\n",
        "model2.cost=Param(model2.Arcs,\n",
        "                  initialize={(1,2):9,(1,6):5,(1,7):17,(1,8):15,\n",
        "                              (2,1):9,(6,1):5,(7,1):17,(8,1):15,\n",
        "                              (2,4):4,(2,5):14,(2,7):7,(2,8):6,\n",
        "                              (4,2):4,(5,2):14,(7,2):7,(8,2):6,\n",
        "                              (3,6):7,(3,9):2,(3,10):10,\n",
        "                              (6,3):7,(9,3):2,(10,3):10,\n",
        "                              (4,5):8,(4,9):11,\n",
        "                              (5,4):8,(9,4):11,\n",
        "                              (5,7):4,\n",
        "                              (7,5):4,\n",
        "                              (6,8):8,(6,9):12,(6,10):4,\n",
        "                              (8,6):8,(9,6):12,(10,6):4,\n",
        "                              (8,9):3,\n",
        "                              (9,8):3})\n",
        "\n",
        "#Add dec variables\n",
        "#arc being used or not - decision variable xij\n",
        "model2.x=Var(model2.Arcs,domain=Boolean)"
      ],
      "execution_count": null,
      "outputs": []
    },
    {
      "cell_type": "code",
      "source": [
        "#Adding objective function\n",
        "\n",
        "\n"
      ],
      "metadata": {
        "id": "yk_MyWL5pH67"
      },
      "execution_count": null,
      "outputs": []
    },
    {
      "cell_type": "code",
      "source": [
        "#Adding constraints\n"
      ],
      "metadata": {
        "id": "CvuoFoaHpKrv"
      },
      "execution_count": null,
      "outputs": []
    },
    {
      "cell_type": "markdown",
      "metadata": {
        "id": "UI2R21K6HdXF"
      },
      "source": [
        "### Part b: Solving the model"
      ]
    },
    {
      "cell_type": "markdown",
      "metadata": {
        "id": "W5HdaTDA4NmW"
      },
      "source": [
        "### Part c: Find the lowest cost from 3 to all 9 remaining nodes."
      ]
    }
  ]
}