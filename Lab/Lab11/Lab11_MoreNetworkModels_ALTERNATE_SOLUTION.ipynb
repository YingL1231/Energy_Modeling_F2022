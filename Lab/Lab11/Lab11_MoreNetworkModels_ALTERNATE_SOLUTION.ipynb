{
  "nbformat": 4,
  "nbformat_minor": 0,
  "metadata": {
    "kernelspec": {
      "display_name": "Python 3",
      "language": "python",
      "name": "python3"
    },
    "language_info": {
      "codemirror_mode": {
        "name": "ipython",
        "version": 3
      },
      "file_extension": ".py",
      "mimetype": "text/x-python",
      "name": "python",
      "nbconvert_exporter": "python",
      "pygments_lexer": "ipython3",
      "version": "3.7.4"
    },
    "colab": {
      "provenance": [],
      "include_colab_link": true
    }
  },
  "cells": [
    {
      "cell_type": "markdown",
      "metadata": {
        "id": "view-in-github",
        "colab_type": "text"
      },
      "source": [
        "<a href=\"https://colab.research.google.com/github/ENV716/Energy_Modeling_F2022/blob/main/Lab/Lab11/Lab11_MoreNetworkModels_ALTERNATE_SOLUTION.ipynb\" target=\"_parent\"><img src=\"https://colab.research.google.com/assets/colab-badge.svg\" alt=\"Open In Colab\"/></a>"
      ]
    },
    {
      "cell_type": "markdown",
      "metadata": {
        "id": "P0sInrLWNjGn"
      },
      "source": [
        "# **Lab 11 - More Network Models with Pyomo**\n"
      ]
    },
    {
      "cell_type": "markdown",
      "metadata": {
        "id": "9Mc0pKi9UtBk"
      },
      "source": [
        "Learning goals for Lab 11:\n",
        "* Implement other types of Network Models - Max flow;\n",
        "* Implement other types of Network Models - Shortest path.\n"
      ]
    },
    {
      "cell_type": "markdown",
      "metadata": {
        "id": "RRVCA3_S17L0"
      },
      "source": [
        "## Initializing "
      ]
    },
    {
      "cell_type": "code",
      "metadata": {
        "colab": {
          "base_uri": "https://localhost:8080/"
        },
        "id": "p9RjfZs31rSC",
        "outputId": "fac31361-35f1-4687-e96f-949a82c150b7"
      },
      "source": [
        "from google.colab import drive\n",
        "drive.mount('/content/drive')\n",
        "import os\n",
        "os.chdir('/content/drive/MyDrive/Colab Notebooks/')"
      ],
      "execution_count": 20,
      "outputs": [
        {
          "output_type": "stream",
          "name": "stdout",
          "text": [
            "Drive already mounted at /content/drive; to attempt to forcibly remount, call drive.mount(\"/content/drive\", force_remount=True).\n"
          ]
        }
      ]
    },
    {
      "cell_type": "markdown",
      "metadata": {
        "id": "iCRbHUT8110g"
      },
      "source": [
        "Installing Pyomo and solver. Recall for teh shortest path example we have binary variables so we will need to use another solver. Instead of installing glpk, thsi time we will install COIN-OR CBC. \\\\ \n",
        "COIN-OR CBC is a multi-threaded open-source Coin-or branch and cut **mixed-integer linear programming solver**. CBC is generally a good choice for a general purpose MILP solver for medium to large scale problems."
      ]
    },
    {
      "cell_type": "code",
      "metadata": {
        "id": "jAqq5CgB2CdL",
        "colab": {
          "base_uri": "https://localhost:8080/"
        },
        "outputId": "95179fd3-4f1a-4ec8-bbda-cd912d03963a"
      },
      "source": [
        "!pip install pyomo\n",
        "#!apt-get install -y -qq glpk-utils\n",
        "!apt-get install -y -qq coinor-cbc"
      ],
      "execution_count": 21,
      "outputs": [
        {
          "output_type": "stream",
          "name": "stdout",
          "text": [
            "Looking in indexes: https://pypi.org/simple, https://us-python.pkg.dev/colab-wheels/public/simple/\n",
            "Requirement already satisfied: pyomo in /usr/local/lib/python3.7/dist-packages (6.4.2)\n",
            "Requirement already satisfied: ply in /usr/local/lib/python3.7/dist-packages (from pyomo) (3.11)\n"
          ]
        }
      ]
    },
    {
      "cell_type": "markdown",
      "metadata": {
        "id": "uDsRodub2IFw"
      },
      "source": [
        "Importing pyomo and cbc solver."
      ]
    },
    {
      "cell_type": "code",
      "metadata": {
        "id": "hFRChwsqdvDB"
      },
      "source": [
        "from pyomo.environ import *\n",
        "#Import solver\n",
        "opt=SolverFactory('cbc',executable='/usr/bin/cbc')"
      ],
      "execution_count": 22,
      "outputs": []
    },
    {
      "cell_type": "markdown",
      "metadata": {
        "id": "_SwHFQAjPApD"
      },
      "source": [
        "## Exercise 1: Maximum Flow Model - Natural Gas company (A9-Q2)"
      ]
    },
    {
      "cell_type": "markdown",
      "metadata": {
        "id": "4Yz0n3RosfLR"
      },
      "source": [
        "Let's start by writing the max flow problem."
      ]
    },
    {
      "cell_type": "markdown",
      "metadata": {
        "id": "zch1FBVBsXTh"
      },
      "source": [
        "**Sets** \\\\\n",
        "$N$: set of nodes \\\\\n",
        "$K$: set of nodes without source and sink nodes \\\\\n",
        "$A$: set of arcs $(ij)$ \\\\\n",
        "\n",
        "**Parameters** \\\\\n",
        "$u_{ij}$: flow capacity for arc $(ij)$\n",
        "\n",
        "**Decision Variable** \\\\\n",
        "$x_{ij}$: how much flow on arc $(ij)$ - any value from 0 to $u_{ij}$\n",
        "\n",
        "**Model** \\\\\n",
        "$ max \\ \\sum_{j \\in N} x_{1j}$ \\\\\n",
        "$ s.t.$\n",
        "$ \\ \\sum_{j \\in N} x_{ij} = \\sum_{j \\in N} x_{ji} \\quad \\forall i \\in K $ \\\\\n",
        "$ \\quad \\quad \\sum_{j \\in N} x_{1j} = \\sum_{j \\in N} x_{j10} $ \\\\\n",
        "$ \\quad \\quad x_{ij} \\leq u_{ij} \\quad \\forall (ij) \\in A $ \\\\\n",
        "$ \\quad \\quad x_{ij} \\geq 0 \\quad \\forall (ij) \\in A $\n"
      ]
    },
    {
      "cell_type": "markdown",
      "source": [
        "### Implementing model from A9 question 2."
      ],
      "metadata": {
        "id": "RFjN4X64o8Su"
      }
    },
    {
      "cell_type": "code",
      "metadata": {
        "id": "K1ZHhyviF62r"
      },
      "source": [
        "model=ConcreteModel()\n",
        "\n",
        "model.Nodes=Set(initialize=range(1,11))  \n",
        "\n",
        "model.first=1\n",
        "model.last=10\n",
        "#defining set of nodes without origin and destination\n",
        "model.NodesK=Set(within=model.Nodes,initialize=range(2,10))\n",
        "\n",
        "\n",
        "\n",
        "model.Arcs=Set(within=model.Nodes*model.Nodes, \n",
        "                initialize=[(1,2),(1,3),(1,4),(2,5),(5,2),\n",
        "                            (3,4),(3,5),(3,6),(5,3),(6,3),\n",
        "                            (4,6),(4,10),(6,4),(5,7),(5,9),(9,5),\n",
        "                            (6,7),(6,8),(6,10),(7,6),(8,6),\n",
        "                            (7,8),(7,9),(8,7),(9,7),(8,9),(8,10),(9,8),(9,10)])\n",
        "\n",
        "model.FlowCap=Param(model.Arcs,\n",
        "                     initialize={(1,2):5,(1,3):12,(1,4):8,(2,5):6,(5,2):3,\n",
        "                            (3,4):2,(3,5):4,(3,6):5,(5,3):3,(6,3):4,\n",
        "                            (4,6):9,(4,10):2,(6,4):5,(5,7):6,(5,9):5,(9,5):2,\n",
        "                            (6,7):3,(6,8):6,(6,10):8,(7,6):4,(8,6):3,\n",
        "                            (7,8):5,(7,9):7,(8,7):2,(9,7):3,(8,9):5,(8,10):7,(9,8):1,(9,10):4})\n",
        "\n",
        "#Add dec variables\n",
        "model.x=Var(model.Arcs,domain=NonNegativeReals)"
      ],
      "execution_count": 23,
      "outputs": []
    },
    {
      "cell_type": "code",
      "source": [
        "#Adding objective function\n",
        "def max_flow(model):\n",
        "    return sum(model.x[i,j] for (i,j) in model.Arcs if i == model.first)\n",
        "model.maxflow=Objective(rule=max_flow, sense=maximize)\n",
        "\n",
        "print(model.maxflow.expr)\n"
      ],
      "metadata": {
        "colab": {
          "base_uri": "https://localhost:8080/"
        },
        "id": "tdN5MOPHnfFF",
        "outputId": "970b33f7-87d6-47b8-828c-4498a37f0f5f"
      },
      "execution_count": 24,
      "outputs": [
        {
          "output_type": "stream",
          "name": "stdout",
          "text": [
            "x[1,2] + x[1,3] + x[1,4]\n"
          ]
        }
      ]
    },
    {
      "cell_type": "code",
      "metadata": {
        "colab": {
          "base_uri": "https://localhost:8080/"
        },
        "id": "tmvU9cJPHzBA",
        "outputId": "fb9fd1bd-ab99-4d18-8a25-0822c98f8714"
      },
      "source": [
        "#Adding constraints\n",
        "#Flow balance transhipment nodes - for all nodes in K\n",
        "def flow_bal(model, n):\n",
        "    inFlow  = sum(model.x[i,j] for (i,j) in model.Arcs if j == n)\n",
        "    outFlow = sum(model.x[j,i] for (j,i) in model.Arcs if j == n)\n",
        "    return inFlow == outFlow\n",
        "model.flowbalance = Constraint(model.NodesK, rule=flow_bal)\n",
        "\n",
        "#printing constraints\n",
        "for n in model.NodesK:\n",
        "  print(model.flowbalance[n].expr)"
      ],
      "execution_count": 25,
      "outputs": [
        {
          "output_type": "stream",
          "name": "stdout",
          "text": [
            "x[1,2] + x[5,2]  ==  x[2,5]\n",
            "x[1,3] + x[5,3] + x[6,3]  ==  x[3,4] + x[3,5] + x[3,6]\n",
            "x[1,4] + x[3,4] + x[6,4]  ==  x[4,6] + x[4,10]\n",
            "x[2,5] + x[3,5] + x[9,5]  ==  x[5,2] + x[5,3] + x[5,7] + x[5,9]\n",
            "x[3,6] + x[4,6] + x[7,6] + x[8,6]  ==  x[6,3] + x[6,4] + x[6,7] + x[6,8] + x[6,10]\n",
            "x[5,7] + x[6,7] + x[8,7] + x[9,7]  ==  x[7,6] + x[7,8] + x[7,9]\n",
            "x[6,8] + x[7,8] + x[9,8]  ==  x[8,6] + x[8,7] + x[8,9] + x[8,10]\n",
            "x[5,9] + x[7,9] + x[8,9]  ==  x[9,5] + x[9,7] + x[9,8] + x[9,10]\n"
          ]
        }
      ]
    },
    {
      "cell_type": "code",
      "source": [
        "#Adding constraints\n",
        "#flow origin = flow destination - only one\n",
        "def orig_dest(model):\n",
        "    orig  = sum(model.x[i,j] for (i,j) in model.Arcs if i == model.first)\n",
        "    dest = sum(model.x[i,j] for (i,j) in model.Arcs if j == model.last)\n",
        "    return orig == dest\n",
        "model.origdest = Constraint(rule=orig_dest)\n",
        "\n",
        "#printing org = dest constraints\n",
        "print(model.origdest.expr)"
      ],
      "metadata": {
        "colab": {
          "base_uri": "https://localhost:8080/"
        },
        "id": "FeOT3emEnlS2",
        "outputId": "5e72293c-2aec-465d-cdbf-4ec9ab6946ae"
      },
      "execution_count": 26,
      "outputs": [
        {
          "output_type": "stream",
          "name": "stdout",
          "text": [
            "x[1,2] + x[1,3] + x[1,4]  ==  x[4,10] + x[6,10] + x[8,10] + x[9,10]\n"
          ]
        }
      ]
    },
    {
      "cell_type": "code",
      "source": [
        "#Adding constraints\n",
        "#arc flow capacity\n",
        "def flow_cap(model,i,j):\n",
        "    return model.x[i,j] <= model.FlowCap[i,j]\n",
        "model.flowcap = Constraint(model.Arcs,rule=flow_cap) \n",
        "\n",
        "#printing max flow constraints\n",
        "for (i,j) in model.Arcs:\n",
        "  print(model.flowcap[i,j].expr)"
      ],
      "metadata": {
        "colab": {
          "base_uri": "https://localhost:8080/"
        },
        "id": "CTlDJwx2nnn6",
        "outputId": "828061f8-490a-4296-aec4-5765bcec730b"
      },
      "execution_count": 27,
      "outputs": [
        {
          "output_type": "stream",
          "name": "stdout",
          "text": [
            "x[1,2]  <=  5\n",
            "x[1,3]  <=  12\n",
            "x[1,4]  <=  8\n",
            "x[2,5]  <=  6\n",
            "x[5,2]  <=  3\n",
            "x[3,4]  <=  2\n",
            "x[3,5]  <=  4\n",
            "x[3,6]  <=  5\n",
            "x[5,3]  <=  3\n",
            "x[6,3]  <=  4\n",
            "x[4,6]  <=  9\n",
            "x[4,10]  <=  2\n",
            "x[6,4]  <=  5\n",
            "x[5,7]  <=  6\n",
            "x[5,9]  <=  5\n",
            "x[9,5]  <=  2\n",
            "x[6,7]  <=  3\n",
            "x[6,8]  <=  6\n",
            "x[6,10]  <=  8\n",
            "x[7,6]  <=  4\n",
            "x[8,6]  <=  3\n",
            "x[7,8]  <=  5\n",
            "x[7,9]  <=  7\n",
            "x[8,7]  <=  2\n",
            "x[9,7]  <=  3\n",
            "x[8,9]  <=  5\n",
            "x[8,10]  <=  7\n",
            "x[9,8]  <=  1\n",
            "x[9,10]  <=  4\n"
          ]
        }
      ]
    },
    {
      "cell_type": "code",
      "metadata": {
        "colab": {
          "base_uri": "https://localhost:8080/"
        },
        "id": "8mEiqB_dybba",
        "outputId": "cea2a9de-80f1-4383-f912-c1f830ad435d"
      },
      "source": [
        "#Solving model\n",
        "opt.solve(model)\n",
        "\n",
        "#Print results\n",
        "print(\"Max Flow from 1 to 10 =\",model.maxflow())\n",
        "print(\"Decision Variables\")\n",
        "for a in model.Arcs:\n",
        "    print(model.x[a],model.x[a].value)"
      ],
      "execution_count": 28,
      "outputs": [
        {
          "output_type": "stream",
          "name": "stdout",
          "text": [
            "Max Flow from 1 to 10 = 21.0\n",
            "Decision Variables\n",
            "x[1,2] 4.0\n",
            "x[1,3] 9.0\n",
            "x[1,4] 8.0\n",
            "x[2,5] 4.0\n",
            "x[5,2] 0.0\n",
            "x[3,4] 0.0\n",
            "x[3,5] 4.0\n",
            "x[3,6] 5.0\n",
            "x[5,3] 0.0\n",
            "x[6,3] 0.0\n",
            "x[4,6] 6.0\n",
            "x[4,10] 2.0\n",
            "x[6,4] 0.0\n",
            "x[5,7] 4.0\n",
            "x[5,9] 4.0\n",
            "x[9,5] 0.0\n",
            "x[6,7] 0.0\n",
            "x[6,8] 3.0\n",
            "x[6,10] 8.0\n",
            "x[7,6] 0.0\n",
            "x[8,6] 0.0\n",
            "x[7,8] 4.0\n",
            "x[7,9] 0.0\n",
            "x[8,7] 0.0\n",
            "x[9,7] 0.0\n",
            "x[8,9] 0.0\n",
            "x[8,10] 7.0\n",
            "x[9,8] 0.0\n",
            "x[9,10] 4.0\n"
          ]
        }
      ]
    },
    {
      "cell_type": "markdown",
      "metadata": {
        "id": "cw2hTgS2P1Uz"
      },
      "source": [
        "## Exercise 2: Shortest Path - min cost (A9-Q1)"
      ]
    },
    {
      "cell_type": "markdown",
      "source": [
        "Let's start by writing the shortest flow model formulation."
      ],
      "metadata": {
        "id": "YxwrtDy8ozed"
      }
    },
    {
      "cell_type": "markdown",
      "metadata": {
        "id": "2GtK5f6MstMg"
      },
      "source": [
        "**Sets** \\\\\n",
        "$N$: set of nodes \\\\\n",
        "$K$: set of nodes without source and sink \\\\\n",
        "$A$: set of arcs $(ij)$ \\\\\n",
        "\n",
        "**Parameters** \\\\\n",
        "$c_{ij}$: cost for using arc $ij$\n",
        "\n",
        "**Decision Variable** \\\\\n",
        "$x_{ij}$: 1 if arc $(ij)$ is being used, 0 o.w. - binary\n",
        "\n",
        "**Model** \\\\\n",
        "$ min \\ \\sum_{(ij) \\in A} c_{ij}*x_{ij}$ \\\\\n",
        "$ s.t.$\n",
        "$ \\ \\sum_{j \\in N} x_{ij} = \\sum_{j \\in N} x_{ji} \\quad \\forall i \\in K $ \\\\\n",
        "$ \\quad \\quad \\sum_{j \\in N} x_{1j} = 1 $ \\\\\n",
        "$ \\quad \\quad \\sum_{i \\in N} x_{i10} = 1 $ \\\\\n",
        "$ \\quad \\quad x_{ij} \\in \\{0,1\\} \\quad \\forall (ij) \\in A $\n"
      ]
    },
    {
      "cell_type": "markdown",
      "source": [
        "### Part a: Implementing model from A9 question 1."
      ],
      "metadata": {
        "id": "qaIEqSW0pBX9"
      }
    },
    {
      "cell_type": "code",
      "metadata": {
        "colab": {
          "base_uri": "https://localhost:8080/"
        },
        "id": "EfGbm3Zm0ps5",
        "outputId": "061a8bc1-214d-4d66-ca9f-6f002dad1241"
      },
      "source": [
        "model2=ConcreteModel()\n",
        "\n",
        "model2.Nodes=Set(initialize=range(1,11))  \n",
        "model2.first=1\n",
        "model2.last=10\n",
        "\n",
        "model2.Arcs=Set(within=model2.Nodes*model2.Nodes, \n",
        "                initialize=[(1,2),(1,6),(1,7),(1,8),\n",
        "                            (2,1),(6,1),(7,1),(8,1),\n",
        "                            (2,4),(2,5),(2,7),(2,8),\n",
        "                            (4,2),(5,2),(7,2),(8,2),\n",
        "                            (3,6),(3,9),(3,10),\n",
        "                            (6,3),(9,3),(10,3),\n",
        "                            (4,5),(4,9),\n",
        "                            (5,4),(9,4),\n",
        "                            (5,7),\n",
        "                            (7,5),\n",
        "                            (6,8),(6,9),(6,10),\n",
        "                            (8,6),(9,6),(10,6),\n",
        "                            (8,9),\n",
        "                            (9,8)])\n",
        "\n",
        "model2.Arcs.pprint()\n",
        "\n",
        "#Add parameter\n",
        "model2.cost=Param(model2.Arcs,\n",
        "                  initialize={(1,2):9,(1,6):5,(1,7):17,(1,8):15,\n",
        "                              (2,1):9,(6,1):5,(7,1):17,(8,1):15,\n",
        "                              (2,4):4,(2,5):14,(2,7):7,(2,8):6,\n",
        "                              (4,2):4,(5,2):14,(7,2):7,(8,2):6,\n",
        "                              (3,6):7,(3,9):2,(3,10):10,\n",
        "                              (6,3):7,(9,3):2,(10,3):10,\n",
        "                              (4,5):8,(4,9):11,\n",
        "                              (5,4):8,(9,4):11,\n",
        "                              (5,7):4,\n",
        "                              (7,5):4,\n",
        "                              (6,8):8,(6,9):12,(6,10):4,\n",
        "                              (8,6):8,(9,6):12,(10,6):4,\n",
        "                              (8,9):3,\n",
        "                              (9,8):3})\n",
        "\n",
        "#Add dec variables\n",
        "#arc being used or not - decision variable xij\n",
        "model2.x=Var(model2.Arcs,domain=Boolean)"
      ],
      "execution_count": 34,
      "outputs": [
        {
          "output_type": "stream",
          "name": "stdout",
          "text": [
            "Arcs : Size=1, Index=None, Ordered=Insertion\n",
            "    Key  : Dimen : Domain      : Size : Members\n",
            "    None :     2 : Arcs_domain :   36 : {(1, 2), (1, 6), (1, 7), (1, 8), (2, 1), (6, 1), (7, 1), (8, 1), (2, 4), (2, 5), (2, 7), (2, 8), (4, 2), (5, 2), (7, 2), (8, 2), (3, 6), (3, 9), (3, 10), (6, 3), (9, 3), (10, 3), (4, 5), (4, 9), (5, 4), (9, 4), (5, 7), (7, 5), (6, 8), (6, 9), (6, 10), (8, 6), (9, 6), (10, 6), (8, 9), (9, 8)}\n"
          ]
        }
      ]
    },
    {
      "cell_type": "code",
      "source": [
        "#Adding objective function\n",
        "def min_path(model2):\n",
        "    return sum(model2.cost[a]*model2.x[a] for a in model2.Arcs)\n",
        "model2.shortest=Objective(rule=min_path, sense=minimize)\n",
        "\n",
        "print(\"\\nObjective Function\")\n",
        "print(model2.shortest.expr)"
      ],
      "metadata": {
        "colab": {
          "base_uri": "https://localhost:8080/"
        },
        "id": "yk_MyWL5pH67",
        "outputId": "1e01a4ee-dae7-495b-8fa4-0385e1d83a83"
      },
      "execution_count": 35,
      "outputs": [
        {
          "output_type": "stream",
          "name": "stdout",
          "text": [
            "\n",
            "Objective Function\n",
            "9*x[1,2] + 5*x[1,6] + 17*x[1,7] + 15*x[1,8] + 9*x[2,1] + 5*x[6,1] + 17*x[7,1] + 15*x[8,1] + 4*x[2,4] + 14*x[2,5] + 7*x[2,7] + 6*x[2,8] + 4*x[4,2] + 14*x[5,2] + 7*x[7,2] + 6*x[8,2] + 7*x[3,6] + 2*x[3,9] + 10*x[3,10] + 7*x[6,3] + 2*x[9,3] + 10*x[10,3] + 8*x[4,5] + 11*x[4,9] + 8*x[5,4] + 11*x[9,4] + 4*x[5,7] + 4*x[7,5] + 8*x[6,8] + 12*x[6,9] + 4*x[6,10] + 8*x[8,6] + 12*x[9,6] + 4*x[10,6] + 3*x[8,9] + 3*x[9,8]\n"
          ]
        }
      ]
    },
    {
      "cell_type": "code",
      "source": [
        "#Adding constraints\n",
        "def flow_rule(model2, n):\n",
        "    if(n == model2.first): #origin constraint\n",
        "        return sum(model2.x[i,j] for (i,j) in model2.Arcs if i==n) - sum(model2.x[i,j] for (i,j) in model2.Arcs if j==n) == 1\n",
        "    elif(n == model2.last):  #destination constraint\n",
        "        return sum(model2.x[i,j] for (i,j) in model2.Arcs if j==n) - sum(model2.x[i,j] for (i,j) in model2.Arcs if i==n) == 1\n",
        "    else: #transhipment constraint\n",
        "        inFlow  = sum(model2.x[i,j] for (i,j) in model2.Arcs if j == n)\n",
        "        outFlow = sum(model2.x[j,i] for (j,i) in model2.Arcs if j == n)\n",
        "        return inFlow == outFlow\n",
        "model2.flow = Constraint(model2.Nodes, rule=flow_rule)\n",
        "\n",
        "print(\"Constraints\")\n",
        "for n in model2.Nodes:\n",
        "  print(model2.flow[n].expr)"
      ],
      "metadata": {
        "colab": {
          "base_uri": "https://localhost:8080/"
        },
        "id": "CvuoFoaHpKrv",
        "outputId": "c9742bb6-0e3a-4ff3-f1cf-570ba0c44030"
      },
      "execution_count": 36,
      "outputs": [
        {
          "output_type": "stream",
          "name": "stdout",
          "text": [
            "Constraints\n",
            "x[1,2] + x[1,6] + x[1,7] + x[1,8] - (x[2,1] + x[6,1] + x[7,1] + x[8,1])  ==  1\n",
            "x[1,2] + x[4,2] + x[5,2] + x[7,2] + x[8,2]  ==  x[2,1] + x[2,4] + x[2,5] + x[2,7] + x[2,8]\n",
            "x[6,3] + x[9,3] + x[10,3]  ==  x[3,6] + x[3,9] + x[3,10]\n",
            "x[2,4] + x[5,4] + x[9,4]  ==  x[4,2] + x[4,5] + x[4,9]\n",
            "x[2,5] + x[4,5] + x[7,5]  ==  x[5,2] + x[5,4] + x[5,7]\n",
            "x[1,6] + x[3,6] + x[8,6] + x[9,6] + x[10,6]  ==  x[6,1] + x[6,3] + x[6,8] + x[6,9] + x[6,10]\n",
            "x[1,7] + x[2,7] + x[5,7]  ==  x[7,1] + x[7,2] + x[7,5]\n",
            "x[1,8] + x[2,8] + x[6,8] + x[9,8]  ==  x[8,1] + x[8,2] + x[8,6] + x[8,9]\n",
            "x[3,9] + x[4,9] + x[6,9] + x[8,9]  ==  x[9,3] + x[9,4] + x[9,6] + x[9,8]\n",
            "x[3,10] + x[6,10] - (x[10,3] + x[10,6])  ==  1\n"
          ]
        }
      ]
    },
    {
      "cell_type": "markdown",
      "metadata": {
        "id": "UI2R21K6HdXF"
      },
      "source": [
        "### Part b: Solving the model"
      ]
    },
    {
      "cell_type": "code",
      "metadata": {
        "colab": {
          "base_uri": "https://localhost:8080/"
        },
        "id": "9l82YRSO337b",
        "outputId": "0b367e51-3721-43b5-ec07-69b863e010d3"
      },
      "source": [
        "opt.solve(model2)\n",
        "\n",
        "#Print results\n",
        "print(\"Lowest cost from 1 to 10 =\",model2.shortest())\n",
        "print(\"Decision Variables\")\n",
        "for a in model2.Arcs:\n",
        "    print(model2.x[a],model2.x[a].value)"
      ],
      "execution_count": 37,
      "outputs": [
        {
          "output_type": "stream",
          "name": "stdout",
          "text": [
            "Lowest cost from 1 to 10 = 9.0\n",
            "Decision Variables\n",
            "x[1,2] 0.0\n",
            "x[1,6] 1.0\n",
            "x[1,7] 0.0\n",
            "x[1,8] 0.0\n",
            "x[2,1] 0.0\n",
            "x[6,1] 0.0\n",
            "x[7,1] 0.0\n",
            "x[8,1] 0.0\n",
            "x[2,4] 0.0\n",
            "x[2,5] 0.0\n",
            "x[2,7] 0.0\n",
            "x[2,8] 0.0\n",
            "x[4,2] 0.0\n",
            "x[5,2] 0.0\n",
            "x[7,2] 0.0\n",
            "x[8,2] 0.0\n",
            "x[3,6] 0.0\n",
            "x[3,9] 0.0\n",
            "x[3,10] 0.0\n",
            "x[6,3] 0.0\n",
            "x[9,3] 0.0\n",
            "x[10,3] 0.0\n",
            "x[4,5] 0.0\n",
            "x[4,9] 0.0\n",
            "x[5,4] 0.0\n",
            "x[9,4] 0.0\n",
            "x[5,7] 0.0\n",
            "x[7,5] 0.0\n",
            "x[6,8] 0.0\n",
            "x[6,9] 0.0\n",
            "x[6,10] 1.0\n",
            "x[8,6] 0.0\n",
            "x[9,6] 0.0\n",
            "x[10,6] 0.0\n",
            "x[8,9] 0.0\n",
            "x[9,8] 0.0\n"
          ]
        }
      ]
    },
    {
      "cell_type": "markdown",
      "metadata": {
        "id": "W5HdaTDA4NmW"
      },
      "source": [
        "### Part c: Find the lowest cost from 3 to all 9 remaining nodes."
      ]
    },
    {
      "cell_type": "markdown",
      "metadata": {
        "id": "Qbon9leDuy9P"
      },
      "source": [
        "This is one approach. There are other possible ways to do it!"
      ]
    },
    {
      "cell_type": "code",
      "metadata": {
        "colab": {
          "base_uri": "https://localhost:8080/"
        },
        "id": "etS1auWSCMFV",
        "outputId": "d2b24c04-1dbf-4053-ed5b-0327a220afca"
      },
      "source": [
        "import numpy as np\n",
        "opt_sol = np.zeros(shape=(11,1))\n",
        "\n",
        "origin = 3\n",
        "\n",
        "for destination in range(1,11):\n",
        "  if(destination != origin):\n",
        "\n",
        "    model2=ConcreteModel()\n",
        "\n",
        "    model2.Nodes=Set(initialize=range(1,11))  \n",
        "\n",
        "    #Create set K with all nodes - origin - destination\n",
        "    model2.OrgDest = Set(initialize=[origin,destination])\n",
        "    model2.NodesK = model2.Nodes - model2.OrgDest\n",
        "    #print(model2.NodesK.pprint())\n",
        "\n",
        "    model2.Arcs=Set(within=model2.Nodes*model2.Nodes, \n",
        "                initialize=[(1,2),(1,6),(1,7),(1,8),\n",
        "                            (2,1),(6,1),(7,1),(8,1),\n",
        "                            (2,4),(2,5),(2,7),(2,8),\n",
        "                            (4,2),(5,2),(7,2),(8,2),\n",
        "                            (3,6),(3,9),(3,10),\n",
        "                            (6,3),(9,3),(10,3),\n",
        "                            (4,5),(4,9),\n",
        "                            (5,4),(9,4),\n",
        "                            (5,7),\n",
        "                            (7,5),\n",
        "                            (6,8),(6,9),(6,10),\n",
        "                            (8,6),(9,6),(10,6),\n",
        "                            (8,9),\n",
        "                            (9,8)])\n",
        "\n",
        "    #Add parameter\n",
        "    model2.cost=Param(model2.Arcs,\n",
        "                  initialize={(1,2):9,(1,6):5,(1,7):17,(1,8):15,\n",
        "                              (2,1):9,(6,1):5,(7,1):17,(8,1):15,\n",
        "                              (2,4):4,(2,5):14,(2,7):7,(2,8):6,\n",
        "                              (4,2):4,(5,2):14,(7,2):7,(8,2):6,\n",
        "                              (3,6):7,(3,9):2,(3,10):10,\n",
        "                              (6,3):7,(9,3):2,(10,3):10,\n",
        "                              (4,5):8,(4,9):11,\n",
        "                              (5,4):8,(9,4):11,\n",
        "                              (5,7):4,\n",
        "                              (7,5):4,\n",
        "                              (6,8):8,(6,9):12,(6,10):4,\n",
        "                              (8,6):8,(9,6):12,(10,6):4,\n",
        "                              (8,9):3,\n",
        "                              (9,8):3})\n",
        "\n",
        "    #Add dec variables\n",
        "    model2.x=Var(model2.Arcs,domain=Boolean)\n",
        "\n",
        "    #Adding objective function\n",
        "    def min_path(model2):\n",
        "      return sum(model2.cost[a]*model2.x[a] for a in model2.Arcs)\n",
        "    model2.shortest=Objective(rule=min_path, sense=minimize)\n",
        "\n",
        "    #Adding constraints\n",
        "    #origin =1\n",
        "    def orig_rule(model2):\n",
        "      return sum(model2.x[i,j] for (i,j) in model2.Arcs if i==origin) - sum(model2.x[i,j] for (i,j) in model2.Arcs if j==origin) == 1\n",
        "    model2.orig = Constraint(rule=orig_rule)\n",
        "\n",
        "    #destination =1\n",
        "    def dest_rule(model2):\n",
        "      return sum(model2.x[i,j] for (i,j) in model2.Arcs if j==destination) - sum(model2.x[i,j] for (i,j) in model2.Arcs if i==destination) == 1\n",
        "    model2.dest = Constraint(rule=dest_rule)\n",
        "\n",
        "    def tranship_rule(model2, n):\n",
        "      inFlow  = sum(model2.x[i,j] for (i,j) in model2.Arcs if i == n)\n",
        "      outFlow = sum(model2.x[j,i] for (j,i) in model2.Arcs if i == n)\n",
        "      return inFlow == outFlow\n",
        "    model2.tranship = Constraint(model2.NodesK, rule=tranship_rule)\n",
        "    \n",
        "    opt.solve(model2)\n",
        "    opt_sol[destination] =  model2.shortest()\n",
        "    #Print results\n",
        "    print(\"Lowest cost from 3 to\",destination,\"=\",model2.shortest())\n",
        "    for (i,j) in model2.Arcs:\n",
        "      if model2.x[i,j].value != 0:\n",
        "        print(model2.x[i,j],model2.x[i,j].value,model2.cost[i,j])"
      ],
      "execution_count": 40,
      "outputs": [
        {
          "output_type": "stream",
          "name": "stdout",
          "text": [
            "Lowest cost from 3 to 1 = 12.0\n",
            "x[6,1] 1.0 5\n",
            "x[3,6] 1.0 7\n",
            "Lowest cost from 3 to 2 = 11.0\n",
            "x[8,2] 1.0 6\n",
            "x[3,9] 1.0 2\n",
            "x[9,8] 1.0 3\n",
            "Lowest cost from 3 to 4 = 13.0\n",
            "x[3,9] 1.0 2\n",
            "x[9,4] 1.0 11\n",
            "Lowest cost from 3 to 5 = 21.0\n",
            "x[3,9] 1.0 2\n",
            "x[4,5] 1.0 8\n",
            "x[9,4] 1.0 11\n",
            "Lowest cost from 3 to 6 = 7.0\n",
            "x[3,6] 1.0 7\n",
            "Lowest cost from 3 to 7 = 18.0\n",
            "x[2,7] 1.0 7\n",
            "x[8,2] 1.0 6\n",
            "x[3,9] 1.0 2\n",
            "x[9,8] 1.0 3\n",
            "Lowest cost from 3 to 8 = 5.0\n",
            "x[3,9] 1.0 2\n",
            "x[9,8] 1.0 3\n",
            "Lowest cost from 3 to 9 = 2.0\n",
            "x[3,9] 1.0 2\n",
            "Lowest cost from 3 to 10 = 10.0\n",
            "x[3,10] 1.0 10\n"
          ]
        }
      ]
    }
  ]
}