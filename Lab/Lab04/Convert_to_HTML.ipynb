{
  "nbformat": 4,
  "nbformat_minor": 0,
  "metadata": {
    "colab": {
      "provenance": [],
      "mount_file_id": "11DOl1C8rSEBwWcjYS5000l-EqKMQM0Ce",
      "authorship_tag": "ABX9TyN5KUfM1pENJP23dzCn/xRB",
      "include_colab_link": true
    },
    "kernelspec": {
      "name": "python3",
      "display_name": "Python 3"
    },
    "language_info": {
      "name": "python"
    }
  },
  "cells": [
    {
      "cell_type": "markdown",
      "metadata": {
        "id": "view-in-github",
        "colab_type": "text"
      },
      "source": [
        "<a href=\"https://colab.research.google.com/github/ENV716/Energy_Modeling_F2022/blob/main/Lab/Lab04/Convert_to_HTML.ipynb\" target=\"_parent\"><img src=\"https://colab.research.google.com/assets/colab-badge.svg\" alt=\"Open In Colab\"/></a>"
      ]
    },
    {
      "cell_type": "code",
      "execution_count": null,
      "metadata": {
        "id": "NX1SeArcV9KX"
      },
      "outputs": [],
      "source": [
        "%%shell\n",
        "pip install nbconvert\n",
        "jupyter nbconvert --to html '/path/filename.ipynb'"
      ]
    }
  ]
}