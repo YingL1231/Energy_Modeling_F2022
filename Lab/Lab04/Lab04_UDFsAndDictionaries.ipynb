{
  "nbformat": 4,
  "nbformat_minor": 0,
  "metadata": {
    "kernelspec": {
      "display_name": "Python 3",
      "language": "python",
      "name": "python3"
    },
    "language_info": {
      "codemirror_mode": {
        "name": "ipython",
        "version": 3
      },
      "file_extension": ".py",
      "mimetype": "text/x-python",
      "name": "python",
      "nbconvert_exporter": "python",
      "pygments_lexer": "ipython3",
      "version": "3.7.4"
    },
    "colab": {
      "provenance": [],
      "collapsed_sections": [],
      "toc_visible": true,
      "include_colab_link": true
    }
  },
  "cells": [
    {
      "cell_type": "markdown",
      "metadata": {
        "id": "view-in-github",
        "colab_type": "text"
      },
      "source": [
        "<a href=\"https://colab.research.google.com/github/ENV716/Energy_Modeling_F2022/blob/main/Lab/Lab04/Lab04_UDFsAndDictionaries.ipynb\" target=\"_parent\"><img src=\"https://colab.research.google.com/assets/colab-badge.svg\" alt=\"Open In Colab\"/></a>"
      ]
    },
    {
      "cell_type": "markdown",
      "metadata": {
        "id": "N6qkW4Bq9lca"
      },
      "source": [
        "# **Lab 04 – User Defined Function (UDF) and Dictionaries in Python**"
      ]
    },
    {
      "cell_type": "markdown",
      "metadata": {
        "id": "6EOoaHxC98Lh"
      },
      "source": [
        "Learning goals for Lab 04:\n",
        "* Learn how to create your own functions or a User Defined Function (UDF);\n",
        "* Learn how to call your function and store the output;\n",
        "* Learn how to improve your functions to make it more user friendly with IF statements;\n",
        "* Learn how to create a dictionary and how to use within a function definition.\n",
        "\n",
        "A function is a block of code that is only run when called. They are useful because they can be used repeatedly without the need to repeat all the code. Once you create a function it can be called within other functions, loop structurse and even from Python prompt.\n",
        "\n"
      ]
    },
    {
      "cell_type": "code",
      "metadata": {
        "colab": {
          "base_uri": "https://localhost:8080/"
        },
        "id": "TPHOrFrE9vZk",
        "outputId": "00eed295-d794-461e-9a0d-076520a73d3b"
      },
      "source": [
        "from google.colab import drive\n",
        "drive.mount('/content/drive')"
      ],
      "execution_count": null,
      "outputs": [
        {
          "output_type": "stream",
          "name": "stdout",
          "text": [
            "Mounted at /content/drive\n"
          ]
        }
      ]
    },
    {
      "cell_type": "code",
      "metadata": {
        "id": "CvUpCMsS-K0L"
      },
      "source": [
        "import os\n",
        "os.chdir('/content/drive/MyDrive/Colab Notebooks/')"
      ],
      "execution_count": null,
      "outputs": []
    },
    {
      "cell_type": "code",
      "metadata": {
        "id": "9_wO04ooN419"
      },
      "source": [
        "import pandas as pd\n",
        "import numpy as np"
      ],
      "execution_count": null,
      "outputs": []
    },
    {
      "cell_type": "markdown",
      "metadata": {
        "id": "0eNZjydL-UAT"
      },
      "source": [
        "## Example 1: Create a UDF that computes the product of two numbers"
      ]
    },
    {
      "cell_type": "markdown",
      "metadata": {
        "id": "toob1BClAuov"
      },
      "source": [
        "Step 1: Define the function. Note the syntax. \\\\\n",
        "def FunctionName(input): \\\\\n",
        "    code \\\\\n",
        "    return(output) \\\\\n"
      ]
    },
    {
      "cell_type": "code",
      "metadata": {
        "id": "LgMTlHuO8Wzp"
      },
      "source": [
        "#Create UDFs in Python\n",
        "#Example 1\n",
        "def product(a,b):\n",
        "    out = a * b\n",
        "    return out"
      ],
      "execution_count": null,
      "outputs": []
    },
    {
      "cell_type": "markdown",
      "metadata": {
        "id": "b05eAAszBUiX"
      },
      "source": [
        "Step 2: Call the function. Don't forget to provide the arguments."
      ]
    },
    {
      "cell_type": "code",
      "metadata": {
        "id": "CEnp6LBV8Wzq",
        "colab": {
          "base_uri": "https://localhost:8080/"
        },
        "outputId": "d7a05d5e-51fb-48b2-83ed-181858afcef7"
      },
      "source": [
        "product(4,5)"
      ],
      "execution_count": null,
      "outputs": [
        {
          "output_type": "execute_result",
          "data": {
            "text/plain": [
              "20"
            ]
          },
          "metadata": {},
          "execution_count": 6
        }
      ]
    },
    {
      "cell_type": "markdown",
      "metadata": {
        "id": "xnmRI6WgBdY2"
      },
      "source": [
        "Step 3: If need the output can be stored in a variable. "
      ]
    },
    {
      "cell_type": "code",
      "metadata": {
        "id": "_1DFmxig8Wzr"
      },
      "source": [
        "prod = product(4,5)"
      ],
      "execution_count": null,
      "outputs": []
    },
    {
      "cell_type": "code",
      "metadata": {
        "id": "7jAxxdpp8Wzr",
        "colab": {
          "base_uri": "https://localhost:8080/"
        },
        "outputId": "54cd0017-c261-47eb-815f-47d849109fb2"
      },
      "source": [
        "print(prod)"
      ],
      "execution_count": null,
      "outputs": [
        {
          "output_type": "stream",
          "name": "stdout",
          "text": [
            "20\n"
          ]
        }
      ]
    },
    {
      "cell_type": "markdown",
      "metadata": {
        "id": "St4S1y2_-sdG"
      },
      "source": [
        "## Example 2: Create a UDF that convert Celsius to Fahrenheit"
      ]
    },
    {
      "cell_type": "markdown",
      "metadata": {
        "id": "dcNmu72gBqVV"
      },
      "source": [
        "We start with a simple function to convert Celsius to Fahrenheit. "
      ]
    },
    {
      "cell_type": "code",
      "metadata": {
        "id": "B_uV6bPG8Wzs"
      },
      "source": [
        "#Convert temperature - Celsius to Fahrenheit\n",
        "def TempConverter(tempC):\n",
        "    tempF = tempC * 9 / 5 + 32\n",
        "    return tempF"
      ],
      "execution_count": null,
      "outputs": []
    },
    {
      "cell_type": "code",
      "metadata": {
        "id": "wp1aqY8Q8Wzs",
        "colab": {
          "base_uri": "https://localhost:8080/",
          "height": 182
        },
        "outputId": "75566b2b-9338-497c-d492-a99694c2ed72"
      },
      "source": [
        "Tempconverter(30)"
      ],
      "execution_count": null,
      "outputs": [
        {
          "output_type": "error",
          "ename": "NameError",
          "evalue": "ignored",
          "traceback": [
            "\u001b[0;31m---------------------------------------------------------------------------\u001b[0m",
            "\u001b[0;31mNameError\u001b[0m                                 Traceback (most recent call last)",
            "\u001b[0;32m<ipython-input-11-f291c0076924>\u001b[0m in \u001b[0;36m<module>\u001b[0;34m\u001b[0m\n\u001b[0;32m----> 1\u001b[0;31m \u001b[0mTempconverter\u001b[0m\u001b[0;34m(\u001b[0m\u001b[0;36m30\u001b[0m\u001b[0;34m)\u001b[0m\u001b[0;34m\u001b[0m\u001b[0;34m\u001b[0m\u001b[0m\n\u001b[0m",
            "\u001b[0;31mNameError\u001b[0m: name 'Tempconverter' is not defined"
          ]
        }
      ]
    },
    {
      "cell_type": "markdown",
      "metadata": {
        "id": "KTQe8OEe_HhS"
      },
      "source": [
        "What's wrong here? The error 'Tempconverter' is not defined means Python doesn't knwo this function. So you either defined it wrong or used another name. Function names and variables name are CASE SENSITIVE and that's what is wrong here."
      ]
    },
    {
      "cell_type": "code",
      "metadata": {
        "id": "dGfvBAh98Wzs",
        "colab": {
          "base_uri": "https://localhost:8080/"
        },
        "outputId": "6258bf81-1980-4a8c-9495-21a635c43c6d"
      },
      "source": [
        "TempConverter(30)"
      ],
      "execution_count": null,
      "outputs": [
        {
          "output_type": "execute_result",
          "data": {
            "text/plain": [
              "86.0"
            ]
          },
          "metadata": {},
          "execution_count": 12
        }
      ]
    },
    {
      "cell_type": "markdown",
      "metadata": {
        "id": "swDUwL8x_juf"
      },
      "source": [
        "## Example 3: Create UDF that converts Celsius or Kelvin to Fahrenheit"
      ]
    },
    {
      "cell_type": "code",
      "metadata": {
        "id": "wTqxWzxM8Wzt"
      },
      "source": [
        "#Convert temperature - Celsius/Kelvin to Fahrenheit\n",
        "def TempConverter(unit,temp):\n",
        "    if(unit == \"Celsius\"):\n",
        "        tempF = temp * 9 / 5 + 32\n",
        "    elif(unit == \"Kelvin\"):\n",
        "        tempF = (temp - 273) * 9 / 5 + 32\n",
        "    else:\n",
        "        tempF = temp\n",
        "    return tempF"
      ],
      "execution_count": null,
      "outputs": []
    },
    {
      "cell_type": "code",
      "metadata": {
        "id": "MLGgNVD_8Wzt",
        "colab": {
          "base_uri": "https://localhost:8080/"
        },
        "outputId": "fe60fbe5-c1f7-49cb-bcc5-91f130ba1011"
      },
      "source": [
        "TempConverter(\"Celsius\",30)"
      ],
      "execution_count": null,
      "outputs": [
        {
          "output_type": "execute_result",
          "data": {
            "text/plain": [
              "86.0"
            ]
          },
          "metadata": {},
          "execution_count": 14
        }
      ]
    },
    {
      "cell_type": "code",
      "metadata": {
        "id": "xZeW9HPy8Wzu",
        "colab": {
          "base_uri": "https://localhost:8080/"
        },
        "outputId": "1cf99f6a-1ce7-471e-9930-a85cc59c39ed"
      },
      "source": [
        "TempConverter(\"Kelvin\",273)"
      ],
      "execution_count": null,
      "outputs": [
        {
          "output_type": "execute_result",
          "data": {
            "text/plain": [
              "32.0"
            ]
          },
          "metadata": {},
          "execution_count": 15
        }
      ]
    },
    {
      "cell_type": "markdown",
      "metadata": {
        "id": "rvnscYEK_9PL"
      },
      "source": [
        "## Example 4: Improve UDF such that it understands all possible unit entries."
      ]
    },
    {
      "cell_type": "markdown",
      "metadata": {
        "id": "kX_DqPUlB9_J"
      },
      "source": [
        "Considering that there are different ways to spell the temperature unit, how could this function be improved? You could add all the possible ways to the if statements, similarly to watch you did in VBA. Another solution, and the one we will explore, is to create a dictionary.\n",
        "\n",
        "A dictionary is an associative array and its structure is show below. \n"
      ]
    },
    {
      "cell_type": "code",
      "metadata": {
        "id": "VePZRK0S8Wzu"
      },
      "source": [
        "TempUnits={\n",
        "    \"Celsius\":\"Celsius\",\n",
        "    \"CELSIUS\":\"Celsius\",\n",
        "    \"C\":\"Celsius\",\n",
        "    \"celsius\":\"Celsius\"\n",
        "}"
      ],
      "execution_count": null,
      "outputs": []
    },
    {
      "cell_type": "code",
      "metadata": {
        "id": "y7CYrWMK8Wzu",
        "colab": {
          "base_uri": "https://localhost:8080/",
          "height": 58
        },
        "outputId": "40be7d02-1eac-478f-f010-aa440b238fed"
      },
      "source": [
        "unit=TempUnits.get(\"C\")\n",
        "unit"
      ],
      "execution_count": null,
      "outputs": [
        {
          "output_type": "execute_result",
          "data": {
            "text/plain": [
              "'Celsius'"
            ],
            "application/vnd.google.colaboratory.intrinsic+json": {
              "type": "string"
            }
          },
          "metadata": {},
          "execution_count": 17
        }
      ]
    },
    {
      "cell_type": "code",
      "metadata": {
        "id": "JTUyaa0h8Wzv",
        "colab": {
          "base_uri": "https://localhost:8080/",
          "height": 58
        },
        "outputId": "32c9555a-c8ae-40bf-eb59-d59abbeb39e1"
      },
      "source": [
        "unit=TempUnits.get(\"CELSIUS\")\n",
        "unit"
      ],
      "execution_count": null,
      "outputs": [
        {
          "output_type": "execute_result",
          "data": {
            "text/plain": [
              "'Celsius'"
            ],
            "application/vnd.google.colaboratory.intrinsic+json": {
              "type": "string"
            }
          },
          "metadata": {},
          "execution_count": 18
        }
      ]
    },
    {
      "cell_type": "markdown",
      "metadata": {
        "id": "cpYyihGWCIFV"
      },
      "source": [
        "A complete list for all other units is show below."
      ]
    },
    {
      "cell_type": "code",
      "metadata": {
        "id": "6C-UY_wO8Wzw"
      },
      "source": [
        "TempUnits={\n",
        "    \"Celsius\":\"Celsius\",\n",
        "    \"CELSIUS\":\"Celsius\",\n",
        "    \"C\":\"Celsius\",\n",
        "    \"celsius\":\"Celsius\",\n",
        "    \"Kelvin\":\"Kelvin\",\n",
        "    \"K\":\"Kelvin\",\n",
        "    \"KELVIN\":\"Kelvin\",\n",
        "    \"kelvin\":\"Kelvin\",\n",
        "    \"Fahrenheit\":\"Fahrenheit\",\n",
        "    \"FAHRENHEIT\":\"Fahrenheit\",\n",
        "    \"F\":\"Fahrenheit\",\n",
        "    \"fahrenheit\":\"Fahrenheit\"\n",
        "}"
      ],
      "execution_count": null,
      "outputs": []
    },
    {
      "cell_type": "markdown",
      "metadata": {
        "id": "Mp3KtH17CL4a"
      },
      "source": [
        "Now all you need to do is use the dictionary and the get() function to convert any user input unit to a string the function will recognize."
      ]
    },
    {
      "cell_type": "code",
      "metadata": {
        "id": "VVOwB0Ro8Wzx"
      },
      "source": [
        "#Redefine function to be more general\n",
        "#Convert temperature - Celsius/Kelvin to Fahrenheit\n",
        "def TempConverter(unit,temp):\n",
        "    unit = TempUnits.get(unit)\n",
        "    if(unit == \"Celsius\"):\n",
        "        tempF = temp * 9 / 5 + 32\n",
        "    elif(unit == \"Kelvin\"):\n",
        "        tempF = (temp - 273) * 9 / 5 + 32\n",
        "    else:\n",
        "        tempF = temp\n",
        "    return tempF"
      ],
      "execution_count": null,
      "outputs": []
    },
    {
      "cell_type": "code",
      "metadata": {
        "id": "pNsqUDpD8Wzw",
        "colab": {
          "base_uri": "https://localhost:8080/"
        },
        "outputId": "53168f3d-30e0-4e33-a428-a52da1312d18"
      },
      "source": [
        "TempConverter(\"K\",273)"
      ],
      "execution_count": null,
      "outputs": [
        {
          "output_type": "execute_result",
          "data": {
            "text/plain": [
              "32.0"
            ]
          },
          "metadata": {},
          "execution_count": 39
        }
      ]
    },
    {
      "cell_type": "code",
      "metadata": {
        "id": "zZt5s4cx8Wzy",
        "colab": {
          "base_uri": "https://localhost:8080/"
        },
        "outputId": "6943ca31-83fa-4742-f757-0ef427ed1e5c"
      },
      "source": [
        "TempConverter(\"CELSIUS\",30)"
      ],
      "execution_count": null,
      "outputs": [
        {
          "output_type": "execute_result",
          "data": {
            "text/plain": [
              "86.0"
            ]
          },
          "metadata": {},
          "execution_count": 40
        }
      ]
    },
    {
      "cell_type": "code",
      "metadata": {
        "id": "WgHqKgVZ8Wzy",
        "colab": {
          "base_uri": "https://localhost:8080/"
        },
        "outputId": "052f3b73-b966-4df2-8560-e25534f38c62"
      },
      "source": [
        "TempConverter(\"farenheit\",86)"
      ],
      "execution_count": null,
      "outputs": [
        {
          "output_type": "execute_result",
          "data": {
            "text/plain": [
              "86"
            ]
          },
          "metadata": {},
          "execution_count": 41
        }
      ]
    }
  ]
}