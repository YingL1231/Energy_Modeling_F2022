{
  "nbformat": 4,
  "nbformat_minor": 0,
  "metadata": {
    "kernelspec": {
      "display_name": "Python 3",
      "language": "python",
      "name": "python3"
    },
    "language_info": {
      "codemirror_mode": {
        "name": "ipython",
        "version": 3
      },
      "file_extension": ".py",
      "mimetype": "text/x-python",
      "name": "python",
      "nbconvert_exporter": "python",
      "pygments_lexer": "ipython3",
      "version": "3.7.4"
    },
    "colab": {
      "provenance": [],
      "collapsed_sections": [],
      "toc_visible": true,
      "include_colab_link": true
    }
  },
  "cells": [
    {
      "cell_type": "markdown",
      "metadata": {
        "id": "view-in-github",
        "colab_type": "text"
      },
      "source": [
        "<a href=\"https://colab.research.google.com/github/ENV716/Energy_Modeling_F2022/blob/main/Lab/Lab04/Lab04_Exercises.ipynb\" target=\"_parent\"><img src=\"https://colab.research.google.com/assets/colab-badge.svg\" alt=\"Open In Colab\"/></a>"
      ]
    },
    {
      "cell_type": "markdown",
      "metadata": {
        "id": "N6qkW4Bq9lca"
      },
      "source": [
        "# **Lab 04 – Exercises**"
      ]
    },
    {
      "cell_type": "code",
      "metadata": {
        "colab": {
          "base_uri": "https://localhost:8080/"
        },
        "id": "TPHOrFrE9vZk",
        "outputId": "00eed295-d794-461e-9a0d-076520a73d3b"
      },
      "source": [
        "from google.colab import drive\n",
        "drive.mount('/content/drive')"
      ],
      "execution_count": null,
      "outputs": [
        {
          "output_type": "stream",
          "name": "stdout",
          "text": [
            "Mounted at /content/drive\n"
          ]
        }
      ]
    },
    {
      "cell_type": "code",
      "metadata": {
        "id": "CvUpCMsS-K0L"
      },
      "source": [
        "import os\n",
        "os.chdir('/content/drive/MyDrive/Colab Notebooks/')"
      ],
      "execution_count": null,
      "outputs": []
    },
    {
      "cell_type": "code",
      "metadata": {
        "id": "9_wO04ooN419"
      },
      "source": [
        "import pandas as pd\n",
        "import numpy as np"
      ],
      "execution_count": null,
      "outputs": []
    },
    {
      "cell_type": "markdown",
      "metadata": {
        "id": "lrbNd3AdDlAA"
      },
      "source": [
        "## Exercise 1: Create a function that filters generators by primary fuel and returns total installed capacity"
      ]
    },
    {
      "cell_type": "markdown",
      "metadata": {
        "id": "LJaCGXwyGrWo"
      },
      "source": [
        "The function should take two arguments: a data frame containing the GEN19 spreadsheet from egrid and a primary fuel source. Note that you will need to import the spreadsheet first and then call the function. The function should filter the data frame by the fuel source specified and calculate total installed capacity. Note that the fuel source you specify should match elements in column FUELG1. \\\\\n",
        "Remember to give you function a informative name."
      ]
    },
    {
      "cell_type": "code",
      "metadata": {
        "id": "m8y9CVShPF6m"
      },
      "source": [
        "#your code"
      ],
      "execution_count": null,
      "outputs": []
    },
    {
      "cell_type": "markdown",
      "source": [
        "Now run the function to find total installed capacity for fuel = \"SUN\" and output the results using print and format(). Your number should have three decimal points. "
      ],
      "metadata": {
        "id": "Dql4l093JKUU"
      }
    },
    {
      "cell_type": "code",
      "source": [
        "#your code"
      ],
      "metadata": {
        "id": "nQKgoO5fJmaS"
      },
      "execution_count": null,
      "outputs": []
    },
    {
      "cell_type": "markdown",
      "metadata": {
        "id": "xodIlkchRWEe"
      },
      "source": [
        "## Exercise 2: Modify the function such that egrid is imported within the function"
      ]
    },
    {
      "cell_type": "markdown",
      "metadata": {
        "id": "86dYX-gCZ8UI"
      },
      "source": [
        "Now instead of taking the data frame, the function should take name of the file and the name of the spreadsheet to be imported, i.e., you will need to call pd.read_excel() inside the function. Remember to give another name to the new function, so you do not loose the one you defined in Example 5. "
      ]
    },
    {
      "cell_type": "code",
      "metadata": {
        "id": "jxpSQ5UORrVd"
      },
      "source": [
        "# your code"
      ],
      "execution_count": null,
      "outputs": []
    },
    {
      "cell_type": "markdown",
      "metadata": {
        "id": "Pivu7foXSMvO"
      },
      "source": [
        "Note that it took a bit longer now to output results because the file is imported within the function. Now try to acess the data frame df by typing df.head(10). What happens?"
      ]
    },
    {
      "cell_type": "code",
      "metadata": {
        "id": "RpdZAN1ZVR_E"
      },
      "source": [
        "#your code"
      ],
      "execution_count": null,
      "outputs": []
    },
    {
      "cell_type": "markdown",
      "metadata": {
        "id": "NFzYd9yOSXd6"
      },
      "source": [
        "Since the file was imported within the function environment it will not be acessible outside the function."
      ]
    }
  ]
}