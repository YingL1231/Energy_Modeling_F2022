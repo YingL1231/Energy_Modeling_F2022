{
  "nbformat": 4,
  "nbformat_minor": 0,
  "metadata": {
    "colab": {
      "provenance": [],
      "toc_visible": true,
      "authorship_tag": "ABX9TyObhp1+iFjMF34rodjIDG9s",
      "include_colab_link": true
    },
    "kernelspec": {
      "name": "python3",
      "display_name": "Python 3"
    },
    "language_info": {
      "name": "python"
    }
  },
  "cells": [
    {
      "cell_type": "markdown",
      "metadata": {
        "id": "view-in-github",
        "colab_type": "text"
      },
      "source": [
        "<a href=\"https://colab.research.google.com/github/ENV716/Energy_Modeling_F2022/blob/main/Lab/Lab04/Lab04_FormatOutput.ipynb\" target=\"_parent\"><img src=\"https://colab.research.google.com/assets/colab-badge.svg\" alt=\"Open In Colab\"/></a>"
      ]
    },
    {
      "cell_type": "markdown",
      "source": [
        "# Lab 04 - Formatted Output\n"
      ],
      "metadata": {
        "id": "6JUexF0z-alE"
      }
    },
    {
      "cell_type": "code",
      "source": [
        "from google.colab import drive\n",
        "drive.mount('/content/drive')\n",
        "\n",
        "import os\n",
        "os.chdir('/content/drive/MyDrive/Colab Notebooks/')"
      ],
      "metadata": {
        "colab": {
          "base_uri": "https://localhost:8080/"
        },
        "id": "0IEepOsO_qRY",
        "outputId": "9f088ce8-c555-4191-da61-c1bdaa7c6a09"
      },
      "execution_count": 12,
      "outputs": [
        {
          "output_type": "stream",
          "name": "stdout",
          "text": [
            "Mounted at /content/drive\n"
          ]
        }
      ]
    },
    {
      "cell_type": "markdown",
      "source": [
        "There are different ways to output and print your results in Python. So far we have used the print() function and placed text and variables to be printed inside the parenthesis."
      ],
      "metadata": {
        "id": "blb-7hNN_q3a"
      }
    },
    {
      "cell_type": "code",
      "execution_count": 5,
      "metadata": {
        "colab": {
          "base_uri": "https://localhost:8080/"
        },
        "id": "rkOqLkvJ9O5B",
        "outputId": "e0d3721b-c539-4d10-a106-06a9dc77af03"
      },
      "outputs": [
        {
          "output_type": "stream",
          "name": "stdout",
          "text": [
            "This is Lab 4\n"
          ]
        }
      ],
      "source": [
        "lab_number = 4\n",
        "print(\"This is Lab\",lab_number)"
      ]
    },
    {
      "cell_type": "markdown",
      "source": [
        "Another way to generate the printed outputs is with format(). The format() function formats the specified value and insert them inside the string's placeholder. The placeholder is defined using curly brackets: {}. \n",
        "The placeholders can be identified using named indexes {object_name}, numbered indexes {0}, or even empty placeholders {}."
      ],
      "metadata": {
        "id": "Oe9dUwzI_6ZG"
      }
    },
    {
      "cell_type": "code",
      "source": [
        "#Using named index as placeholder\n",
        "print(\"This is Lab {lab_number}\".format(lab_number=4))"
      ],
      "metadata": {
        "colab": {
          "base_uri": "https://localhost:8080/"
        },
        "id": "U6ErnW4JAHqu",
        "outputId": "d3717965-5cf5-4deb-f0ff-dc41582061c1"
      },
      "execution_count": 7,
      "outputs": [
        {
          "output_type": "stream",
          "name": "stdout",
          "text": [
            "This is Lab 4\n"
          ]
        }
      ]
    },
    {
      "cell_type": "code",
      "source": [
        "#Using a numbered index as placeholder\n",
        "print(\"This is Lab {0}\".format(4))"
      ],
      "metadata": {
        "colab": {
          "base_uri": "https://localhost:8080/"
        },
        "id": "C7VFoPkMBWvv",
        "outputId": "1eb17966-257d-4303-862f-74487ebeadce"
      },
      "execution_count": 8,
      "outputs": [
        {
          "output_type": "stream",
          "name": "stdout",
          "text": [
            "This is Lab 4\n"
          ]
        }
      ]
    },
    {
      "cell_type": "code",
      "source": [
        "#Assigning a name to the string\n",
        "txt = \"This is Lab {lab_number}\"\n",
        "print(txt.format(lab_number=4))"
      ],
      "metadata": {
        "colab": {
          "base_uri": "https://localhost:8080/"
        },
        "id": "PLK4QtJgBoeQ",
        "outputId": "f5e92c74-0f92-445c-dace-d494f97f2d1f"
      },
      "execution_count": 10,
      "outputs": [
        {
          "output_type": "stream",
          "name": "stdout",
          "text": [
            "This is Lab 4\n"
          ]
        }
      ]
    },
    {
      "cell_type": "markdown",
      "source": [
        "When working with non integer number you may want to format your object to change number of decimals values that are displayed.\n",
        "\n",
        "For example say you want to find what percentage of total U.S. installed capacity comes from wind using the PLNT20 tab. "
      ],
      "metadata": {
        "id": "HA4fSV11_dfj"
      }
    },
    {
      "cell_type": "code",
      "source": [
        "#Import data\n",
        "import pandas as pd\n",
        "egrid=pd.read_excel(\"egrid2020_data.xlsx\",sheet_name=\"PLNT20\",skiprows=1,keep_default_na=False)"
      ],
      "metadata": {
        "colab": {
          "base_uri": "https://localhost:8080/"
        },
        "id": "WUzPQmYqCTC-",
        "outputId": "6fddd9df-0605-4000-8bd0-b05871b77e79"
      },
      "execution_count": 15,
      "outputs": [
        {
          "output_type": "stream",
          "name": "stdout",
          "text": [
            "Wind Installed Capacity if 0.0 of total US installed capacity\n"
          ]
        }
      ]
    },
    {
      "cell_type": "code",
      "source": [
        "#convert namepcap to numeric so we can calculate sum\n",
        "egrid.NAMEPCAP = pd.to_numeric(egrid.NAMEPCAP)\n",
        "\n",
        "#find total installed capacity\n",
        "total_cap = egrid.NAMEPCAP.sum()\n",
        "\n",
        "#filter for wind\n",
        "egrid_sub = egrid[(egrid.PLFUELCT==\"WIND\")]\n",
        "\n",
        "#find total installed capacity for wind\n",
        "total_wind = egrid_sub.NAMEPCAP.sum()\n",
        "\n",
        "#Calculate percentage\n",
        "pct_wind = total_wind / total_cap\n",
        "\n",
        "#Print results using placeholders and string\n",
        "print(total_cap,total_wind,pct_wind)"
      ],
      "metadata": {
        "colab": {
          "base_uri": "https://localhost:8080/"
        },
        "id": "PUMhNoJSEd-4",
        "outputId": "89914dd9-fd0e-4d12-f524-a986e29f9c1d"
      },
      "execution_count": 21,
      "outputs": [
        {
          "output_type": "stream",
          "name": "stdout",
          "text": [
            "1656187.7000000002 164975.2 0.09961141481729395\n"
          ]
        }
      ]
    },
    {
      "cell_type": "markdown",
      "source": [
        "How can we make this print look better?"
      ],
      "metadata": {
        "id": "FJ7BS_1zE9uO"
      }
    },
    {
      "cell_type": "code",
      "source": [
        "print(\"US Total Installed Capacity is:\",total_cap)\n",
        "print(\"US Total Wind Installed Capacity is:\",total_wind)\n",
        "print(\"Share of Wind is:\",pct_wind)"
      ],
      "metadata": {
        "colab": {
          "base_uri": "https://localhost:8080/"
        },
        "id": "u9lPKiB4FGeD",
        "outputId": "40fd3227-8282-40ef-e94b-543a6cb3fdba"
      },
      "execution_count": 24,
      "outputs": [
        {
          "output_type": "stream",
          "name": "stdout",
          "text": [
            "US Total Installed Capacity is: 1656187.7000000002\n",
            "US Total Wind Installed Capacity is: 164975.2\n",
            "Share of Wind is: 0.09961141481729395\n"
          ]
        }
      ]
    },
    {
      "cell_type": "markdown",
      "source": [
        "You don't need your code to display all this decimal values, if you want to round to 2 decimal points you can use the format **%.2f**. The % refers to formatting, the f corresponds to float and .2 means you want the first two decimal values to be displayed."
      ],
      "metadata": {
        "id": "GdThFHPtF0ox"
      }
    },
    {
      "cell_type": "code",
      "source": [
        "print(\"US Total Installed Capacity is: %.2f\" % total_cap)\n",
        "print(\"US Total Wind Installed Capacity is: %.2f\" % total_wind)\n",
        "print(\"Share of Wind is: %.2f\" % pct_wind)"
      ],
      "metadata": {
        "colab": {
          "base_uri": "https://localhost:8080/"
        },
        "id": "AU4h1CgEFlq-",
        "outputId": "bf4fca28-8cd8-4902-c7fd-1533696fc4fd"
      },
      "execution_count": 26,
      "outputs": [
        {
          "output_type": "stream",
          "name": "stdout",
          "text": [
            "US Total Installed Capacity is: 1656187.70\n",
            "US Total Wind Installed Capacity is: 164975.20\n",
            "Share of Wind is: 0.10\n"
          ]
        }
      ]
    },
    {
      "cell_type": "markdown",
      "source": [
        "You could also use format() and placevalue with **.2f** by adding a collon : inside the placeholder bracket."
      ],
      "metadata": {
        "id": "M8Qf_s-AGZyo"
      }
    },
    {
      "cell_type": "code",
      "source": [
        "print(\"US total installed capacity is {0:.0f} MW. \\nThe total wind power installed capacity is {1:.0f} MW. \\nWind represents {2:0.02f}% of total US installed capacity\".format(total_cap,total_wind,pct_wind))\n"
      ],
      "metadata": {
        "colab": {
          "base_uri": "https://localhost:8080/"
        },
        "id": "BWRLRf9GEo5k",
        "outputId": "7251a98d-a08f-48ce-f75e-9ae097fab102"
      },
      "execution_count": 32,
      "outputs": [
        {
          "output_type": "stream",
          "name": "stdout",
          "text": [
            "US total installed capacity is 1656188 MW. \n",
            "The total wind power installed capacity is 164975 MW. \n",
            "Wind represents 0.10% of total US installed capacity\n"
          ]
        }
      ]
    }
  ]
}