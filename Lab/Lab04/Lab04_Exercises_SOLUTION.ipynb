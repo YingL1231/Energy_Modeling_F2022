{
  "nbformat": 4,
  "nbformat_minor": 0,
  "metadata": {
    "kernelspec": {
      "display_name": "Python 3",
      "language": "python",
      "name": "python3"
    },
    "language_info": {
      "codemirror_mode": {
        "name": "ipython",
        "version": 3
      },
      "file_extension": ".py",
      "mimetype": "text/x-python",
      "name": "python",
      "nbconvert_exporter": "python",
      "pygments_lexer": "ipython3",
      "version": "3.7.4"
    },
    "colab": {
      "provenance": [],
      "collapsed_sections": [],
      "toc_visible": true,
      "include_colab_link": true
    }
  },
  "cells": [
    {
      "cell_type": "markdown",
      "metadata": {
        "id": "view-in-github",
        "colab_type": "text"
      },
      "source": [
        "<a href=\"https://colab.research.google.com/github/ENV716/Energy_Modeling_F2022/blob/main/Lab/Lab04/Lab04_Exercises_SOLUTION.ipynb\" target=\"_parent\"><img src=\"https://colab.research.google.com/assets/colab-badge.svg\" alt=\"Open In Colab\"/></a>"
      ]
    },
    {
      "cell_type": "markdown",
      "metadata": {
        "id": "N6qkW4Bq9lca"
      },
      "source": [
        "# **Lab 04 – Exercises**"
      ]
    },
    {
      "cell_type": "code",
      "metadata": {
        "colab": {
          "base_uri": "https://localhost:8080/"
        },
        "id": "TPHOrFrE9vZk",
        "outputId": "df6f4bdd-8190-4e6f-dbb8-e19516cd1979"
      },
      "source": [
        "from google.colab import drive\n",
        "drive.mount('/content/drive')"
      ],
      "execution_count": 2,
      "outputs": [
        {
          "output_type": "stream",
          "name": "stdout",
          "text": [
            "Mounted at /content/drive\n"
          ]
        }
      ]
    },
    {
      "cell_type": "code",
      "metadata": {
        "id": "CvUpCMsS-K0L"
      },
      "source": [
        "import os\n",
        "os.chdir('/content/drive/MyDrive/Colab Notebooks/')"
      ],
      "execution_count": 3,
      "outputs": []
    },
    {
      "cell_type": "code",
      "metadata": {
        "id": "9_wO04ooN419"
      },
      "source": [
        "import pandas as pd\n",
        "import numpy as np"
      ],
      "execution_count": 4,
      "outputs": []
    },
    {
      "cell_type": "markdown",
      "metadata": {
        "id": "lrbNd3AdDlAA"
      },
      "source": [
        "## Exercise 1: Create a function that filters generators by primary fuel and returns total installed capacity"
      ]
    },
    {
      "cell_type": "markdown",
      "metadata": {
        "id": "LJaCGXwyGrWo"
      },
      "source": [
        "The function should take two arguments: a data frame containing the GEN19 spreadsheet from egrid and a primary fuel source. Note that you will need to import the spreadsheet first and then call the function. The function should filter the data frame by the fuel source specified and calculate total installed capacity. Note that the fuel source you specify should match elements in column FUELG1. \\\\\n",
        "Remember to give you function a informative name."
      ]
    },
    {
      "cell_type": "code",
      "metadata": {
        "id": "m8y9CVShPF6m"
      },
      "source": [
        "def FindTotalCap (df, fuel):\n",
        "  sub_df = df[(df.FUELG1==fuel)]  #filter by fuel\n",
        "  return(sub_df['NAMEPCAP'].sum()) #calculate sum of column NAMEPCAP"
      ],
      "execution_count": 5,
      "outputs": []
    },
    {
      "cell_type": "markdown",
      "source": [
        "Now run the function to find total installed capacity for fuel = \"SUN\" and output the results using print and format(). Your number should have three decimal points. "
      ],
      "metadata": {
        "id": "Dql4l093JKUU"
      }
    },
    {
      "cell_type": "code",
      "source": [
        "df_gen = pd.read_excel(io=\"egrid2020_data.xlsx\",sheet_name=\"GEN20\",skiprows=1,keep_default_na=False)\n",
        "df_gen.head(5)"
      ],
      "metadata": {
        "colab": {
          "base_uri": "https://localhost:8080/",
          "height": 333
        },
        "id": "eAYm-Dk_L3zI",
        "outputId": "9a721928-b71d-45ad-e29a-248971214605"
      },
      "execution_count": 6,
      "outputs": [
        {
          "output_type": "execute_result",
          "data": {
            "text/plain": [
              "   SEQGEN20  YEAR PSTATABB                             PNAME  ORISPL GENID  \\\n",
              "0         1  2020       AK         7-Mile Ridge Wind Project   60814   WT1   \n",
              "1         2  2020       AK  Agrium Kenai Nitrogen Operations   54452  744A   \n",
              "2         3  2020       AK  Agrium Kenai Nitrogen Operations   54452  744B   \n",
              "3         4  2020       AK  Agrium Kenai Nitrogen Operations   54452  744C   \n",
              "4         5  2020       AK  Agrium Kenai Nitrogen Operations   54452  744D   \n",
              "\n",
              "   NUMBLR GENSTAT PRMVR FUELG1 NAMEPCAP CFACT GENNTAN GENNTOZ GENERSRC  \\\n",
              "0       0      CN    WT    WND      1.8                                  \n",
              "1       0      OS    GT     NG      2.5                                  \n",
              "2       0      OS    GT     NG      2.5                                  \n",
              "3       0      OS    GT     NG      2.5                                  \n",
              "4       0      OS    GT     NG      2.5                                  \n",
              "\n",
              "  GENYRONL GENYRRET  \n",
              "0                    \n",
              "1     1977           \n",
              "2     1977           \n",
              "3     1977           \n",
              "4     1977           "
            ],
            "text/html": [
              "\n",
              "  <div id=\"df-b94fba8e-d0c9-40ff-8496-37296ccce6be\">\n",
              "    <div class=\"colab-df-container\">\n",
              "      <div>\n",
              "<style scoped>\n",
              "    .dataframe tbody tr th:only-of-type {\n",
              "        vertical-align: middle;\n",
              "    }\n",
              "\n",
              "    .dataframe tbody tr th {\n",
              "        vertical-align: top;\n",
              "    }\n",
              "\n",
              "    .dataframe thead th {\n",
              "        text-align: right;\n",
              "    }\n",
              "</style>\n",
              "<table border=\"1\" class=\"dataframe\">\n",
              "  <thead>\n",
              "    <tr style=\"text-align: right;\">\n",
              "      <th></th>\n",
              "      <th>SEQGEN20</th>\n",
              "      <th>YEAR</th>\n",
              "      <th>PSTATABB</th>\n",
              "      <th>PNAME</th>\n",
              "      <th>ORISPL</th>\n",
              "      <th>GENID</th>\n",
              "      <th>NUMBLR</th>\n",
              "      <th>GENSTAT</th>\n",
              "      <th>PRMVR</th>\n",
              "      <th>FUELG1</th>\n",
              "      <th>NAMEPCAP</th>\n",
              "      <th>CFACT</th>\n",
              "      <th>GENNTAN</th>\n",
              "      <th>GENNTOZ</th>\n",
              "      <th>GENERSRC</th>\n",
              "      <th>GENYRONL</th>\n",
              "      <th>GENYRRET</th>\n",
              "    </tr>\n",
              "  </thead>\n",
              "  <tbody>\n",
              "    <tr>\n",
              "      <th>0</th>\n",
              "      <td>1</td>\n",
              "      <td>2020</td>\n",
              "      <td>AK</td>\n",
              "      <td>7-Mile Ridge Wind Project</td>\n",
              "      <td>60814</td>\n",
              "      <td>WT1</td>\n",
              "      <td>0</td>\n",
              "      <td>CN</td>\n",
              "      <td>WT</td>\n",
              "      <td>WND</td>\n",
              "      <td>1.8</td>\n",
              "      <td></td>\n",
              "      <td></td>\n",
              "      <td></td>\n",
              "      <td></td>\n",
              "      <td></td>\n",
              "      <td></td>\n",
              "    </tr>\n",
              "    <tr>\n",
              "      <th>1</th>\n",
              "      <td>2</td>\n",
              "      <td>2020</td>\n",
              "      <td>AK</td>\n",
              "      <td>Agrium Kenai Nitrogen Operations</td>\n",
              "      <td>54452</td>\n",
              "      <td>744A</td>\n",
              "      <td>0</td>\n",
              "      <td>OS</td>\n",
              "      <td>GT</td>\n",
              "      <td>NG</td>\n",
              "      <td>2.5</td>\n",
              "      <td></td>\n",
              "      <td></td>\n",
              "      <td></td>\n",
              "      <td></td>\n",
              "      <td>1977</td>\n",
              "      <td></td>\n",
              "    </tr>\n",
              "    <tr>\n",
              "      <th>2</th>\n",
              "      <td>3</td>\n",
              "      <td>2020</td>\n",
              "      <td>AK</td>\n",
              "      <td>Agrium Kenai Nitrogen Operations</td>\n",
              "      <td>54452</td>\n",
              "      <td>744B</td>\n",
              "      <td>0</td>\n",
              "      <td>OS</td>\n",
              "      <td>GT</td>\n",
              "      <td>NG</td>\n",
              "      <td>2.5</td>\n",
              "      <td></td>\n",
              "      <td></td>\n",
              "      <td></td>\n",
              "      <td></td>\n",
              "      <td>1977</td>\n",
              "      <td></td>\n",
              "    </tr>\n",
              "    <tr>\n",
              "      <th>3</th>\n",
              "      <td>4</td>\n",
              "      <td>2020</td>\n",
              "      <td>AK</td>\n",
              "      <td>Agrium Kenai Nitrogen Operations</td>\n",
              "      <td>54452</td>\n",
              "      <td>744C</td>\n",
              "      <td>0</td>\n",
              "      <td>OS</td>\n",
              "      <td>GT</td>\n",
              "      <td>NG</td>\n",
              "      <td>2.5</td>\n",
              "      <td></td>\n",
              "      <td></td>\n",
              "      <td></td>\n",
              "      <td></td>\n",
              "      <td>1977</td>\n",
              "      <td></td>\n",
              "    </tr>\n",
              "    <tr>\n",
              "      <th>4</th>\n",
              "      <td>5</td>\n",
              "      <td>2020</td>\n",
              "      <td>AK</td>\n",
              "      <td>Agrium Kenai Nitrogen Operations</td>\n",
              "      <td>54452</td>\n",
              "      <td>744D</td>\n",
              "      <td>0</td>\n",
              "      <td>OS</td>\n",
              "      <td>GT</td>\n",
              "      <td>NG</td>\n",
              "      <td>2.5</td>\n",
              "      <td></td>\n",
              "      <td></td>\n",
              "      <td></td>\n",
              "      <td></td>\n",
              "      <td>1977</td>\n",
              "      <td></td>\n",
              "    </tr>\n",
              "  </tbody>\n",
              "</table>\n",
              "</div>\n",
              "      <button class=\"colab-df-convert\" onclick=\"convertToInteractive('df-b94fba8e-d0c9-40ff-8496-37296ccce6be')\"\n",
              "              title=\"Convert this dataframe to an interactive table.\"\n",
              "              style=\"display:none;\">\n",
              "        \n",
              "  <svg xmlns=\"http://www.w3.org/2000/svg\" height=\"24px\"viewBox=\"0 0 24 24\"\n",
              "       width=\"24px\">\n",
              "    <path d=\"M0 0h24v24H0V0z\" fill=\"none\"/>\n",
              "    <path d=\"M18.56 5.44l.94 2.06.94-2.06 2.06-.94-2.06-.94-.94-2.06-.94 2.06-2.06.94zm-11 1L8.5 8.5l.94-2.06 2.06-.94-2.06-.94L8.5 2.5l-.94 2.06-2.06.94zm10 10l.94 2.06.94-2.06 2.06-.94-2.06-.94-.94-2.06-.94 2.06-2.06.94z\"/><path d=\"M17.41 7.96l-1.37-1.37c-.4-.4-.92-.59-1.43-.59-.52 0-1.04.2-1.43.59L10.3 9.45l-7.72 7.72c-.78.78-.78 2.05 0 2.83L4 21.41c.39.39.9.59 1.41.59.51 0 1.02-.2 1.41-.59l7.78-7.78 2.81-2.81c.8-.78.8-2.07 0-2.86zM5.41 20L4 18.59l7.72-7.72 1.47 1.35L5.41 20z\"/>\n",
              "  </svg>\n",
              "      </button>\n",
              "      \n",
              "  <style>\n",
              "    .colab-df-container {\n",
              "      display:flex;\n",
              "      flex-wrap:wrap;\n",
              "      gap: 12px;\n",
              "    }\n",
              "\n",
              "    .colab-df-convert {\n",
              "      background-color: #E8F0FE;\n",
              "      border: none;\n",
              "      border-radius: 50%;\n",
              "      cursor: pointer;\n",
              "      display: none;\n",
              "      fill: #1967D2;\n",
              "      height: 32px;\n",
              "      padding: 0 0 0 0;\n",
              "      width: 32px;\n",
              "    }\n",
              "\n",
              "    .colab-df-convert:hover {\n",
              "      background-color: #E2EBFA;\n",
              "      box-shadow: 0px 1px 2px rgba(60, 64, 67, 0.3), 0px 1px 3px 1px rgba(60, 64, 67, 0.15);\n",
              "      fill: #174EA6;\n",
              "    }\n",
              "\n",
              "    [theme=dark] .colab-df-convert {\n",
              "      background-color: #3B4455;\n",
              "      fill: #D2E3FC;\n",
              "    }\n",
              "\n",
              "    [theme=dark] .colab-df-convert:hover {\n",
              "      background-color: #434B5C;\n",
              "      box-shadow: 0px 1px 3px 1px rgba(0, 0, 0, 0.15);\n",
              "      filter: drop-shadow(0px 1px 2px rgba(0, 0, 0, 0.3));\n",
              "      fill: #FFFFFF;\n",
              "    }\n",
              "  </style>\n",
              "\n",
              "      <script>\n",
              "        const buttonEl =\n",
              "          document.querySelector('#df-b94fba8e-d0c9-40ff-8496-37296ccce6be button.colab-df-convert');\n",
              "        buttonEl.style.display =\n",
              "          google.colab.kernel.accessAllowed ? 'block' : 'none';\n",
              "\n",
              "        async function convertToInteractive(key) {\n",
              "          const element = document.querySelector('#df-b94fba8e-d0c9-40ff-8496-37296ccce6be');\n",
              "          const dataTable =\n",
              "            await google.colab.kernel.invokeFunction('convertToInteractive',\n",
              "                                                     [key], {});\n",
              "          if (!dataTable) return;\n",
              "\n",
              "          const docLinkHtml = 'Like what you see? Visit the ' +\n",
              "            '<a target=\"_blank\" href=https://colab.research.google.com/notebooks/data_table.ipynb>data table notebook</a>'\n",
              "            + ' to learn more about interactive tables.';\n",
              "          element.innerHTML = '';\n",
              "          dataTable['output_type'] = 'display_data';\n",
              "          await google.colab.output.renderOutput(dataTable, element);\n",
              "          const docLink = document.createElement('div');\n",
              "          docLink.innerHTML = docLinkHtml;\n",
              "          element.appendChild(docLink);\n",
              "        }\n",
              "      </script>\n",
              "    </div>\n",
              "  </div>\n",
              "  "
            ]
          },
          "metadata": {},
          "execution_count": 6
        }
      ]
    },
    {
      "cell_type": "code",
      "source": [
        "df_gen.dtypes\n",
        "df_gen.NAMEPCAP = pd.to_numeric(df_gen.NAMEPCAP)"
      ],
      "metadata": {
        "id": "xJCnIioXPA28"
      },
      "execution_count": 7,
      "outputs": []
    },
    {
      "cell_type": "code",
      "source": [
        "total_sun = FindTotalCap(df_gen,\"SUN\")\n",
        "print(\"Total Installed Capacity for Sun is {0:.3f}\".format(total_sun))"
      ],
      "metadata": {
        "colab": {
          "base_uri": "https://localhost:8080/"
        },
        "id": "uDR94jxvL9fN",
        "outputId": "a66353e0-8fd8-43a5-848a-a22d2df23253"
      },
      "execution_count": 8,
      "outputs": [
        {
          "output_type": "stream",
          "name": "stdout",
          "text": [
            "Total Installed Capacity for Sun is 103799.800\n"
          ]
        }
      ]
    },
    {
      "cell_type": "code",
      "source": [
        "#You can also call the fucntion inside format()\n",
        "print(\"Total Installed Capacity for Wind is {0:.3f}\".format(FindTotalCap(df_gen,\"WND\")))"
      ],
      "metadata": {
        "colab": {
          "base_uri": "https://localhost:8080/"
        },
        "id": "uQZacZIOL61K",
        "outputId": "9580de5e-1f14-485b-80a2-34a1e949cb3a"
      },
      "execution_count": 9,
      "outputs": [
        {
          "output_type": "stream",
          "name": "stdout",
          "text": [
            "Total Installed Capacity for Wind is 165491.800\n"
          ]
        }
      ]
    },
    {
      "cell_type": "code",
      "source": [
        "#You can also create a strinf if you plan to use txt more than once\n",
        "txt = \"Total Installed Capacity for {0:6} is {1:.3f}\"\n",
        "fuel = \"BIT\"\n",
        "print(txt.format(fuel,FindTotalCap(df_gen,\"BIT\")))"
      ],
      "metadata": {
        "colab": {
          "base_uri": "https://localhost:8080/"
        },
        "id": "ochnZVheMEZ1",
        "outputId": "58782ab0-e358-400c-e769-8b9290dbcb16"
      },
      "execution_count": 10,
      "outputs": [
        {
          "output_type": "stream",
          "name": "stdout",
          "text": [
            "Total Installed Capacity for BIT    is 147838.300\n"
          ]
        }
      ]
    },
    {
      "cell_type": "markdown",
      "metadata": {
        "id": "xodIlkchRWEe"
      },
      "source": [
        "## Exercise 2: Modify the function such that egrid is imported within the function"
      ]
    },
    {
      "cell_type": "markdown",
      "metadata": {
        "id": "86dYX-gCZ8UI"
      },
      "source": [
        "Now instead of taking the data frame, the function should take name of the file and the name of the spreadsheet to be imported, i.e., you will need to call pd.read_excel() inside the function. Remember to give another name to the new function, so you do not loose the one you defined in Example 5. "
      ]
    },
    {
      "cell_type": "code",
      "metadata": {
        "id": "jxpSQ5UORrVd"
      },
      "source": [
        "def FindTotalCapFromExcel (filename, sheetname, fuel):\n",
        "  df = pd.read_excel(io=filename,sheet_name=sheetname,skiprows=1,keep_default_na=False)\n",
        "  sub_df = df[(df.FUELG1==fuel)]\n",
        "  return(sub_df['NAMEPCAP'].sum())"
      ],
      "execution_count": 11,
      "outputs": []
    },
    {
      "cell_type": "code",
      "source": [
        "print(\"Total Installed Capacity for Wind\",FindTotalCapFromExcel(\"egrid2020_data.xlsx\",\"GEN20\",\"WND\"))"
      ],
      "metadata": {
        "colab": {
          "base_uri": "https://localhost:8080/"
        },
        "id": "3agQzqsom95U",
        "outputId": "e2c26612-7438-4dca-d66e-23e7d1afdc0e"
      },
      "execution_count": 15,
      "outputs": [
        {
          "output_type": "stream",
          "name": "stdout",
          "text": [
            "Total Installed Capacity for Wind 165491.80000000008\n"
          ]
        }
      ]
    },
    {
      "cell_type": "markdown",
      "metadata": {
        "id": "Pivu7foXSMvO"
      },
      "source": [
        "Note that it took a bit longer now to output results because the file is imported within the function. Now try to acess the data frame df by typing df.head(10). What happens?"
      ]
    },
    {
      "cell_type": "code",
      "metadata": {
        "id": "RpdZAN1ZVR_E",
        "colab": {
          "base_uri": "https://localhost:8080/",
          "height": 164
        },
        "outputId": "d402b4a4-865a-44f9-b1d5-a32c684884ee"
      },
      "source": [
        "df.head(10)"
      ],
      "execution_count": 14,
      "outputs": [
        {
          "output_type": "error",
          "ename": "NameError",
          "evalue": "ignored",
          "traceback": [
            "\u001b[0;31m---------------------------------------------------------------------------\u001b[0m",
            "\u001b[0;31mNameError\u001b[0m                                 Traceback (most recent call last)",
            "\u001b[0;32m<ipython-input-14-4a676c3d8c05>\u001b[0m in \u001b[0;36m<module>\u001b[0;34m\u001b[0m\n\u001b[0;32m----> 1\u001b[0;31m \u001b[0mdf\u001b[0m\u001b[0;34m.\u001b[0m\u001b[0mhead\u001b[0m\u001b[0;34m(\u001b[0m\u001b[0;36m10\u001b[0m\u001b[0;34m)\u001b[0m\u001b[0;34m\u001b[0m\u001b[0;34m\u001b[0m\u001b[0m\n\u001b[0m",
            "\u001b[0;31mNameError\u001b[0m: name 'df' is not defined"
          ]
        }
      ]
    },
    {
      "cell_type": "markdown",
      "metadata": {
        "id": "NFzYd9yOSXd6"
      },
      "source": [
        "Since the file was imported within the function environment it will not be acessible outside the function."
      ]
    }
  ]
}