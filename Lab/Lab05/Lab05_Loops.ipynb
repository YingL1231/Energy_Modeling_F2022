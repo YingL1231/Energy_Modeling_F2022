{
  "cells": [
    {
      "cell_type": "markdown",
      "metadata": {
        "id": "view-in-github",
        "colab_type": "text"
      },
      "source": [
        "<a href=\"https://colab.research.google.com/github/ENV716/Energy_Modeling_F2022/blob/main/Lab/Lab05/Lab05_Loops.ipynb\" target=\"_parent\"><img src=\"https://colab.research.google.com/assets/colab-badge.svg\" alt=\"Open In Colab\"/></a>"
      ]
    },
    {
      "cell_type": "markdown",
      "source": [
        "## **Lab 5 - Loop FOR, loop WHILE and IF statements in Python**"
      ],
      "metadata": {
        "id": "6x4d78fumLJj"
      }
    },
    {
      "cell_type": "code",
      "source": [
        "from google.colab import drive\n",
        "drive.mount('/content/drive')\n",
        "import os\n",
        "os.chdir('/content/drive/MyDrive/Colab Notebooks/')"
      ],
      "metadata": {
        "colab": {
          "base_uri": "https://localhost:8080/"
        },
        "id": "4F-6sxK3tXEP",
        "outputId": "86bb7302-807c-4df5-a129-a911a6f33634"
      },
      "execution_count": null,
      "outputs": [
        {
          "output_type": "stream",
          "name": "stdout",
          "text": [
            "Mounted at /content/drive\n"
          ]
        }
      ]
    },
    {
      "cell_type": "code",
      "execution_count": null,
      "metadata": {
        "id": "N0lmxcB6tK9t",
        "outputId": "d2986c54-ca4e-4819-fede-9705bb85eabe",
        "colab": {
          "base_uri": "https://localhost:8080/"
        }
      },
      "outputs": [
        {
          "output_type": "stream",
          "name": "stdout",
          "text": [
            "['ENV716', 'ENV710', 'ENV520', 'ENV711']\n"
          ]
        }
      ],
      "source": [
        "classes = [\"ENV716\",\"ENV710\",\"ENV520\",\"ENV711\"]\n",
        "print(classes)"
      ]
    },
    {
      "cell_type": "code",
      "execution_count": null,
      "metadata": {
        "id": "MlbA4z2-tK91",
        "outputId": "fa196b8b-20f5-4d4a-fc3c-3982af4231bf",
        "colab": {
          "base_uri": "https://localhost:8080/"
        }
      },
      "outputs": [
        {
          "output_type": "stream",
          "name": "stdout",
          "text": [
            "ENV716\n",
            "ENV710\n",
            "ENV520\n",
            "ENV711\n"
          ]
        }
      ],
      "source": [
        "for i in classes:\n",
        "    print(i)"
      ]
    },
    {
      "cell_type": "code",
      "execution_count": null,
      "metadata": {
        "id": "SwDaCL1htK9y",
        "outputId": "97481cae-3764-41b7-aea6-59145e6b98b3",
        "colab": {
          "base_uri": "https://localhost:8080/"
        }
      },
      "outputs": [
        {
          "output_type": "stream",
          "name": "stdout",
          "text": [
            "L\n",
            "u\n",
            "a\n",
            "n\n",
            "a\n"
          ]
        }
      ],
      "source": [
        "for letter in \"Luana\":\n",
        "    print(letter)"
      ]
    },
    {
      "cell_type": "code",
      "execution_count": null,
      "metadata": {
        "id": "o60_itHutK91",
        "outputId": "95fec81d-89b7-447e-e8bf-8d2929ab8898",
        "colab": {
          "base_uri": "https://localhost:8080/"
        }
      },
      "outputs": [
        {
          "output_type": "stream",
          "name": "stdout",
          "text": [
            "1\n",
            "2\n",
            "3\n",
            "4\n"
          ]
        }
      ],
      "source": [
        "for i in 1,2,3,4:\n",
        "    print(i)"
      ]
    },
    {
      "cell_type": "code",
      "execution_count": null,
      "metadata": {
        "id": "xE_pLldEtK92",
        "outputId": "b7dec5b8-6a35-4425-ea80-12aa7f232ba4",
        "colab": {
          "base_uri": "https://localhost:8080/"
        }
      },
      "outputs": [
        {
          "output_type": "stream",
          "name": "stdout",
          "text": [
            "1\n",
            "2\n",
            "3\n",
            "4\n",
            "5\n",
            "6\n",
            "7\n",
            "8\n",
            "9\n",
            "10\n"
          ]
        }
      ],
      "source": [
        "for i in range(1,11):\n",
        "    print(i)"
      ]
    },
    {
      "cell_type": "code",
      "execution_count": null,
      "metadata": {
        "id": "ZjLTRX51tK92",
        "outputId": "aa7806fa-7dfe-4aa1-8909-9471caf95480",
        "colab": {
          "base_uri": "https://localhost:8080/"
        }
      },
      "outputs": [
        {
          "output_type": "stream",
          "name": "stdout",
          "text": [
            "1\n",
            "11\n",
            "21\n",
            "31\n",
            "41\n",
            "51\n",
            "61\n",
            "71\n",
            "81\n",
            "91\n"
          ]
        }
      ],
      "source": [
        "for i in range(1,100,10):\n",
        "    print(i)"
      ]
    },
    {
      "cell_type": "code",
      "execution_count": null,
      "metadata": {
        "id": "leeNuyY-tK93",
        "outputId": "22b88c6b-555a-4021-c115-15f78e7e75cc",
        "colab": {
          "base_uri": "https://localhost:8080/"
        }
      },
      "outputs": [
        {
          "output_type": "stream",
          "name": "stdout",
          "text": [
            "50\n",
            "51\n",
            "52\n",
            "53\n",
            "54\n",
            "55\n",
            "56\n",
            "57\n",
            "58\n",
            "59\n",
            "60\n"
          ]
        }
      ],
      "source": [
        "i = 50\n",
        "while i <= 60:\n",
        "    print(i)\n",
        "    i = i + 1"
      ]
    },
    {
      "cell_type": "code",
      "source": [
        "for i in range(1,11):\n",
        "  print(i)"
      ],
      "metadata": {
        "colab": {
          "base_uri": "https://localhost:8080/"
        },
        "id": "AlJgxjHq3ZWY",
        "outputId": "f1dbbb34-8347-47ce-85e7-4e497f1b6c43"
      },
      "execution_count": null,
      "outputs": [
        {
          "output_type": "stream",
          "name": "stdout",
          "text": [
            "50\n",
            "51\n",
            "52\n",
            "53\n",
            "54\n",
            "55\n",
            "56\n",
            "57\n",
            "58\n",
            "59\n",
            "60\n"
          ]
        }
      ]
    },
    {
      "cell_type": "code",
      "execution_count": null,
      "metadata": {
        "id": "fbTSOvwVtK93",
        "outputId": "ba9ca348-ba9f-43c4-b6f1-2912a444acd3",
        "colab": {
          "base_uri": "https://localhost:8080/"
        }
      },
      "outputs": [
        {
          "output_type": "stream",
          "name": "stdout",
          "text": [
            "I am learning Python in ENV716\n",
            "I am learning R in ENV710\n"
          ]
        }
      ],
      "source": [
        "for i in classes:\n",
        "    if i == \"ENV716\":\n",
        "        print(\"I am learning Python in\",i)\n",
        "    elif i == \"ENV710\":\n",
        "        print(\"I am learning R in\",i)\n",
        "    #else:\n",
        "    #    print(i)\n"
      ]
    },
    {
      "cell_type": "code",
      "execution_count": null,
      "metadata": {
        "id": "t7QH2aw8tK94",
        "outputId": "95349c93-00e5-461e-bc84-eb31dad28668",
        "colab": {
          "base_uri": "https://localhost:8080/"
        }
      },
      "outputs": [
        {
          "output_type": "stream",
          "name": "stdout",
          "text": [
            "10\n",
            "30\n",
            "60\n",
            "100\n",
            "150\n",
            "210\n",
            "280\n",
            "360\n",
            "Sum of elements is 360\n",
            "Number of elements is 8\n",
            "Average is 45.0\n"
          ]
        }
      ],
      "source": [
        "a = [10,20,30,40,50,60,70,80]\n",
        "a_sum=0\n",
        "count=0\n",
        "for i in a:\n",
        "    a_sum = a_sum + i\n",
        "    count = count + 1\n",
        "    print(a_sum)\n",
        "print('Sum of elements is',a_sum)\n",
        "print('Number of elements is',count)\n",
        "avg = a_sum / count\n",
        "print('Average is',avg)\n",
        "\n"
      ]
    },
    {
      "cell_type": "code",
      "execution_count": null,
      "metadata": {
        "id": "sHBK1wnmtK95"
      },
      "outputs": [],
      "source": [
        "#average of elements less than 50\n",
        "a = [10,20,30,40,50,60,70,80]\n",
        "a_sum=0\n",
        "count=0\n",
        "for i in a:\n",
        "    if i < 50:\n",
        "        a_sum = a_sum + i\n",
        "        count = count + 1\n",
        "        print(a_sum)\n",
        "print('Sum of elements is',a_sum)\n",
        "print('Number of elements is',count)\n",
        "avg = a_sum / count\n",
        "print('Average is',avg)"
      ]
    },
    {
      "cell_type": "code",
      "execution_count": null,
      "metadata": {
        "id": "iBmBOBLltK96"
      },
      "outputs": [],
      "source": [
        "#average of elements less than 50\n",
        "a = [10,20,30,40,50,60,70,80]\n",
        "a_sum=0\n",
        "count=0\n",
        "while a[count] < 50:\n",
        "    a_sum = a_sum + a[count]\n",
        "    count = count + 1\n",
        "    print(a_sum)\n",
        "print('Sum of elements is',a_sum)\n",
        "print('Number of elements is',count)\n",
        "avg = a_sum / count\n",
        "print('Average is',avg)"
      ]
    },
    {
      "cell_type": "code",
      "execution_count": null,
      "metadata": {
        "id": "mfrd3E8OtK97"
      },
      "outputs": [],
      "source": []
    }
  ],
  "metadata": {
    "kernelspec": {
      "display_name": "Python 3",
      "language": "python",
      "name": "python3"
    },
    "language_info": {
      "codemirror_mode": {
        "name": "ipython",
        "version": 3
      },
      "file_extension": ".py",
      "mimetype": "text/x-python",
      "name": "python",
      "nbconvert_exporter": "python",
      "pygments_lexer": "ipython3",
      "version": "3.7.4"
    },
    "colab": {
      "provenance": [],
      "include_colab_link": true
    }
  },
  "nbformat": 4,
  "nbformat_minor": 0
}