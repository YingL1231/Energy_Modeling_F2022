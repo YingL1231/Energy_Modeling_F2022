{
  "nbformat": 4,
  "nbformat_minor": 0,
  "metadata": {
    "kernelspec": {
      "display_name": "Python 3",
      "language": "python",
      "name": "python3"
    },
    "language_info": {
      "codemirror_mode": {
        "name": "ipython",
        "version": 3
      },
      "file_extension": ".py",
      "mimetype": "text/x-python",
      "name": "python",
      "nbconvert_exporter": "python",
      "pygments_lexer": "ipython3",
      "version": "3.7.4"
    },
    "colab": {
      "provenance": [],
      "toc_visible": true,
      "include_colab_link": true
    }
  },
  "cells": [
    {
      "cell_type": "markdown",
      "metadata": {
        "id": "view-in-github",
        "colab_type": "text"
      },
      "source": [
        "<a href=\"https://colab.research.google.com/github/ENV716/Energy_Modeling_F2022/blob/main/Lab/Lab12/Lab12_SimulatingRandomVariables.ipynb\" target=\"_parent\"><img src=\"https://colab.research.google.com/assets/colab-badge.svg\" alt=\"Open In Colab\"/></a>"
      ]
    },
    {
      "cell_type": "markdown",
      "metadata": {
        "id": "WJcTHdvPaWgs"
      },
      "source": [
        "# **Lab 12 - Simulating Random Variable in Python**"
      ]
    },
    {
      "cell_type": "markdown",
      "metadata": {
        "id": "4Xj-qvHDaebA"
      },
      "source": [
        "In this lab we will go over random number generation in Pyhton. The specific learning outcomes are:\n",
        "* Get familiar with library random and how to set the seed for random number generation;\n",
        "* Simulate a coin flip and roll a die using random.randint();\n",
        "* Simulate a coin flip using np.random and the binomial distribution;\n",
        "* Get familiar with the library scipy.stats and its functions rvs(), cdf() and pdf() using the binomial and the continuous uniform distribution."
      ]
    },
    {
      "cell_type": "code",
      "metadata": {
        "colab": {
          "base_uri": "https://localhost:8080/"
        },
        "id": "epLSaN6gaQK8",
        "outputId": "7cc6d1e2-8869-4e26-9d81-4e6efc59336a"
      },
      "source": [
        "from google.colab import drive\n",
        "drive.mount('/content/drive')\n",
        "\n",
        "import os\n",
        "os.chdir('/content/drive/MyDrive/Colab Notebooks/')"
      ],
      "execution_count": 1,
      "outputs": [
        {
          "output_type": "stream",
          "name": "stdout",
          "text": [
            "Mounted at /content/drive\n"
          ]
        }
      ]
    },
    {
      "cell_type": "code",
      "source": [
        "#Start by loading necessary packages\n",
        "import numpy as np\n",
        "import pandas as pd\n",
        "import matplotlib.pyplot as plt\n",
        "import scipy.stats as stats\n",
        "import random"
      ],
      "metadata": {
        "id": "KVf86mIgwZn4"
      },
      "execution_count": 17,
      "outputs": []
    },
    {
      "cell_type": "markdown",
      "metadata": {
        "id": "WwIUBlfIeWwf"
      },
      "source": [
        "## Simulating a Coin Flip/Toss"
      ]
    },
    {
      "cell_type": "markdown",
      "metadata": {
        "id": "ewhFNGPYhG1d"
      },
      "source": [
        "Imagine we have a fair coin. if we toss the coin we will observe either a head or a tail. We can code 1 for head and 0 for tail.\n",
        "* Head = 1\n",
        "* Tail = 0\n",
        "\n",
        "Using the random module we have the following options:\n",
        "* **random.random()** method returns a random float number between 0.0 to 1.0. The function doesn't need any argument.\n",
        "* **random.randint(** *start*,*stop* **)** method returns a random *integer* between the specified integers.\n",
        "* **random.randrange(** *start*,*stop*,*step* **)** method returns a randomly selected element from the range created by the start, stop and step arguments.\n",
        "* **random.choice()** method returns a randomly selected element from a non-empty sequence that should be provide as an argument. "
      ]
    },
    {
      "cell_type": "code",
      "metadata": {
        "id": "WndrHTAOaAY3",
        "colab": {
          "base_uri": "https://localhost:8080/"
        },
        "outputId": "6d6c1dde-5ba9-4acc-e71b-2d0569307030"
      },
      "source": [
        "#Simulate One flip\n",
        "import random\n",
        "random.randint(0,1)"
      ],
      "execution_count": 3,
      "outputs": [
        {
          "output_type": "execute_result",
          "data": {
            "text/plain": [
              "1"
            ]
          },
          "metadata": {},
          "execution_count": 3
        }
      ]
    },
    {
      "cell_type": "code",
      "metadata": {
        "id": "mwxERCbpaAY4",
        "colab": {
          "base_uri": "https://localhost:8080/"
        },
        "outputId": "966c80f3-042e-4f08-f313-2390082b8ac0"
      },
      "source": [
        "#Simulate 10 flips\n",
        "for i in range(10):\n",
        "    print(random.randint(0,1)) #note flips change as you re-run cell"
      ],
      "execution_count": 5,
      "outputs": [
        {
          "output_type": "stream",
          "name": "stdout",
          "text": [
            "1\n",
            "1\n",
            "0\n",
            "0\n",
            "0\n",
            "1\n",
            "0\n",
            "1\n",
            "1\n",
            "1\n"
          ]
        }
      ]
    },
    {
      "cell_type": "code",
      "metadata": {
        "id": "gaUjAgHXaAY5",
        "colab": {
          "base_uri": "https://localhost:8080/"
        },
        "outputId": "7508c112-b037-41df-c13c-e376da2f5cd5"
      },
      "source": [
        "#Simulate more flips and store the simulated numbers\n",
        "import numpy as np\n",
        "nflips=1000\n",
        "results=np.empty([nflips])\n",
        "for i in range(nflips):\n",
        "    results[i]=random.randint(0,1)\n",
        "\n",
        "#If you want to know how many heads you got, you can sum the array. Remember \n",
        "#heads are represented by 1s and tail by 0s.\n",
        "print(\"Number of Heads:\",(sum(results)))\n",
        "results"
      ],
      "execution_count": 6,
      "outputs": [
        {
          "output_type": "stream",
          "name": "stdout",
          "text": [
            "Number of Heads: 507.0\n"
          ]
        },
        {
          "output_type": "execute_result",
          "data": {
            "text/plain": [
              "array([0., 0., 0., 1., 0., 0., 0., 0., 1., 0., 0., 1., 0., 1., 1., 0., 1.,\n",
              "       0., 1., 0., 0., 1., 0., 0., 0., 0., 0., 1., 0., 1., 1., 0., 0., 1.,\n",
              "       1., 0., 1., 1., 1., 1., 0., 1., 0., 1., 1., 1., 1., 0., 1., 0., 0.,\n",
              "       0., 0., 0., 1., 0., 1., 1., 1., 0., 1., 1., 0., 0., 1., 1., 1., 0.,\n",
              "       1., 0., 1., 0., 1., 0., 1., 1., 1., 0., 0., 1., 1., 1., 0., 0., 0.,\n",
              "       0., 0., 0., 1., 0., 1., 1., 1., 1., 1., 0., 0., 1., 1., 1., 0., 0.,\n",
              "       1., 0., 1., 0., 1., 1., 0., 1., 0., 0., 1., 0., 0., 1., 1., 0., 0.,\n",
              "       0., 1., 1., 1., 0., 1., 1., 1., 1., 1., 1., 1., 1., 0., 0., 1., 1.,\n",
              "       0., 0., 0., 0., 0., 1., 0., 0., 1., 0., 1., 1., 1., 0., 1., 0., 1.,\n",
              "       0., 1., 1., 1., 1., 1., 1., 0., 1., 1., 1., 1., 1., 0., 0., 1., 1.,\n",
              "       1., 1., 1., 1., 0., 1., 0., 0., 1., 1., 1., 1., 0., 0., 0., 0., 1.,\n",
              "       1., 1., 0., 1., 1., 1., 0., 0., 1., 0., 0., 0., 1., 1., 1., 0., 0.,\n",
              "       0., 1., 1., 0., 1., 0., 1., 0., 0., 0., 1., 1., 0., 0., 1., 0., 1.,\n",
              "       1., 0., 0., 0., 0., 0., 1., 0., 1., 0., 1., 0., 0., 0., 0., 1., 0.,\n",
              "       1., 0., 0., 0., 0., 1., 0., 1., 1., 0., 1., 1., 1., 0., 0., 1., 0.,\n",
              "       0., 0., 0., 0., 0., 0., 1., 0., 0., 0., 0., 0., 0., 1., 1., 1., 1.,\n",
              "       0., 0., 0., 0., 1., 1., 1., 0., 0., 0., 1., 0., 0., 1., 1., 0., 0.,\n",
              "       0., 1., 1., 0., 0., 1., 1., 0., 0., 0., 1., 1., 1., 0., 1., 1., 1.,\n",
              "       1., 0., 0., 0., 0., 0., 0., 0., 1., 1., 1., 1., 0., 0., 1., 0., 1.,\n",
              "       1., 0., 1., 1., 1., 0., 1., 0., 0., 1., 1., 0., 0., 0., 1., 1., 1.,\n",
              "       1., 0., 0., 1., 1., 0., 1., 1., 0., 0., 0., 0., 1., 0., 1., 0., 0.,\n",
              "       0., 1., 0., 1., 1., 1., 0., 1., 0., 1., 0., 0., 1., 0., 0., 0., 0.,\n",
              "       0., 0., 1., 1., 1., 0., 1., 0., 1., 1., 1., 1., 1., 1., 0., 1., 1.,\n",
              "       1., 1., 1., 1., 0., 0., 1., 0., 0., 0., 1., 0., 1., 0., 1., 1., 1.,\n",
              "       0., 0., 1., 0., 0., 1., 1., 0., 1., 1., 1., 0., 1., 1., 1., 1., 0.,\n",
              "       1., 1., 0., 1., 0., 1., 1., 0., 1., 1., 0., 1., 0., 0., 1., 1., 1.,\n",
              "       1., 0., 1., 1., 1., 0., 1., 1., 0., 0., 1., 1., 0., 0., 1., 1., 0.,\n",
              "       1., 0., 0., 1., 1., 1., 1., 1., 0., 1., 1., 0., 1., 0., 1., 0., 1.,\n",
              "       0., 0., 0., 0., 0., 0., 0., 0., 0., 0., 1., 0., 0., 0., 0., 1., 1.,\n",
              "       1., 1., 1., 1., 0., 1., 1., 1., 1., 1., 1., 0., 1., 1., 1., 0., 0.,\n",
              "       1., 0., 0., 1., 0., 0., 0., 0., 1., 1., 1., 0., 0., 1., 0., 1., 0.,\n",
              "       1., 0., 1., 0., 1., 0., 0., 1., 1., 0., 1., 1., 1., 1., 1., 0., 0.,\n",
              "       0., 1., 0., 0., 0., 1., 1., 1., 1., 0., 0., 0., 0., 0., 1., 0., 1.,\n",
              "       1., 0., 1., 0., 1., 0., 0., 0., 0., 0., 0., 1., 0., 1., 0., 1., 1.,\n",
              "       1., 0., 1., 1., 0., 1., 0., 0., 1., 0., 0., 1., 0., 0., 1., 1., 1.,\n",
              "       0., 0., 1., 0., 1., 0., 1., 0., 0., 0., 1., 1., 0., 1., 1., 1., 1.,\n",
              "       0., 0., 1., 0., 0., 1., 1., 1., 0., 1., 0., 1., 1., 1., 0., 1., 1.,\n",
              "       0., 1., 1., 0., 1., 1., 0., 1., 0., 1., 1., 0., 0., 0., 0., 0., 1.,\n",
              "       1., 0., 1., 0., 1., 0., 1., 0., 1., 1., 1., 0., 0., 1., 0., 1., 1.,\n",
              "       0., 1., 1., 0., 0., 1., 0., 1., 0., 1., 1., 1., 0., 1., 1., 0., 0.,\n",
              "       1., 1., 0., 0., 0., 0., 1., 1., 1., 0., 1., 1., 1., 0., 0., 1., 1.,\n",
              "       1., 1., 0., 1., 1., 1., 0., 0., 1., 0., 1., 1., 1., 0., 0., 0., 1.,\n",
              "       1., 1., 0., 0., 1., 0., 0., 1., 1., 1., 1., 0., 0., 1., 0., 0., 0.,\n",
              "       0., 1., 1., 1., 1., 0., 0., 1., 0., 1., 0., 1., 0., 1., 1., 0., 0.,\n",
              "       0., 1., 1., 1., 1., 0., 0., 0., 0., 1., 0., 0., 1., 1., 0., 0., 1.,\n",
              "       0., 1., 1., 0., 0., 0., 1., 1., 1., 0., 0., 0., 1., 1., 0., 1., 0.,\n",
              "       1., 1., 0., 1., 0., 1., 1., 0., 1., 1., 0., 1., 0., 0., 0., 0., 0.,\n",
              "       0., 0., 1., 1., 1., 0., 0., 0., 0., 0., 0., 0., 1., 1., 1., 0., 1.,\n",
              "       1., 0., 0., 1., 0., 1., 1., 1., 0., 0., 1., 1., 0., 1., 0., 1., 0.,\n",
              "       1., 1., 1., 1., 1., 0., 1., 0., 1., 1., 1., 1., 0., 1., 0., 0., 1.,\n",
              "       1., 1., 0., 0., 1., 1., 0., 0., 1., 0., 1., 0., 1., 0., 0., 0., 0.,\n",
              "       0., 1., 0., 1., 0., 0., 1., 0., 0., 0., 1., 1., 0., 0., 1., 0., 0.,\n",
              "       0., 1., 1., 1., 1., 0., 0., 0., 1., 0., 1., 1., 0., 0., 0., 0., 1.,\n",
              "       0., 1., 1., 0., 1., 0., 0., 0., 0., 0., 1., 1., 0., 0., 1., 0., 1.,\n",
              "       0., 0., 1., 1., 1., 0., 1., 1., 0., 0., 1., 0., 1., 0., 1., 1., 0.,\n",
              "       0., 1., 1., 1., 1., 1., 1., 0., 1., 1., 1., 0., 0., 0., 0., 0., 0.,\n",
              "       1., 0., 1., 1., 1., 1., 0., 1., 0., 0., 0., 1., 1., 0., 1., 1., 0.,\n",
              "       1., 0., 0., 0., 1., 1., 0., 1., 0., 1., 1., 1., 0., 0., 1., 0., 0.,\n",
              "       0., 0., 0., 1., 1., 0., 1., 1., 1., 0., 0., 0., 0., 0.])"
            ]
          },
          "metadata": {},
          "execution_count": 6
        }
      ]
    },
    {
      "cell_type": "markdown",
      "metadata": {
        "id": "_2tTQNQ0ePZE"
      },
      "source": [
        "## Simulate a Fair Die Throw"
      ]
    },
    {
      "cell_type": "code",
      "metadata": {
        "scrolled": false,
        "id": "e_mYtvvpaAY6",
        "colab": {
          "base_uri": "https://localhost:8080/"
        },
        "outputId": "d4a307c5-a2e9-4968-8540-5d1d2dc71c1d"
      },
      "source": [
        "#Roll of a fair die 1000 times\n",
        "nflips=1000  #change to 10000\n",
        "results=np.empty([nflips])\n",
        "for i in range(nflips):\n",
        "    results[i]=random.randint(1,6)\n",
        "\n",
        "results"
      ],
      "execution_count": 7,
      "outputs": [
        {
          "output_type": "execute_result",
          "data": {
            "text/plain": [
              "array([6., 6., 6., 6., 4., 2., 1., 3., 4., 6., 5., 5., 3., 3., 6., 3., 2.,\n",
              "       3., 2., 2., 5., 5., 1., 1., 2., 6., 4., 3., 6., 3., 1., 1., 2., 6.,\n",
              "       1., 2., 5., 3., 3., 2., 2., 4., 2., 6., 2., 6., 2., 5., 6., 6., 2.,\n",
              "       5., 2., 5., 1., 4., 2., 5., 1., 1., 6., 3., 3., 4., 2., 6., 2., 1.,\n",
              "       2., 1., 4., 3., 6., 4., 3., 2., 4., 6., 6., 4., 3., 4., 4., 1., 1.,\n",
              "       2., 4., 2., 1., 6., 2., 2., 2., 2., 5., 5., 1., 5., 2., 2., 2., 4.,\n",
              "       3., 3., 6., 3., 1., 3., 1., 6., 5., 1., 3., 1., 4., 4., 5., 6., 2.,\n",
              "       5., 6., 6., 5., 4., 1., 4., 4., 3., 4., 1., 2., 2., 5., 1., 1., 3.,\n",
              "       3., 5., 4., 3., 2., 1., 5., 4., 1., 3., 5., 1., 1., 2., 1., 3., 2.,\n",
              "       4., 6., 5., 2., 4., 4., 1., 6., 6., 2., 2., 4., 3., 2., 1., 5., 6.,\n",
              "       5., 2., 4., 6., 3., 1., 2., 4., 4., 6., 5., 2., 2., 3., 2., 3., 6.,\n",
              "       1., 1., 4., 3., 6., 6., 2., 5., 3., 5., 4., 6., 5., 1., 5., 2., 4.,\n",
              "       4., 5., 4., 4., 5., 2., 3., 6., 5., 6., 5., 3., 6., 6., 6., 1., 1.,\n",
              "       2., 4., 2., 6., 6., 5., 2., 6., 6., 5., 6., 3., 2., 5., 1., 3., 5.,\n",
              "       4., 1., 2., 1., 6., 1., 1., 6., 4., 2., 1., 1., 4., 4., 4., 3., 4.,\n",
              "       3., 3., 3., 2., 1., 5., 4., 2., 1., 6., 3., 6., 6., 5., 1., 4., 6.,\n",
              "       3., 1., 1., 6., 2., 4., 5., 5., 4., 5., 1., 3., 3., 6., 5., 2., 6.,\n",
              "       6., 3., 1., 4., 6., 4., 5., 6., 4., 4., 5., 6., 5., 2., 4., 3., 6.,\n",
              "       2., 5., 4., 6., 4., 6., 1., 2., 3., 3., 2., 1., 6., 6., 5., 4., 5.,\n",
              "       3., 2., 3., 5., 2., 4., 1., 1., 5., 1., 2., 5., 2., 2., 5., 4., 4.,\n",
              "       2., 4., 2., 4., 3., 1., 5., 3., 2., 4., 2., 5., 5., 2., 1., 1., 2.,\n",
              "       5., 2., 2., 1., 1., 6., 3., 6., 5., 2., 3., 5., 4., 5., 3., 6., 6.,\n",
              "       5., 1., 2., 2., 5., 4., 1., 3., 4., 6., 5., 6., 5., 5., 6., 4., 2.,\n",
              "       6., 1., 5., 3., 5., 5., 2., 5., 1., 3., 5., 5., 6., 2., 5., 1., 1.,\n",
              "       6., 6., 3., 4., 2., 3., 4., 3., 4., 2., 1., 1., 2., 2., 1., 5., 3.,\n",
              "       1., 3., 2., 2., 6., 2., 4., 3., 6., 5., 4., 1., 1., 4., 5., 4., 6.,\n",
              "       5., 6., 3., 2., 5., 1., 3., 5., 5., 4., 6., 2., 6., 4., 5., 5., 2.,\n",
              "       3., 1., 5., 5., 6., 3., 3., 5., 5., 2., 6., 6., 3., 2., 5., 1., 1.,\n",
              "       4., 3., 6., 1., 4., 1., 6., 4., 6., 3., 2., 1., 2., 4., 6., 5., 4.,\n",
              "       4., 6., 3., 5., 5., 1., 1., 3., 4., 2., 6., 2., 5., 1., 5., 6., 2.,\n",
              "       5., 6., 4., 4., 1., 3., 5., 4., 1., 6., 2., 3., 1., 5., 2., 5., 6.,\n",
              "       5., 4., 2., 2., 6., 1., 6., 4., 5., 5., 2., 5., 2., 4., 3., 5., 4.,\n",
              "       4., 1., 3., 5., 1., 2., 6., 2., 5., 3., 5., 5., 6., 5., 4., 3., 5.,\n",
              "       1., 4., 4., 1., 1., 3., 1., 3., 5., 3., 6., 6., 6., 3., 5., 3., 4.,\n",
              "       2., 4., 6., 5., 5., 3., 6., 4., 3., 3., 6., 4., 2., 5., 6., 1., 4.,\n",
              "       3., 4., 3., 4., 2., 5., 1., 5., 3., 4., 1., 5., 3., 3., 4., 2., 6.,\n",
              "       2., 3., 2., 1., 4., 2., 3., 6., 1., 4., 6., 3., 2., 6., 3., 3., 3.,\n",
              "       3., 4., 4., 5., 5., 3., 4., 4., 3., 1., 1., 2., 6., 1., 4., 6., 6.,\n",
              "       6., 6., 4., 3., 4., 4., 6., 6., 5., 6., 1., 4., 2., 6., 5., 1., 1.,\n",
              "       3., 6., 4., 2., 2., 1., 3., 3., 4., 6., 1., 5., 2., 4., 3., 6., 1.,\n",
              "       5., 4., 6., 3., 5., 2., 5., 6., 6., 6., 5., 4., 5., 2., 5., 4., 4.,\n",
              "       5., 4., 1., 3., 5., 2., 5., 2., 4., 3., 2., 1., 4., 4., 3., 2., 3.,\n",
              "       1., 5., 1., 3., 1., 4., 1., 1., 4., 4., 4., 6., 3., 3., 5., 6., 6.,\n",
              "       5., 3., 5., 2., 6., 2., 6., 4., 4., 5., 5., 4., 5., 3., 4., 6., 2.,\n",
              "       5., 3., 2., 5., 4., 3., 2., 6., 5., 2., 3., 3., 6., 4., 4., 3., 4.,\n",
              "       5., 4., 3., 3., 5., 4., 6., 6., 2., 4., 4., 3., 6., 2., 1., 4., 5.,\n",
              "       4., 2., 3., 5., 1., 4., 2., 4., 1., 1., 2., 4., 3., 2., 3., 2., 4.,\n",
              "       5., 2., 5., 3., 3., 2., 4., 1., 6., 6., 2., 1., 2., 6., 2., 1., 6.,\n",
              "       2., 4., 2., 2., 2., 6., 2., 4., 3., 2., 1., 6., 2., 3., 1., 4., 3.,\n",
              "       6., 3., 1., 2., 1., 4., 2., 6., 5., 4., 5., 2., 1., 3., 5., 3., 1.,\n",
              "       3., 2., 1., 5., 1., 1., 5., 6., 5., 5., 5., 2., 1., 3., 2., 5., 2.,\n",
              "       1., 3., 1., 4., 4., 3., 6., 5., 6., 5., 1., 2., 5., 2., 1., 4., 6.,\n",
              "       2., 2., 6., 5., 4., 5., 1., 3., 2., 3., 2., 6., 1., 4., 4., 3., 3.,\n",
              "       2., 4., 2., 4., 3., 4., 1., 6., 6., 1., 3., 1., 5., 1., 2., 1., 2.,\n",
              "       2., 4., 6., 6., 3., 1., 2., 5., 5., 6., 4., 3., 3., 2., 4., 4., 4.,\n",
              "       1., 1., 1., 6., 3., 1., 6., 4., 2., 3., 2., 3., 6., 3., 4., 1., 4.,\n",
              "       5., 5., 2., 3., 5., 6., 3., 3., 2., 3., 6., 1., 5., 4., 5., 5., 1.,\n",
              "       4., 5., 5., 3., 6., 5., 2., 2., 4., 2., 2., 1., 3., 1., 2., 1., 3.,\n",
              "       3., 5., 1., 3., 2., 3., 5., 1., 2., 4., 5., 4., 5., 4.])"
            ]
          },
          "metadata": {},
          "execution_count": 7
        }
      ]
    },
    {
      "cell_type": "markdown",
      "metadata": {
        "id": "547l2CZKlRuW"
      },
      "source": [
        "If you want the number of occurence os a spefic outcome you can use numpy function *count_nonzero()*.\n",
        "If you use *np.count_nonzero( array )* you are just counting number that are not zero.\n",
        "But this function can also be used to count the number of times a value appears in a array by using *np.count_nonzero( array == value )*."
      ]
    },
    {
      "cell_type": "code",
      "metadata": {
        "colab": {
          "base_uri": "https://localhost:8080/"
        },
        "id": "N-YlZSMUlC5V",
        "outputId": "90269819-84be-4705-fbf7-013475c09e8a"
      },
      "source": [
        "#If you want to know how many times we got number 1,\n",
        "draw_one=np.count_nonzero(results == 1)\n",
        "print(\"Number of 1s:\",draw_one) \n",
        "print(\"Probability of getting a 1:\",draw_one/nflips)\n",
        "print(\"True probability of getting 1:\", 1/6)"
      ],
      "execution_count": 8,
      "outputs": [
        {
          "output_type": "stream",
          "name": "stdout",
          "text": [
            "Number of 1s: 154\n",
            "Probability of getting a 1: 0.154\n",
            "True probability of getting 1: 0.16666666666666666\n"
          ]
        }
      ]
    },
    {
      "cell_type": "markdown",
      "metadata": {
        "id": "rjy5yytAex7s"
      },
      "source": [
        "## Seed Number Generator"
      ]
    },
    {
      "cell_type": "markdown",
      "metadata": {
        "id": "rW1wy82fmYLx"
      },
      "source": [
        "Every time you simulate the random number generator you get a diferent number. If you want all of us to get the same number you can ask our computer to use the same seed to generate the random number. You can set a seed by using function *random.seed()*.\n",
        "\n",
        "Generating random numbers looks a lot easier than it really is. The generation of true random numbers remains an unsolved problem in computer science. If you are a Big Bang Theory fan watch episode 1 of Season 12 called \"The Conjugal Configuration\".  "
      ]
    },
    {
      "cell_type": "code",
      "metadata": {
        "id": "DC9fyEObaAY6",
        "colab": {
          "base_uri": "https://localhost:8080/"
        },
        "outputId": "1019036f-f2c9-432d-eebc-cbe952fad12b"
      },
      "source": [
        "#Roll of a fair die again but now let's all use the same seed\n",
        "random.seed(1112)\n",
        "nflips=10  #change to 10000\n",
        "results=np.empty([nflips])\n",
        "for i in range(nflips):\n",
        "    results[i]=random.randint(1,6)\n",
        "\n",
        "print(results)"
      ],
      "execution_count": null,
      "outputs": [
        {
          "output_type": "stream",
          "name": "stdout",
          "text": [
            "[3. 1. 3. 5. 1. 4. 1. 6. 5. 3.]\n"
          ]
        }
      ]
    },
    {
      "cell_type": "markdown",
      "metadata": {
        "id": "GQX3UtZ2enmY"
      },
      "source": [
        "## Simulating Random Variables from Standard Distributions"
      ]
    },
    {
      "cell_type": "markdown",
      "metadata": {
        "id": "bPtLKCujfVpz"
      },
      "source": [
        "### Binomial Distribution"
      ]
    },
    {
      "cell_type": "markdown",
      "metadata": {
        "id": "gagXyqf5pW0V"
      },
      "source": [
        "The Binomial Distribution has two possible outcomes: succes and failure. It can be used to simulate a coin flip/toss.\n",
        "To simulate draws from a Binomial we will use *np.random.binomial()*. This function takes two arguments:\n",
        "* Number of trials;\n",
        "* Probability of succes."
      ]
    },
    {
      "cell_type": "code",
      "metadata": {
        "id": "BhOq9gGVaAY7",
        "colab": {
          "base_uri": "https://localhost:8080/"
        },
        "outputId": "9d68e4d4-0033-427a-d255-f65347781702"
      },
      "source": [
        "#Binomial: only two possible outcomes, consider heads a success\n",
        "import numpy as np \n",
        "nflips=10000\n",
        "p=0.5 #prob of heads\n",
        "n_heads=np.random.binomial(nflips,p)\n",
        "print(\"Number of heads:\",n_heads) "
      ],
      "execution_count": null,
      "outputs": [
        {
          "output_type": "stream",
          "name": "stdout",
          "text": [
            "Number of heads: 5080\n"
          ]
        }
      ]
    },
    {
      "cell_type": "code",
      "metadata": {
        "id": "ZduskMvUaAY8",
        "colab": {
          "base_uri": "https://localhost:8080/"
        },
        "outputId": "125f1fe2-8ab8-4e20-db98-baf35f6e19a8"
      },
      "source": [
        "#Now let's see how to fix the seed with the numpy random number generator\n",
        "np.random.seed(1112)\n",
        "nflips=10000\n",
        "p=0.5 #prob of heads\n",
        "n_heads=np.random.binomial(nflips,p)\n",
        "print(\"Number of heads:\",n_heads) "
      ],
      "execution_count": null,
      "outputs": [
        {
          "output_type": "stream",
          "name": "stdout",
          "text": [
            "Number of heads: 4988\n"
          ]
        }
      ]
    },
    {
      "cell_type": "markdown",
      "metadata": {
        "id": "_FM_68pWsHYT"
      },
      "source": [
        "When generating random variables we might also be interested in pdfs and cdfs. The scipy.stats library offers more functionality.\n",
        "\n",
        "* *scipy.stats.binom.rvs()* rvs stands for random variates\n",
        "* *scipy.stats.binom.cdf()* cdf stands for cumulative distribution function\n",
        "* *scipy.stats.binom.pdf()* pdf stands for probability density function, it can only be used for continuous variables\n",
        "* *scipy.stats.binom.pmf()* pmf stands for probability mass function, it can only be used for discrete variables\n",
        "\n"
      ]
    },
    {
      "cell_type": "code",
      "metadata": {
        "id": "XGWFIiS1aAY9",
        "colab": {
          "base_uri": "https://localhost:8080/"
        },
        "outputId": "f2bd02a0-f5b6-4996-e85a-41a0f269ba4c"
      },
      "source": [
        "#but if you want more than draws\n",
        "import scipy.stats as stats\n",
        "nflips=10000\n",
        "p=0.5 #prob of heads\n",
        "n_heads=stats.binom.rvs(nflips,p)\n",
        "print(\"Number of heads:\",n_heads )"
      ],
      "execution_count": 9,
      "outputs": [
        {
          "output_type": "stream",
          "name": "stdout",
          "text": [
            "Number of heads: 5040\n"
          ]
        }
      ]
    },
    {
      "cell_type": "markdown",
      "metadata": {
        "id": "Ko-SdxFdtBwP"
      },
      "source": [
        "The cumulative density function (cdf) of 500 is the cumulative probability of 500, i.e., probability that in 1000 flips we get heads less than 500 times.\n"
      ]
    },
    {
      "cell_type": "code",
      "metadata": {
        "id": "O6CVIfYaaAY9",
        "colab": {
          "base_uri": "https://localhost:8080/"
        },
        "outputId": "1cf291b8-6974-44b3-b05a-9ee1285f8e05"
      },
      "source": [
        "nflips=1000\n",
        "p=0.5 #prob of heads\n",
        "stats.binom.cdf(500,nflips,p)\n"
      ],
      "execution_count": null,
      "outputs": [
        {
          "output_type": "execute_result",
          "data": {
            "text/plain": [
              "0.5126125090888417"
            ]
          },
          "metadata": {},
          "execution_count": 59
        }
      ]
    },
    {
      "cell_type": "markdown",
      "metadata": {
        "id": "sqOqC9vdtuSj"
      },
      "source": [
        "The probability of exactly 500 heads will be given by the pmf since the binomial is a discrete distribution. "
      ]
    },
    {
      "cell_type": "code",
      "metadata": {
        "colab": {
          "base_uri": "https://localhost:8080/"
        },
        "id": "lE6iuNu3s68T",
        "outputId": "a7110247-c1f8-4295-e0fa-1214ee39e816"
      },
      "source": [
        "stats.binom.pmf(500,nflips,p)"
      ],
      "execution_count": null,
      "outputs": [
        {
          "output_type": "execute_result",
          "data": {
            "text/plain": [
              "0.025225018178380496"
            ]
          },
          "metadata": {},
          "execution_count": 60
        }
      ]
    },
    {
      "cell_type": "markdown",
      "metadata": {
        "id": "pwSzhVXbIF--"
      },
      "source": [
        "### Discrete Uniform Distribution"
      ]
    },
    {
      "cell_type": "markdown",
      "metadata": {
        "id": "lX2pmiLsIJTr"
      },
      "source": [
        "Discrete uniform random number generator can be done with the \n",
        "*random.randint()* or with the *numpy.random.randint()*.\n",
        "\n",
        "*numpy.random.randint(low, high=None, size=None, dtype='l')* will return random integers from low (inclusive) to high (exclusive), i.e., [low, high). "
      ]
    },
    {
      "cell_type": "code",
      "metadata": {
        "colab": {
          "base_uri": "https://localhost:8080/"
        },
        "id": "xX9_GvksIz_f",
        "outputId": "db6c4797-d2d9-4d95-8dbb-0f5b65d32d15"
      },
      "source": [
        "#Discrete Uniform to simulate fair die throw with numpy\n",
        "nflips=100\n",
        "results=np.random.randint(1,6,size=nflips)\n",
        "print(results)\n",
        "draw_six=np.count_nonzero(results == 6)\n",
        "print(\"Number of 6s:\",draw_six) \n",
        "print(\"Probability of getting a 6:\",draw_six/nflips)\n",
        "print(\"True probability of getting 6:\", 1/6)"
      ],
      "execution_count": 10,
      "outputs": [
        {
          "output_type": "stream",
          "name": "stdout",
          "text": [
            "[1 2 5 3 3 3 3 5 1 2 5 4 4 2 1 2 4 4 1 3 4 3 2 4 1 2 5 3 1 5 5 4 4 4 1 5 5\n",
            " 2 2 3 1 2 5 1 3 2 5 4 4 3 2 3 3 1 3 3 5 5 2 4 2 2 3 1 5 5 2 3 3 4 2 2 4 4\n",
            " 5 1 2 1 4 2 1 3 1 4 1 3 5 5 4 3 1 5 1 4 3 5 1 4 5 2]\n",
            "Number of 6s: 0\n",
            "Probability of getting a 6: 0.0\n",
            "True probability of getting 6: 0.16666666666666666\n"
          ]
        }
      ]
    },
    {
      "cell_type": "markdown",
      "metadata": {
        "id": "yunfA1sXJQQM"
      },
      "source": [
        "Note that 6 never happens, we need to change the limits!\n"
      ]
    },
    {
      "cell_type": "code",
      "metadata": {
        "colab": {
          "base_uri": "https://localhost:8080/"
        },
        "id": "VKgjdeu4JK7V",
        "outputId": "e8b5f49f-9736-4490-ebb1-031467867e50"
      },
      "source": [
        "#Discrete Uniform to simulate fair die throw with numpy\n",
        "nflips=1000\n",
        "results=np.random.randint(1,7,size=nflips)\n",
        "draw_six=np.count_nonzero(results == 6)\n",
        "print(\"Number of 6s:\",draw_six) \n",
        "print(\"Probability of getting a 6:\",draw_six/nflips)\n",
        "print(\"True probability of getting 6:\", 1/6)"
      ],
      "execution_count": 11,
      "outputs": [
        {
          "output_type": "stream",
          "name": "stdout",
          "text": [
            "Number of 6s: 168\n",
            "Probability of getting a 6: 0.168\n",
            "True probability of getting 6: 0.16666666666666666\n"
          ]
        }
      ]
    },
    {
      "cell_type": "markdown",
      "metadata": {
        "id": "RGgTs3d_-LtK"
      },
      "source": [
        "Increase number of flips to get closer to true probability.\n",
        "\n"
      ]
    },
    {
      "cell_type": "markdown",
      "metadata": {
        "id": "hEQVjk4zfbIB"
      },
      "source": [
        "### Continuous Uniform Distribution"
      ]
    },
    {
      "cell_type": "markdown",
      "metadata": {
        "id": "41GOGhDft6bg"
      },
      "source": [
        "The continuous uniform can be generated with the numpy or the scipy.stats library using the functions: \n",
        "* *np.random.uniform()* or\n",
        "* *stats.uniform.rvs()*."
      ]
    },
    {
      "cell_type": "code",
      "metadata": {
        "id": "urQUt_LBaAY-",
        "colab": {
          "base_uri": "https://localhost:8080/"
        },
        "outputId": "f179c5d0-b062-4c68-9768-fb0f196dde4b"
      },
      "source": [
        "#Generate continuous Uniform(0,1) variates with numpy\n",
        "nflips=10000\n",
        "gen_uniform=np.random.uniform(0,1,size=nflips)\n",
        "gen_uniform"
      ],
      "execution_count": 12,
      "outputs": [
        {
          "output_type": "execute_result",
          "data": {
            "text/plain": [
              "array([0.08854704, 0.07312743, 0.89897786, ..., 0.70325197, 0.19762457,\n",
              "       0.52788192])"
            ]
          },
          "metadata": {},
          "execution_count": 12
        }
      ]
    },
    {
      "cell_type": "markdown",
      "metadata": {
        "id": "HGu3mgiOvcoW"
      },
      "source": [
        "If you want to check the generated values, since they are floats and 10000 simulations, it's easier to plot them than print the values. Plots can be generate in two ways.\n",
        "* Convert your numpy array to a data frame using pd.DataFrame() and use .plot().\n",
        "* Using *matplotlib.pyplot.plot()* function.\n",
        "\n",
        "The second option will be the preferred method."
      ]
    },
    {
      "cell_type": "code",
      "metadata": {
        "id": "ObeuNfrCaAZA",
        "colab": {
          "base_uri": "https://localhost:8080/",
          "height": 303
        },
        "outputId": "8adb25e7-ff99-4379-cced-eba349b5c581"
      },
      "source": [
        "#Let's try option 2 \n",
        "import matplotlib.pyplot as plt\n",
        "plt.plot(gen_uniform)\n",
        "#plt.ylim() #uncomment this line to get min and max values for the generated number"
      ],
      "execution_count": 13,
      "outputs": [
        {
          "output_type": "execute_result",
          "data": {
            "text/plain": [
              "[<matplotlib.lines.Line2D at 0x7feeaa3b5250>]"
            ]
          },
          "metadata": {},
          "execution_count": 13
        },
        {
          "output_type": "display_data",
          "data": {
            "text/plain": [
              "<Figure size 432x288 with 1 Axes>"
            ],
            "image/png": "[encoded data removed]"
          },
          "metadata": {
            "needs_background": "light"
          }
        }
      ]
    },
    {
      "cell_type": "code",
      "metadata": {
        "id": "fsoQCg5QaAY_",
        "colab": {
          "base_uri": "https://localhost:8080/",
          "height": 282
        },
        "outputId": "696421d8-f6f2-40aa-b85b-aa8332802fdd"
      },
      "source": [
        "#Generate Uniform(0,1) variates with scipy.stats\n",
        "gen_uniform=stats.uniform.rvs(size=10000) \n",
        "plt.plot(gen_uniform)"
      ],
      "execution_count": null,
      "outputs": [
        {
          "output_type": "execute_result",
          "data": {
            "text/plain": [
              "[<matplotlib.lines.Line2D at 0x7f161ee7a850>]"
            ]
          },
          "metadata": {},
          "execution_count": 66
        },
        {
          "output_type": "display_data",
          "data": {
            "image/png": "[encoded data removed]",
            "text/plain": [
              "<Figure size 432x288 with 1 Axes>"
            ]
          },
          "metadata": {
            "needs_background": "light"
          }
        }
      ]
    },
    {
      "cell_type": "markdown",
      "metadata": {
        "id": "aDByA7l4yyEs"
      },
      "source": [
        "Note that because we did not specify anything when we called *gen_uniform=stats.uniform.rvs(size=1000)* the generated random variabels are all between 0 and 1. \n",
        "If you want U(a,b) you need to change the default arguments *loc* and *scale*."
      ]
    },
    {
      "cell_type": "code",
      "metadata": {
        "id": "kn8o7TGwaAZB"
      },
      "source": [
        "#Ex8: continuous Uniform distribution\n",
        "nflips=10000\n",
        "a=1\n",
        "b=10  #Uniform(1,10)\n",
        "gen_uniform=stats.uniform.rvs(size=nflips,loc=a,scale=(b-1))"
      ],
      "execution_count": 14,
      "outputs": []
    },
    {
      "cell_type": "code",
      "metadata": {
        "colab": {
          "base_uri": "https://localhost:8080/",
          "height": 282
        },
        "id": "C6IM1k5TzWJC",
        "outputId": "df5840e2-5665-4f19-9abc-50ebc87fb3e1"
      },
      "source": [
        "#Now plot again to see the numbers have changed\n",
        "plt.plot(gen_uniform)"
      ],
      "execution_count": null,
      "outputs": [
        {
          "output_type": "execute_result",
          "data": {
            "text/plain": [
              "[<matplotlib.lines.Line2D at 0x7f161ed351d0>]"
            ]
          },
          "metadata": {},
          "execution_count": 72
        },
        {
          "output_type": "display_data",
          "data": {
            "image/png": "[encoded data removed]",
            "text/plain": [
              "<Figure size 432x288 with 1 Axes>"
            ]
          },
          "metadata": {
            "needs_background": "light"
          }
        }
      ]
    },
    {
      "cell_type": "markdown",
      "metadata": {
        "id": "4ZV-opWGvOJZ"
      },
      "source": [
        "The library scipy.stats can be used for any distribution by changing the argument that specifies the distribution\n",
        "*stats.**distribution**.rvs()*, *stats.**distribution**.pdf()*,*stats.**distribution**.pmf()*,*stats.**distribution**.cdf()*. Just replace distribution with the name of distribution you want. For example:\n",
        "\n",
        "* *stats.**norm**.rvs()*\n",
        "* *stats.**expon**.rvs()*\n",
        "* *stats.**gamma**.rvs()*\n",
        "* ...\n",
        "\n"
      ]
    },
    {
      "cell_type": "markdown",
      "metadata": {
        "id": "U8pqvsH2A4Mq"
      },
      "source": [
        "## **Exercise:**"
      ]
    },
    {
      "cell_type": "markdown",
      "metadata": {
        "id": "VcWpd77IA8PB"
      },
      "source": [
        "Game: throw a pair of fair dice and get paid the sum multiplied by 10."
      ]
    },
    {
      "cell_type": "code",
      "metadata": {
        "id": "EL8XAx1XBQ1G"
      },
      "source": [
        "#Simulate draws - discrete uniform\n",
        "#YOUR CODE#"
      ],
      "execution_count": null,
      "outputs": []
    },
    {
      "cell_type": "code",
      "metadata": {
        "id": "ZdxBVWiJGTfK"
      },
      "source": [
        "#Parts d,e,f\n",
        "Exp_P=np.mean(P)\n",
        "Var_P=np.var(P)\n",
        "Std_P=np.std(P)\n",
        "print(\"Expected Value:\",'{number:.{digits}f}'.format(number=Exp_P,digits=2))\n",
        "print(\"Variance:\",'{number:.{digits}f}'.format(number=Var_P,digits=2))\n",
        "print(\"Standard Deviation:\",'{number:.{digits}f}'.format(number=Std_P,digits=2))"
      ],
      "execution_count": null,
      "outputs": []
    },
    {
      "cell_type": "code",
      "metadata": {
        "id": "O-dPJppfEPC4"
      },
      "source": [
        "#Plots\n",
        "plt.plot(P)\n",
        "plt.figure() #start new plot\n",
        "plt.hist(P,bins=50,density=True)\n",
        "plt.figure() #start new plot\n",
        "plt.hist(P,bins=50,cumulative=True)\n"
      ],
      "execution_count": null,
      "outputs": []
    },
    {
      "cell_type": "markdown",
      "metadata": {
        "id": "Lquud57TBVqU"
      },
      "source": [
        "## **Exercise: Empirical Distribution and the newsvendor problem**"
      ]
    },
    {
      "cell_type": "markdown",
      "metadata": {
        "id": "eAb9723BAMqy"
      },
      "source": [
        "“Empirical” means “observed”. Empirical distributions are distributions of observed data. Recall the example from lectures.\n",
        "\n",
        "How could you use Monte Carlo simulation in Python to find the optimal ordering strategy for the newsvendor?\n",
        "\n"
      ]
    },
    {
      "cell_type": "markdown",
      "metadata": {
        "id": "hUm1fOQ8AlmS"
      },
      "source": [
        "![Screen Shot 2021-11-11 at 9.37.59 PM.png](data:image/png;base64,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)"
      ]
    },
    {
      "cell_type": "code",
      "metadata": {
        "id": "OSQqx10xAq3B",
        "colab": {
          "base_uri": "https://localhost:8080/",
          "height": 303
        },
        "outputId": "481549c4-52ab-4512-8663-579e22d3fb57"
      },
      "source": [
        "#How to create the pmf\n",
        "revenue=1.5\n",
        "cost=0.5\n",
        "demand=[64,65,66,67,68,69]\n",
        "demand_pmf=[0.02,0.14,0.4,0.3,0.1,0.04]\n",
        "\n",
        "#Plot pmf\n",
        "plt.scatter(demand,demand_pmf)\n"
      ],
      "execution_count": 15,
      "outputs": [
        {
          "output_type": "execute_result",
          "data": {
            "text/plain": [
              "<matplotlib.collections.PathCollection at 0x7feea9e65340>"
            ]
          },
          "metadata": {},
          "execution_count": 15
        },
        {
          "output_type": "display_data",
          "data": {
            "text/plain": [
              "<Figure size 432x288 with 1 Axes>"
            ],
            "image/png": "[encoded data removed]"
          },
          "metadata": {
            "needs_background": "light"
          }
        }
      ]
    },
    {
      "cell_type": "code",
      "metadata": {
        "id": "jeakxpLUC1sX"
      },
      "source": [
        "#construct cdf\n",
        "demand_cdf=np.empty([len(demand)])\n",
        "\n",
        "####YOUR CODE TO CONSTRUCT THE CDF ARRAY#####"
      ],
      "execution_count": 16,
      "outputs": []
    },
    {
      "cell_type": "code",
      "metadata": {
        "id": "54ZomBn3Dyxz"
      },
      "source": [
        "#plot cdf\n",
        "plt.plot(demand,demand_cdf)"
      ],
      "execution_count": null,
      "outputs": []
    },
    {
      "cell_type": "code",
      "metadata": {
        "id": "YDFDti7iC37u"
      },
      "source": [
        "#define profit function UDF\n",
        "#recall x is amount sold and y is ordered\n",
        "\n",
        "##YOUR CODE TO DEFINE A UDF THAT RETURN PROFIT###\n"
      ],
      "execution_count": null,
      "outputs": []
    },
    {
      "cell_type": "code",
      "metadata": {
        "id": "154QiEToC6cx"
      },
      "source": [
        "#simulate demand   \n",
        "nsim=1000000\n",
        "demand_draws=np.empty([nsim])\n",
        "#set seed\n",
        "np.random.seed(1112)\n",
        "draw=stats.uniform.rvs(size=nsim,loc=0,scale=1)\n",
        "for i in range(nsim):\n",
        "    for j in range(len(demand)):\n",
        "        if( draw[i] <= demand_cdf[j]):\n",
        "            ### YOUR CODE: FILL OUT MISSING PART THAT WILL GIVE DEMAND BASED ON CDF DRAW####"
      ],
      "execution_count": null,
      "outputs": []
    },
    {
      "cell_type": "code",
      "metadata": {
        "id": "gPKHEhOSEgni"
      },
      "source": [
        "plt.hist(demand_draws,bins=10,density=True)"
      ],
      "execution_count": null,
      "outputs": []
    },
    {
      "cell_type": "code",
      "metadata": {
        "id": "ImFr4frTEkk0"
      },
      "source": [
        "#calculate gx for each draw\n",
        "print(\"Number of draws:\",nsim)\n",
        "for j in range(len(demand)):\n",
        "    expected_profit=0\n",
        "    for i in range(nsim):\n",
        "        expected_profit = ###YOUR CODE: COMPLETE THIS EXPRESSION##\n",
        "    expected_profit = expected_profit/nsim\n",
        "    print(demand[j],\":\",expected_profit)"
      ],
      "execution_count": null,
      "outputs": []
    }
  ]
}