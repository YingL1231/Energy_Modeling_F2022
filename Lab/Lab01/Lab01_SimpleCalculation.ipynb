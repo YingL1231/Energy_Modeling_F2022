{
  "nbformat": 4,
  "nbformat_minor": 0,
  "metadata": {
    "kernelspec": {
      "display_name": "Python 3",
      "language": "python",
      "name": "python3"
    },
    "language_info": {
      "codemirror_mode": {
        "name": "ipython",
        "version": 3
      },
      "file_extension": ".py",
      "mimetype": "text/x-python",
      "name": "python",
      "nbconvert_exporter": "python",
      "pygments_lexer": "ipython3",
      "version": "3.7.4"
    },
    "colab": {
      "name": "Lab1_SimpleCalculation.ipynb",
      "provenance": [],
      "toc_visible": true,
      "collapsed_sections": [],
      "include_colab_link": true
    }
  },
  "cells": [
    {
      "cell_type": "markdown",
      "metadata": {
        "id": "view-in-github",
        "colab_type": "text"
      },
      "source": [
        "<a href=\"https://colab.research.google.com/github/ENV716/Energy_Modeling_F2022/blob/main/Lab/Lab01/Lab01_SimpleCalculation.ipynb\" target=\"_parent\"><img src=\"https://colab.research.google.com/assets/colab-badge.svg\" alt=\"Open In Colab\"/></a>"
      ]
    },
    {
      "cell_type": "markdown",
      "metadata": {
        "id": "N8rYyniqpC0R"
      },
      "source": [
        "# ENVIRON/ENERGY 716 - Lab 1\n",
        "# Intro to Python | Simple Operations | Defining objects\n",
        "\n",
        "Let's start with a simple print command."
      ]
    },
    {
      "cell_type": "code",
      "metadata": {
        "id": "NEbLMJ_zpC0W",
        "outputId": "a19a2e3f-0e98-43a1-a72d-bb220f54b39b",
        "colab": {
          "base_uri": "https://localhost:8080/"
        }
      },
      "source": [
        "print('Hello World', 1 + 1)"
      ],
      "execution_count": 1,
      "outputs": [
        {
          "output_type": "stream",
          "name": "stdout",
          "text": [
            "Hello World 2\n"
          ]
        }
      ]
    },
    {
      "cell_type": "markdown",
      "metadata": {
        "id": "WPtIQx1DpC0Y"
      },
      "source": [
        "### Simple math operation using a Jupyter notebook. "
      ]
    },
    {
      "cell_type": "code",
      "metadata": {
        "id": "jy1fDE_fpC0a",
        "outputId": "880add3a-ede1-49bf-8841-84a82d7a900a",
        "colab": {
          "base_uri": "https://localhost:8080/"
        }
      },
      "source": [
        "#Addition\n",
        "2 + 3"
      ],
      "execution_count": 2,
      "outputs": [
        {
          "output_type": "execute_result",
          "data": {
            "text/plain": [
              "5"
            ]
          },
          "metadata": {},
          "execution_count": 2
        }
      ]
    },
    {
      "cell_type": "code",
      "metadata": {
        "id": "nwJAAi_ipC0a",
        "outputId": "0cfc1000-18e6-4769-9d9b-dc5a940fe567",
        "colab": {
          "base_uri": "https://localhost:8080/"
        }
      },
      "source": [
        "#Subtraction\n",
        "5 - 4"
      ],
      "execution_count": 3,
      "outputs": [
        {
          "output_type": "execute_result",
          "data": {
            "text/plain": [
              "1"
            ]
          },
          "metadata": {},
          "execution_count": 3
        }
      ]
    },
    {
      "cell_type": "code",
      "metadata": {
        "id": "lp1k9m8opC0b",
        "outputId": "95e0875c-596c-4298-ab95-f3fed1ada2e7",
        "colab": {
          "base_uri": "https://localhost:8080/"
        }
      },
      "source": [
        "# Multiplication\n",
        "2 * 2"
      ],
      "execution_count": 4,
      "outputs": [
        {
          "output_type": "execute_result",
          "data": {
            "text/plain": [
              "4"
            ]
          },
          "metadata": {},
          "execution_count": 4
        }
      ]
    },
    {
      "cell_type": "code",
      "metadata": {
        "id": "FyV57q35pC0b",
        "outputId": "6a81ad0d-3370-4e65-aa49-b7ac69f59eaa",
        "colab": {
          "base_uri": "https://localhost:8080/"
        }
      },
      "source": [
        "# Division\n",
        "10 / 5"
      ],
      "execution_count": 5,
      "outputs": [
        {
          "output_type": "execute_result",
          "data": {
            "text/plain": [
              "2.0"
            ]
          },
          "metadata": {},
          "execution_count": 5
        }
      ]
    },
    {
      "cell_type": "code",
      "metadata": {
        "id": "JwFAi4rSpC0c",
        "outputId": "06635a67-75f9-4c01-ec55-7a2981e2da64",
        "colab": {
          "base_uri": "https://localhost:8080/"
        }
      },
      "source": [
        "## Integer division\n",
        "10 // 5"
      ],
      "execution_count": 6,
      "outputs": [
        {
          "output_type": "execute_result",
          "data": {
            "text/plain": [
              "2"
            ]
          },
          "metadata": {},
          "execution_count": 6
        }
      ]
    },
    {
      "cell_type": "code",
      "metadata": {
        "id": "4yeKokFdpC0c",
        "outputId": "4c86f67b-7534-4ab5-87a4-d91db13082b0",
        "colab": {
          "base_uri": "https://localhost:8080/"
        }
      },
      "source": [
        "## Compare the outputs from each operator / and // \n",
        "11/5"
      ],
      "execution_count": 7,
      "outputs": [
        {
          "output_type": "execute_result",
          "data": {
            "text/plain": [
              "2.2"
            ]
          },
          "metadata": {},
          "execution_count": 7
        }
      ]
    },
    {
      "cell_type": "code",
      "metadata": {
        "id": "bx81fGDJpC0e",
        "outputId": "46572032-35ed-40fa-a5c8-f184ed1dd096",
        "colab": {
          "base_uri": "https://localhost:8080/"
        }
      },
      "source": [
        "11//5"
      ],
      "execution_count": 8,
      "outputs": [
        {
          "output_type": "execute_result",
          "data": {
            "text/plain": [
              "2"
            ]
          },
          "metadata": {},
          "execution_count": 8
        }
      ]
    },
    {
      "cell_type": "code",
      "metadata": {
        "id": "WDM_E1UqpC0f",
        "outputId": "9bab1be7-cc12-4fe1-a95b-cbb907de5934",
        "colab": {
          "base_uri": "https://localhost:8080/"
        }
      },
      "source": [
        "# Potentiation\n",
        "4 ** 2"
      ],
      "execution_count": 9,
      "outputs": [
        {
          "output_type": "execute_result",
          "data": {
            "text/plain": [
              "16"
            ]
          },
          "metadata": {},
          "execution_count": 9
        }
      ]
    },
    {
      "cell_type": "code",
      "metadata": {
        "id": "prp5Gx7PpC0h",
        "outputId": "d0a61af0-2e5c-42c8-db71-d58b7147f4d2",
        "colab": {
          "base_uri": "https://localhost:8080/"
        }
      },
      "source": [
        "# Use paranthesis to define order of operations\n",
        "(2 + 3) * 2"
      ],
      "execution_count": 10,
      "outputs": [
        {
          "output_type": "execute_result",
          "data": {
            "text/plain": [
              "10"
            ]
          },
          "metadata": {},
          "execution_count": 10
        }
      ]
    },
    {
      "cell_type": "markdown",
      "metadata": {
        "id": "12Bs2AD8pC0k"
      },
      "source": [
        "## Creating variables, vectors and lists"
      ]
    },
    {
      "cell_type": "code",
      "metadata": {
        "id": "JkQAHPGKpC0k"
      },
      "source": [
        "x = 5"
      ],
      "execution_count": 11,
      "outputs": []
    },
    {
      "cell_type": "code",
      "metadata": {
        "id": "pK3Kj4O8pC0l",
        "outputId": "4dd09f6e-f8b8-46e5-d796-d3ad6f58a347",
        "colab": {
          "base_uri": "https://localhost:8080/"
        }
      },
      "source": [
        "x"
      ],
      "execution_count": 12,
      "outputs": [
        {
          "output_type": "execute_result",
          "data": {
            "text/plain": [
              "5"
            ]
          },
          "metadata": {},
          "execution_count": 12
        }
      ]
    },
    {
      "cell_type": "code",
      "metadata": {
        "id": "DwOpYgzepC0m"
      },
      "source": [
        "x = 10"
      ],
      "execution_count": 13,
      "outputs": []
    },
    {
      "cell_type": "code",
      "metadata": {
        "id": "tmWGh2A4pC0n",
        "outputId": "a876a861-733d-4c51-e9dc-eeca7501b4d5",
        "colab": {
          "base_uri": "https://localhost:8080/"
        }
      },
      "source": [
        "x"
      ],
      "execution_count": 14,
      "outputs": [
        {
          "output_type": "execute_result",
          "data": {
            "text/plain": [
              "10"
            ]
          },
          "metadata": {},
          "execution_count": 14
        }
      ]
    },
    {
      "cell_type": "code",
      "metadata": {
        "id": "1vrG98iMpC0o",
        "outputId": "c1af1336-65b6-47d4-f6f3-b34b6d64177b",
        "colab": {
          "base_uri": "https://localhost:8080/"
        }
      },
      "source": [
        "x + 3"
      ],
      "execution_count": 15,
      "outputs": [
        {
          "output_type": "execute_result",
          "data": {
            "text/plain": [
              "13"
            ]
          },
          "metadata": {},
          "execution_count": 15
        }
      ]
    },
    {
      "cell_type": "code",
      "metadata": {
        "id": "ouPjhDBRpC0p"
      },
      "source": [
        "y = 3"
      ],
      "execution_count": 16,
      "outputs": []
    },
    {
      "cell_type": "markdown",
      "metadata": {
        "id": "QnMkVpT2pC0p"
      },
      "source": [
        "You can do any math operation using the variables created."
      ]
    },
    {
      "cell_type": "code",
      "metadata": {
        "id": "O6-SNnfTpC0q",
        "outputId": "16b43e26-111b-4e5c-eeb4-b11ffbd18d92",
        "colab": {
          "base_uri": "https://localhost:8080/"
        }
      },
      "source": [
        "x + y"
      ],
      "execution_count": 17,
      "outputs": [
        {
          "output_type": "execute_result",
          "data": {
            "text/plain": [
              "13"
            ]
          },
          "metadata": {},
          "execution_count": 17
        }
      ]
    },
    {
      "cell_type": "markdown",
      "metadata": {
        "id": "8ZsqivSqpC0r"
      },
      "source": [
        "You can create variable that takes strings or characters instead fo numbers."
      ]
    },
    {
      "cell_type": "code",
      "metadata": {
        "id": "KNYvyFTHpC0s"
      },
      "source": [
        "name = 'Luana'"
      ],
      "execution_count": 18,
      "outputs": []
    },
    {
      "cell_type": "code",
      "metadata": {
        "id": "e9RpYKJkpC0s",
        "outputId": "7ec8d55d-e536-4027-e017-c16bf87edf64",
        "colab": {
          "base_uri": "https://localhost:8080/",
          "height": 37
        }
      },
      "source": [
        "name"
      ],
      "execution_count": 19,
      "outputs": [
        {
          "output_type": "execute_result",
          "data": {
            "text/plain": [
              "'Luana'"
            ],
            "application/vnd.google.colaboratory.intrinsic+json": {
              "type": "string"
            }
          },
          "metadata": {},
          "execution_count": 19
        }
      ]
    },
    {
      "cell_type": "markdown",
      "metadata": {
        "id": "tKn8shDLpC0t"
      },
      "source": [
        "String variables are stored by character. You can access each character using the [ ] and the number of interest inside the square brackets.\n",
        "Pyhton start counting at 0. If you want the first character on your variable you should point to [0]. If you want the last but do not now the size of your string use [-1]."
      ]
    },
    {
      "cell_type": "code",
      "metadata": {
        "id": "lj4yNZBcpC0v",
        "outputId": "a3d28b5d-021b-4a21-a6c8-909a35c17aba",
        "colab": {
          "base_uri": "https://localhost:8080/",
          "height": 37
        }
      },
      "source": [
        "name[0]"
      ],
      "execution_count": 20,
      "outputs": [
        {
          "output_type": "execute_result",
          "data": {
            "text/plain": [
              "'L'"
            ],
            "application/vnd.google.colaboratory.intrinsic+json": {
              "type": "string"
            }
          },
          "metadata": {},
          "execution_count": 20
        }
      ]
    },
    {
      "cell_type": "code",
      "metadata": {
        "id": "BjgQfzORpC0w",
        "outputId": "6c43d8ce-3262-4662-c23e-f5be68e39c27",
        "colab": {
          "base_uri": "https://localhost:8080/",
          "height": 37
        }
      },
      "source": [
        "name[-1]"
      ],
      "execution_count": 21,
      "outputs": [
        {
          "output_type": "execute_result",
          "data": {
            "text/plain": [
              "'a'"
            ],
            "application/vnd.google.colaboratory.intrinsic+json": {
              "type": "string"
            }
          },
          "metadata": {},
          "execution_count": 21
        }
      ]
    },
    {
      "cell_type": "markdown",
      "metadata": {
        "id": "PjboBFwOpC0w"
      },
      "source": [
        "You can create vectors and matrices using the square brackets and access each element. You can add new elements to a vector by using .apend()."
      ]
    },
    {
      "cell_type": "code",
      "metadata": {
        "id": "Yv-e38v5pC0w"
      },
      "source": [
        "z = [1, 2, 3, 4, 5, 6]"
      ],
      "execution_count": 22,
      "outputs": []
    },
    {
      "cell_type": "code",
      "metadata": {
        "id": "l0_6bK3DpC0x",
        "outputId": "c39c8377-b5c8-47c5-d9b0-9c1bab1b620b",
        "colab": {
          "base_uri": "https://localhost:8080/"
        }
      },
      "source": [
        "z"
      ],
      "execution_count": 23,
      "outputs": [
        {
          "output_type": "execute_result",
          "data": {
            "text/plain": [
              "[1, 2, 3, 4, 5, 6]"
            ]
          },
          "metadata": {},
          "execution_count": 23
        }
      ]
    },
    {
      "cell_type": "code",
      "metadata": {
        "id": "-7YxOnTapC0x",
        "outputId": "30146e19-d4ad-4131-bb5d-dcc9320affb1",
        "colab": {
          "base_uri": "https://localhost:8080/"
        }
      },
      "source": [
        "z[1]"
      ],
      "execution_count": 24,
      "outputs": [
        {
          "output_type": "execute_result",
          "data": {
            "text/plain": [
              "2"
            ]
          },
          "metadata": {},
          "execution_count": 24
        }
      ]
    },
    {
      "cell_type": "code",
      "metadata": {
        "id": "0EblkrwEpC00",
        "outputId": "cafa248c-a962-46e8-db26-0e92aae6af7f",
        "colab": {
          "base_uri": "https://localhost:8080/"
        }
      },
      "source": [
        "z[1:3]"
      ],
      "execution_count": 25,
      "outputs": [
        {
          "output_type": "execute_result",
          "data": {
            "text/plain": [
              "[2, 3]"
            ]
          },
          "metadata": {},
          "execution_count": 25
        }
      ]
    },
    {
      "cell_type": "code",
      "metadata": {
        "scrolled": true,
        "id": "94ttSmDBpC02",
        "outputId": "6de05e07-bdeb-4d34-d001-7240f375a543",
        "colab": {
          "base_uri": "https://localhost:8080/"
        }
      },
      "source": [
        "z[-1]"
      ],
      "execution_count": 26,
      "outputs": [
        {
          "output_type": "execute_result",
          "data": {
            "text/plain": [
              "6"
            ]
          },
          "metadata": {},
          "execution_count": 26
        }
      ]
    },
    {
      "cell_type": "code",
      "metadata": {
        "id": "aKb5oBo4pC03"
      },
      "source": [
        "z.append(7)"
      ],
      "execution_count": 27,
      "outputs": []
    },
    {
      "cell_type": "code",
      "metadata": {
        "id": "7NCOpFBDpC04",
        "outputId": "a06dae3d-41fb-4af7-ebc7-cfc323c3853b",
        "colab": {
          "base_uri": "https://localhost:8080/"
        }
      },
      "source": [
        "z"
      ],
      "execution_count": 28,
      "outputs": [
        {
          "output_type": "execute_result",
          "data": {
            "text/plain": [
              "[1, 2, 3, 4, 5, 6, 7]"
            ]
          },
          "metadata": {},
          "execution_count": 28
        }
      ]
    },
    {
      "cell_type": "markdown",
      "metadata": {
        "id": "RcLH-eVQpC05"
      },
      "source": [
        "You can create lists. A list is a set of elements, any mix of variables, vectors, matrices can be stored in a list. The elements do not need to be of the same type."
      ]
    },
    {
      "cell_type": "code",
      "metadata": {
        "id": "6VnKowgEpC05"
      },
      "source": [
        "newlist = [1, 2, 'Luana']"
      ],
      "execution_count": 29,
      "outputs": []
    },
    {
      "cell_type": "code",
      "metadata": {
        "id": "QTUxU9eMpC05",
        "outputId": "e18e16f6-b045-4d51-a05c-f221670415d0",
        "colab": {
          "base_uri": "https://localhost:8080/"
        }
      },
      "source": [
        "newlist"
      ],
      "execution_count": 30,
      "outputs": [
        {
          "output_type": "execute_result",
          "data": {
            "text/plain": [
              "[1, 2, 'Luana']"
            ]
          },
          "metadata": {},
          "execution_count": 30
        }
      ]
    },
    {
      "cell_type": "code",
      "metadata": {
        "id": "5v_GYVyfpIQh",
        "colab": {
          "base_uri": "https://localhost:8080/"
        },
        "outputId": "6d5c9750-98c0-4127-9f2e-8b098f03a8de"
      },
      "source": [
        "print(\"I am learning Python!\")"
      ],
      "execution_count": 31,
      "outputs": [
        {
          "output_type": "stream",
          "name": "stdout",
          "text": [
            "test\n"
          ]
        }
      ]
    }
  ]
}