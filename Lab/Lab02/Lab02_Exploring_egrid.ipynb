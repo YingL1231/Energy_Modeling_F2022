{
  "nbformat": 4,
  "nbformat_minor": 0,
  "metadata": {
    "colab": {
      "provenance": [],
      "collapsed_sections": [],
      "toc_visible": true,
      "mount_file_id": "1gsc8_LApdxqYO12kujuQZDDXs0_L8W-Z",
      "authorship_tag": "ABX9TyPB/EDalBKq80bB1gyRG6Gf",
      "include_colab_link": true
    },
    "kernelspec": {
      "name": "python3",
      "display_name": "Python 3"
    },
    "language_info": {
      "name": "python"
    }
  },
  "cells": [
    {
      "cell_type": "markdown",
      "metadata": {
        "id": "view-in-github",
        "colab_type": "text"
      },
      "source": [
        "<a href=\"https://colab.research.google.com/github/ENV716/Energy_Modeling_F2022/blob/main/Lab/Lab02/Lab02_Exploring_egrid.ipynb\" target=\"_parent\"><img src=\"https://colab.research.google.com/assets/colab-badge.svg\" alt=\"Open In Colab\"/></a>"
      ]
    },
    {
      "cell_type": "markdown",
      "metadata": {
        "id": "QZxRVy3rtQ8f"
      },
      "source": [
        "# **Lab 2 – Reading Data Sets in Python**"
      ]
    },
    {
      "cell_type": "markdown",
      "metadata": {
        "id": "BfQcVp5yy_3g"
      },
      "source": [
        "Learning goals for Lab 2:\n",
        "1. How to read excel spreadsheets in Python;\n",
        "2. How to slice you large data set into a smaller data set;\n",
        "3. How to filter rows and columns;\n",
        "4. How to get summary values.\n"
      ]
    },
    {
      "cell_type": "markdown",
      "metadata": {
        "id": "mZ7s1i1NxLxq"
      },
      "source": [
        "If you have not mounted google drive yet please do so by running the code chunk below. "
      ]
    },
    {
      "cell_type": "code",
      "metadata": {
        "colab": {
          "base_uri": "https://localhost:8080/"
        },
        "id": "lty5nsIqquj2",
        "outputId": "720fa8a4-0a5f-4192-a303-6b554ecace01"
      },
      "source": [
        "from google.colab import drive \n",
        "drive.mount('/content/drive')"
      ],
      "execution_count": null,
      "outputs": [
        {
          "output_type": "stream",
          "name": "stdout",
          "text": [
            "Mounted at /content/drive\n"
          ]
        }
      ]
    },
    {
      "cell_type": "markdown",
      "metadata": {
        "id": "RK6Bw6fGqKUi"
      },
      "source": [
        "## Set up work directory"
      ]
    },
    {
      "cell_type": "markdown",
      "metadata": {
        "id": "-clLM0tvtXbB"
      },
      "source": [
        "When reading/importing a file in Python notebook you need to inform the path where the file is located. If you simply specify the name of the file, Python will assume it is in your working directory. If the file is not there, the code will output a “file not found” error message. \n",
        "\n",
        "The fisrt step is to find out your where is your working directory. If you don’t know, import the os library and use the command os.getcwd() to find out.\n"
      ]
    },
    {
      "cell_type": "code",
      "metadata": {
        "colab": {
          "base_uri": "https://localhost:8080/",
          "height": 37
        },
        "id": "E-YGRY50lPTR",
        "outputId": "8087b140-bc4b-4fe0-d4a5-9f8ba36684f5"
      },
      "source": [
        "import os\n",
        "os.getcwd()"
      ],
      "execution_count": null,
      "outputs": [
        {
          "output_type": "execute_result",
          "data": {
            "text/plain": [
              "'/content'"
            ],
            "application/vnd.google.colaboratory.intrinsic+json": {
              "type": "string"
            }
          },
          "metadata": {},
          "execution_count": 4
        }
      ]
    },
    {
      "cell_type": "markdown",
      "metadata": {
        "id": "f-zwaah4vGtG"
      },
      "source": [
        "In the function os.getcwd(), getcwd stands for get current working directory. Note that my working directory is “/content/”. If I want to use read_excel() and just specify the name of my excel file. I need to have a copy of the file in the folder “/content/”.\n",
        "\n",
        "Ideally you should create a Folder inside your google drive to store the Python scripts we are creating during the labs. That way you will not have all files in the same place. For example, I have a folder insive my drive called \"Colab Notebooks\".\n",
        "\n"
      ]
    },
    {
      "cell_type": "markdown",
      "metadata": {
        "id": "P6KdXi6lwQKg"
      },
      "source": [
        "Note that e-grid file and all .ipynb notebooks we created so far are in the \"Colab Notebooks\" folder.\n",
        "And the path to the folder is:\n",
        "\n",
        "/content/drive/MyDrive/Colab Notebooks/\n"
      ]
    },
    {
      "cell_type": "markdown",
      "metadata": {
        "id": "yyFcdsjkwvoo"
      },
      "source": [
        "If you want to change your working directory to your \"Colab Notebooks\"  folder you can use function os.chdir() - chdir stands for change directory. And inside the brackets you type the path to the folder. In my computer it would be as below."
      ]
    },
    {
      "cell_type": "code",
      "metadata": {
        "id": "tBL-pGxno5HW"
      },
      "source": [
        "os.chdir('/content/drive/MyDrive/Colab Notebooks/')"
      ],
      "execution_count": null,
      "outputs": []
    },
    {
      "cell_type": "markdown",
      "metadata": {
        "id": "xL31HZRrw4n6"
      },
      "source": [
        "You can check with working directory changed by using again the os.getcwd()."
      ]
    },
    {
      "cell_type": "code",
      "metadata": {
        "colab": {
          "base_uri": "https://localhost:8080/",
          "height": 37
        },
        "id": "d2FA94cKqP1R",
        "outputId": "5961ae8a-5514-450f-f3ac-c93efb7a01e0"
      },
      "source": [
        "os.getcwd()"
      ],
      "execution_count": null,
      "outputs": [
        {
          "output_type": "execute_result",
          "data": {
            "text/plain": [
              "'/content/drive/MyDrive/Colab Notebooks'"
            ],
            "application/vnd.google.colaboratory.intrinsic+json": {
              "type": "string"
            }
          },
          "metadata": {},
          "execution_count": 7
        }
      ]
    },
    {
      "cell_type": "markdown",
      "metadata": {
        "id": "TIQ3jm1KxA1v"
      },
      "source": [
        "Note that now when you use the os.getcwd() command, the new working directory is not “/content/” anymore, instead it’s pointing to my the \"ColabNotebooks\" folder. Once you do that, you are all set and ready to import the e-grid file.\n"
      ]
    },
    {
      "cell_type": "markdown",
      "metadata": {
        "id": "vJN2oyroqeQU"
      },
      "source": [
        "## Importing Excel file"
      ]
    },
    {
      "cell_type": "markdown",
      "metadata": {
        "id": "LOCQ-tZDqVpf"
      },
      "source": [
        "We will use the function read_excel() from **pandas library** to import the file. Remember we do not need to install any libraries with Colab, but we do need to import them using the code chunck below. A good practice in Python coding is to rename the library with a short name that will be used anytime you need to refer to a function from that library. \n",
        "\n",
        "For example if you ant to use the reac_excel from pandas you code will be \n",
        "**pandas.read_excel()**\n",
        "If you rename pandas as pd then you can simply use\n",
        "**pd.read_excel()**"
      ]
    },
    {
      "cell_type": "code",
      "metadata": {
        "id": "6t0L1N0ikasJ"
      },
      "source": [
        "import pandas as pd\n",
        "import numpy as np"
      ],
      "execution_count": null,
      "outputs": []
    },
    {
      "cell_type": "markdown",
      "metadata": {
        "id": "G-GWiu9Qyj63"
      },
      "source": [
        "The function **read_excel()** takes two main arguments:\n",
        "*   io: file path and name;\n",
        "*   sheet_name: if your workbook has more than one spreadsheet, you need to identify which spreadsheet you want to read.\n",
        "\n",
        "Both arguments take string type values that’s why we are using the quotes. When you use quotes, Colab will automatically change the text to red to indicate it's a string. The other arguments for the read_excel() are optional ones. \n",
        "\n",
        "When you import a spreadsheet, you need to store it in your Pyhton environment as a variables. A common data structure used for spreadsheet is the data frame because is allows columns of different type (numerical or string) to be sotored in the same variable. The pd.read_excel() function will import you spreadshete as a data frame and store in a variable of your choice. Here I will call it **df_gen**. The df is my way of remembering it's a data frame and the gen tell me it's generators information. \n",
        "\n",
        "A good practice when coding is to always assign informative names to your variables.\n",
        "\n",
        "The **.head()** function is used to inspect the data frame. Any number inside the parenthesis will be the number of row to be printed.\n",
        "\n"
      ]
    },
    {
      "cell_type": "code",
      "metadata": {
        "id": "rCMdE9sak4xf"
      },
      "source": [
        "df_gen = pd.read_excel(io=\"egrid2020_data.xlsx\",sheet_name=\"GEN20\")\n",
        "df_gen.head(5)"
      ],
      "execution_count": null,
      "outputs": []
    },
    {
      "cell_type": "markdown",
      "metadata": {
        "id": "iXMl-KfQTRDx"
      },
      "source": [
        "Note that because egrid had 2 rows explaining the data, the second row is mistakenly added to the table, to fix this you can add an argument inside de read_excel() functions called **skiprows**. As the name suggests skiprows is used when you need to skiprows in your spreadsheet before importing the data set.\n"
      ]
    },
    {
      "cell_type": "code",
      "metadata": {
        "id": "rqbTexOdk6y6"
      },
      "source": [
        "df_gen = pd.read_excel(io=\"egrid2020_data.xlsx\",sheet_name=\"GEN20\",skiprows=1)\n",
        "df_gen.head(5)"
      ],
      "execution_count": null,
      "outputs": []
    },
    {
      "cell_type": "markdown",
      "metadata": {
        "id": "UrQKe0-vU9NU"
      },
      "source": [
        "Note that now our header is exactly the second row of our worksheet. And the first row was not imported.  \n",
        "\n",
        "We still have a problem here. The NaN. NaN stands for Not a Number. E-grid has a lot of empty cell and Python reads them as NaN.\n",
        "Depending on the type of data you have, you may want to replace with something else. \n",
        "\n",
        "You can specify with the read_excel() function what you want to do with missing values using the argument **keep_default_na = False** as in the code chunk below. \n"
      ]
    },
    {
      "cell_type": "code",
      "metadata": {
        "id": "iZIGxiAek9rr"
      },
      "source": [
        "df_gen = pd.read_excel(io=\"egrid2020_data.xlsx\",sheet_name=\"GEN20\",skiprows=1,keep_default_na=False)\n",
        "df_gen.head()"
      ],
      "execution_count": null,
      "outputs": []
    },
    {
      "cell_type": "code",
      "metadata": {
        "id": "pOC4QMXNl8Ra"
      },
      "source": [
        "df_gen.head(15)"
      ],
      "execution_count": null,
      "outputs": []
    },
    {
      "cell_type": "markdown",
      "source": [
        "## Exercise - H5 part 4\n",
        "\n",
        "Use the Pandas library in Python to open the UNT20 spreadsheet from eGRID20. Print the first five rows of the spreadsheet to the screen\n"
      ],
      "metadata": {
        "id": "WZqzRpqtvpcP"
      }
    },
    {
      "cell_type": "code",
      "source": [
        "## your code"
      ],
      "metadata": {
        "id": "dllxUtM4-J3g"
      },
      "execution_count": null,
      "outputs": []
    },
    {
      "cell_type": "markdown",
      "metadata": {
        "id": "L6nYrstdqkxH"
      },
      "source": [
        "## Manipulating the data frame (data set)"
      ]
    },
    {
      "cell_type": "markdown",
      "metadata": {
        "id": "yS3kSveEXcxZ"
      },
      "source": [
        "Now your the data frame is ready to be used and manipualted. Imagine you want to select only a subset of the columns. You can start by  inspecting columns names by using the code below."
      ]
    },
    {
      "cell_type": "code",
      "metadata": {
        "colab": {
          "base_uri": "https://localhost:8080/"
        },
        "id": "Gb-5fTGilAIQ",
        "outputId": "ce0af0db-a6c1-4bc8-f680-a14fe44caa1c"
      },
      "source": [
        "df_gen.columns"
      ],
      "execution_count": null,
      "outputs": [
        {
          "output_type": "execute_result",
          "data": {
            "text/plain": [
              "Index(['SEQGEN20', 'YEAR', 'PSTATABB', 'PNAME', 'ORISPL', 'GENID', 'NUMBLR',\n",
              "       'GENSTAT', 'PRMVR', 'FUELG1', 'NAMEPCAP', 'CFACT', 'GENNTAN', 'GENNTOZ',\n",
              "       'GENERSRC', 'GENYRONL', 'GENYRRET'],\n",
              "      dtype='object')"
            ]
          },
          "metadata": {},
          "execution_count": 22
        }
      ]
    },
    {
      "cell_type": "markdown",
      "metadata": {
        "id": "KEikq4FFX70t"
      },
      "source": [
        "Now you can use use function .loc() to select columns of interest. Choose a name for you new subset data frame. Here we are calling it **sub_df_gen**. And say that you want to select state, name, code, fuel, nameplate capacity and capacity factor of the generator. "
      ]
    },
    {
      "cell_type": "code",
      "metadata": {
        "colab": {
          "base_uri": "https://localhost:8080/",
          "height": 204
        },
        "id": "Zil9qYcvYF7F",
        "outputId": "76a1684f-4c0a-4769-fbc2-c9954fdf20e8"
      },
      "source": [
        "sub_df_gen = df_gen.loc[:,['PSTATABB','PNAME','ORISPL','FUELG1','NAMEPCAP','CFACT']]\n",
        "sub_df_gen.head(5)\n"
      ],
      "execution_count": null,
      "outputs": [
        {
          "output_type": "execute_result",
          "data": {
            "text/plain": [
              "  PSTATABB                             PNAME  ORISPL FUELG1 NAMEPCAP CFACT\n",
              "0       AK         7-Mile Ridge Wind Project   60814    WND      1.8      \n",
              "1       AK  Agrium Kenai Nitrogen Operations   54452     NG      2.5      \n",
              "2       AK  Agrium Kenai Nitrogen Operations   54452     NG      2.5      \n",
              "3       AK  Agrium Kenai Nitrogen Operations   54452     NG      2.5      \n",
              "4       AK  Agrium Kenai Nitrogen Operations   54452     NG      2.5      "
            ],
            "text/html": [
              "\n",
              "  <div id=\"df-3e4b4fc4-eb83-451a-82da-d1366466d371\">\n",
              "    <div class=\"colab-df-container\">\n",
              "      <div>\n",
              "<style scoped>\n",
              "    .dataframe tbody tr th:only-of-type {\n",
              "        vertical-align: middle;\n",
              "    }\n",
              "\n",
              "    .dataframe tbody tr th {\n",
              "        vertical-align: top;\n",
              "    }\n",
              "\n",
              "    .dataframe thead th {\n",
              "        text-align: right;\n",
              "    }\n",
              "</style>\n",
              "<table border=\"1\" class=\"dataframe\">\n",
              "  <thead>\n",
              "    <tr style=\"text-align: right;\">\n",
              "      <th></th>\n",
              "      <th>PSTATABB</th>\n",
              "      <th>PNAME</th>\n",
              "      <th>ORISPL</th>\n",
              "      <th>FUELG1</th>\n",
              "      <th>NAMEPCAP</th>\n",
              "      <th>CFACT</th>\n",
              "    </tr>\n",
              "  </thead>\n",
              "  <tbody>\n",
              "    <tr>\n",
              "      <th>0</th>\n",
              "      <td>AK</td>\n",
              "      <td>7-Mile Ridge Wind Project</td>\n",
              "      <td>60814</td>\n",
              "      <td>WND</td>\n",
              "      <td>1.8</td>\n",
              "      <td></td>\n",
              "    </tr>\n",
              "    <tr>\n",
              "      <th>1</th>\n",
              "      <td>AK</td>\n",
              "      <td>Agrium Kenai Nitrogen Operations</td>\n",
              "      <td>54452</td>\n",
              "      <td>NG</td>\n",
              "      <td>2.5</td>\n",
              "      <td></td>\n",
              "    </tr>\n",
              "    <tr>\n",
              "      <th>2</th>\n",
              "      <td>AK</td>\n",
              "      <td>Agrium Kenai Nitrogen Operations</td>\n",
              "      <td>54452</td>\n",
              "      <td>NG</td>\n",
              "      <td>2.5</td>\n",
              "      <td></td>\n",
              "    </tr>\n",
              "    <tr>\n",
              "      <th>3</th>\n",
              "      <td>AK</td>\n",
              "      <td>Agrium Kenai Nitrogen Operations</td>\n",
              "      <td>54452</td>\n",
              "      <td>NG</td>\n",
              "      <td>2.5</td>\n",
              "      <td></td>\n",
              "    </tr>\n",
              "    <tr>\n",
              "      <th>4</th>\n",
              "      <td>AK</td>\n",
              "      <td>Agrium Kenai Nitrogen Operations</td>\n",
              "      <td>54452</td>\n",
              "      <td>NG</td>\n",
              "      <td>2.5</td>\n",
              "      <td></td>\n",
              "    </tr>\n",
              "  </tbody>\n",
              "</table>\n",
              "</div>\n",
              "      <button class=\"colab-df-convert\" onclick=\"convertToInteractive('df-3e4b4fc4-eb83-451a-82da-d1366466d371')\"\n",
              "              title=\"Convert this dataframe to an interactive table.\"\n",
              "              style=\"display:none;\">\n",
              "        \n",
              "  <svg xmlns=\"http://www.w3.org/2000/svg\" height=\"24px\"viewBox=\"0 0 24 24\"\n",
              "       width=\"24px\">\n",
              "    <path d=\"M0 0h24v24H0V0z\" fill=\"none\"/>\n",
              "    <path d=\"M18.56 5.44l.94 2.06.94-2.06 2.06-.94-2.06-.94-.94-2.06-.94 2.06-2.06.94zm-11 1L8.5 8.5l.94-2.06 2.06-.94-2.06-.94L8.5 2.5l-.94 2.06-2.06.94zm10 10l.94 2.06.94-2.06 2.06-.94-2.06-.94-.94-2.06-.94 2.06-2.06.94z\"/><path d=\"M17.41 7.96l-1.37-1.37c-.4-.4-.92-.59-1.43-.59-.52 0-1.04.2-1.43.59L10.3 9.45l-7.72 7.72c-.78.78-.78 2.05 0 2.83L4 21.41c.39.39.9.59 1.41.59.51 0 1.02-.2 1.41-.59l7.78-7.78 2.81-2.81c.8-.78.8-2.07 0-2.86zM5.41 20L4 18.59l7.72-7.72 1.47 1.35L5.41 20z\"/>\n",
              "  </svg>\n",
              "      </button>\n",
              "      \n",
              "  <style>\n",
              "    .colab-df-container {\n",
              "      display:flex;\n",
              "      flex-wrap:wrap;\n",
              "      gap: 12px;\n",
              "    }\n",
              "\n",
              "    .colab-df-convert {\n",
              "      background-color: #E8F0FE;\n",
              "      border: none;\n",
              "      border-radius: 50%;\n",
              "      cursor: pointer;\n",
              "      display: none;\n",
              "      fill: #1967D2;\n",
              "      height: 32px;\n",
              "      padding: 0 0 0 0;\n",
              "      width: 32px;\n",
              "    }\n",
              "\n",
              "    .colab-df-convert:hover {\n",
              "      background-color: #E2EBFA;\n",
              "      box-shadow: 0px 1px 2px rgba(60, 64, 67, 0.3), 0px 1px 3px 1px rgba(60, 64, 67, 0.15);\n",
              "      fill: #174EA6;\n",
              "    }\n",
              "\n",
              "    [theme=dark] .colab-df-convert {\n",
              "      background-color: #3B4455;\n",
              "      fill: #D2E3FC;\n",
              "    }\n",
              "\n",
              "    [theme=dark] .colab-df-convert:hover {\n",
              "      background-color: #434B5C;\n",
              "      box-shadow: 0px 1px 3px 1px rgba(0, 0, 0, 0.15);\n",
              "      filter: drop-shadow(0px 1px 2px rgba(0, 0, 0, 0.3));\n",
              "      fill: #FFFFFF;\n",
              "    }\n",
              "  </style>\n",
              "\n",
              "      <script>\n",
              "        const buttonEl =\n",
              "          document.querySelector('#df-3e4b4fc4-eb83-451a-82da-d1366466d371 button.colab-df-convert');\n",
              "        buttonEl.style.display =\n",
              "          google.colab.kernel.accessAllowed ? 'block' : 'none';\n",
              "\n",
              "        async function convertToInteractive(key) {\n",
              "          const element = document.querySelector('#df-3e4b4fc4-eb83-451a-82da-d1366466d371');\n",
              "          const dataTable =\n",
              "            await google.colab.kernel.invokeFunction('convertToInteractive',\n",
              "                                                     [key], {});\n",
              "          if (!dataTable) return;\n",
              "\n",
              "          const docLinkHtml = 'Like what you see? Visit the ' +\n",
              "            '<a target=\"_blank\" href=https://colab.research.google.com/notebooks/data_table.ipynb>data table notebook</a>'\n",
              "            + ' to learn more about interactive tables.';\n",
              "          element.innerHTML = '';\n",
              "          dataTable['output_type'] = 'display_data';\n",
              "          await google.colab.output.renderOutput(dataTable, element);\n",
              "          const docLink = document.createElement('div');\n",
              "          docLink.innerHTML = docLinkHtml;\n",
              "          element.appendChild(docLink);\n",
              "        }\n",
              "      </script>\n",
              "    </div>\n",
              "  </div>\n",
              "  "
            ]
          },
          "metadata": {},
          "execution_count": 23
        }
      ]
    },
    {
      "cell_type": "markdown",
      "metadata": {
        "id": "i42286jWmrHc"
      },
      "source": [
        "If you want to use the column index number instead of the column name you need the function .iloc instead of .loc. From our original data framde df_gen we know the state is on the third columns, but Python starts counting from 0, so you need to point to column 2 to get PSTATABB, 3 to get PNAME and 4 to get ORISPL as shown in the code chunk below.\n",
        "\n",
        "Note the notation here df_gen is a data frame so we refer to columns and row using the brackets [], to point to all elements we use : and a subset of element we use 2:5. Altough we are only looking for columns 2,3,4 we need to specify 2:5. "
      ]
    },
    {
      "cell_type": "code",
      "metadata": {
        "colab": {
          "base_uri": "https://localhost:8080/",
          "height": 204
        },
        "id": "_C8Z9o37mzZn",
        "outputId": "339cddb7-df8c-419d-c426-2c538d2c8cb8"
      },
      "source": [
        "sub_df_gen = df_gen.iloc[:,2:5]\n",
        "sub_df_gen.head(5)"
      ],
      "execution_count": null,
      "outputs": [
        {
          "output_type": "execute_result",
          "data": {
            "text/plain": [
              "  PSTATABB                             PNAME  ORISPL\n",
              "0       AK         7-Mile Ridge Wind Project   60814\n",
              "1       AK  Agrium Kenai Nitrogen Operations   54452\n",
              "2       AK  Agrium Kenai Nitrogen Operations   54452\n",
              "3       AK  Agrium Kenai Nitrogen Operations   54452\n",
              "4       AK  Agrium Kenai Nitrogen Operations   54452"
            ],
            "text/html": [
              "\n",
              "  <div id=\"df-017a3971-90e4-44a1-9637-ddb22823e4ab\">\n",
              "    <div class=\"colab-df-container\">\n",
              "      <div>\n",
              "<style scoped>\n",
              "    .dataframe tbody tr th:only-of-type {\n",
              "        vertical-align: middle;\n",
              "    }\n",
              "\n",
              "    .dataframe tbody tr th {\n",
              "        vertical-align: top;\n",
              "    }\n",
              "\n",
              "    .dataframe thead th {\n",
              "        text-align: right;\n",
              "    }\n",
              "</style>\n",
              "<table border=\"1\" class=\"dataframe\">\n",
              "  <thead>\n",
              "    <tr style=\"text-align: right;\">\n",
              "      <th></th>\n",
              "      <th>PSTATABB</th>\n",
              "      <th>PNAME</th>\n",
              "      <th>ORISPL</th>\n",
              "    </tr>\n",
              "  </thead>\n",
              "  <tbody>\n",
              "    <tr>\n",
              "      <th>0</th>\n",
              "      <td>AK</td>\n",
              "      <td>7-Mile Ridge Wind Project</td>\n",
              "      <td>60814</td>\n",
              "    </tr>\n",
              "    <tr>\n",
              "      <th>1</th>\n",
              "      <td>AK</td>\n",
              "      <td>Agrium Kenai Nitrogen Operations</td>\n",
              "      <td>54452</td>\n",
              "    </tr>\n",
              "    <tr>\n",
              "      <th>2</th>\n",
              "      <td>AK</td>\n",
              "      <td>Agrium Kenai Nitrogen Operations</td>\n",
              "      <td>54452</td>\n",
              "    </tr>\n",
              "    <tr>\n",
              "      <th>3</th>\n",
              "      <td>AK</td>\n",
              "      <td>Agrium Kenai Nitrogen Operations</td>\n",
              "      <td>54452</td>\n",
              "    </tr>\n",
              "    <tr>\n",
              "      <th>4</th>\n",
              "      <td>AK</td>\n",
              "      <td>Agrium Kenai Nitrogen Operations</td>\n",
              "      <td>54452</td>\n",
              "    </tr>\n",
              "  </tbody>\n",
              "</table>\n",
              "</div>\n",
              "      <button class=\"colab-df-convert\" onclick=\"convertToInteractive('df-017a3971-90e4-44a1-9637-ddb22823e4ab')\"\n",
              "              title=\"Convert this dataframe to an interactive table.\"\n",
              "              style=\"display:none;\">\n",
              "        \n",
              "  <svg xmlns=\"http://www.w3.org/2000/svg\" height=\"24px\"viewBox=\"0 0 24 24\"\n",
              "       width=\"24px\">\n",
              "    <path d=\"M0 0h24v24H0V0z\" fill=\"none\"/>\n",
              "    <path d=\"M18.56 5.44l.94 2.06.94-2.06 2.06-.94-2.06-.94-.94-2.06-.94 2.06-2.06.94zm-11 1L8.5 8.5l.94-2.06 2.06-.94-2.06-.94L8.5 2.5l-.94 2.06-2.06.94zm10 10l.94 2.06.94-2.06 2.06-.94-2.06-.94-.94-2.06-.94 2.06-2.06.94z\"/><path d=\"M17.41 7.96l-1.37-1.37c-.4-.4-.92-.59-1.43-.59-.52 0-1.04.2-1.43.59L10.3 9.45l-7.72 7.72c-.78.78-.78 2.05 0 2.83L4 21.41c.39.39.9.59 1.41.59.51 0 1.02-.2 1.41-.59l7.78-7.78 2.81-2.81c.8-.78.8-2.07 0-2.86zM5.41 20L4 18.59l7.72-7.72 1.47 1.35L5.41 20z\"/>\n",
              "  </svg>\n",
              "      </button>\n",
              "      \n",
              "  <style>\n",
              "    .colab-df-container {\n",
              "      display:flex;\n",
              "      flex-wrap:wrap;\n",
              "      gap: 12px;\n",
              "    }\n",
              "\n",
              "    .colab-df-convert {\n",
              "      background-color: #E8F0FE;\n",
              "      border: none;\n",
              "      border-radius: 50%;\n",
              "      cursor: pointer;\n",
              "      display: none;\n",
              "      fill: #1967D2;\n",
              "      height: 32px;\n",
              "      padding: 0 0 0 0;\n",
              "      width: 32px;\n",
              "    }\n",
              "\n",
              "    .colab-df-convert:hover {\n",
              "      background-color: #E2EBFA;\n",
              "      box-shadow: 0px 1px 2px rgba(60, 64, 67, 0.3), 0px 1px 3px 1px rgba(60, 64, 67, 0.15);\n",
              "      fill: #174EA6;\n",
              "    }\n",
              "\n",
              "    [theme=dark] .colab-df-convert {\n",
              "      background-color: #3B4455;\n",
              "      fill: #D2E3FC;\n",
              "    }\n",
              "\n",
              "    [theme=dark] .colab-df-convert:hover {\n",
              "      background-color: #434B5C;\n",
              "      box-shadow: 0px 1px 3px 1px rgba(0, 0, 0, 0.15);\n",
              "      filter: drop-shadow(0px 1px 2px rgba(0, 0, 0, 0.3));\n",
              "      fill: #FFFFFF;\n",
              "    }\n",
              "  </style>\n",
              "\n",
              "      <script>\n",
              "        const buttonEl =\n",
              "          document.querySelector('#df-017a3971-90e4-44a1-9637-ddb22823e4ab button.colab-df-convert');\n",
              "        buttonEl.style.display =\n",
              "          google.colab.kernel.accessAllowed ? 'block' : 'none';\n",
              "\n",
              "        async function convertToInteractive(key) {\n",
              "          const element = document.querySelector('#df-017a3971-90e4-44a1-9637-ddb22823e4ab');\n",
              "          const dataTable =\n",
              "            await google.colab.kernel.invokeFunction('convertToInteractive',\n",
              "                                                     [key], {});\n",
              "          if (!dataTable) return;\n",
              "\n",
              "          const docLinkHtml = 'Like what you see? Visit the ' +\n",
              "            '<a target=\"_blank\" href=https://colab.research.google.com/notebooks/data_table.ipynb>data table notebook</a>'\n",
              "            + ' to learn more about interactive tables.';\n",
              "          element.innerHTML = '';\n",
              "          dataTable['output_type'] = 'display_data';\n",
              "          await google.colab.output.renderOutput(dataTable, element);\n",
              "          const docLink = document.createElement('div');\n",
              "          docLink.innerHTML = docLinkHtml;\n",
              "          element.appendChild(docLink);\n",
              "        }\n",
              "      </script>\n",
              "    </div>\n",
              "  </div>\n",
              "  "
            ]
          },
          "metadata": {},
          "execution_count": 25
        }
      ]
    },
    {
      "cell_type": "markdown",
      "metadata": {
        "id": "liSTNxszpl4O"
      },
      "source": [
        "What about the other columns? If you want to specify more than one range for columns you need the np.r_[] function. Recall no stands for numpy.  "
      ]
    },
    {
      "cell_type": "code",
      "metadata": {
        "colab": {
          "base_uri": "https://localhost:8080/",
          "height": 204
        },
        "id": "nOSrENgVpy0-",
        "outputId": "4bf5b1dc-2d0e-4395-b72d-b3b41b406633"
      },
      "source": [
        "sub_df_gen = df_gen.iloc[:,np.r_[2:5,9:12]]\n",
        "sub_df_gen.head(5) "
      ],
      "execution_count": null,
      "outputs": [
        {
          "output_type": "execute_result",
          "data": {
            "text/plain": [
              "  PSTATABB                             PNAME  ORISPL FUELG1 NAMEPCAP CFACT\n",
              "0       AK         7-Mile Ridge Wind Project   60814    WND      1.8      \n",
              "1       AK  Agrium Kenai Nitrogen Operations   54452     NG      2.5      \n",
              "2       AK  Agrium Kenai Nitrogen Operations   54452     NG      2.5      \n",
              "3       AK  Agrium Kenai Nitrogen Operations   54452     NG      2.5      \n",
              "4       AK  Agrium Kenai Nitrogen Operations   54452     NG      2.5      "
            ],
            "text/html": [
              "\n",
              "  <div id=\"df-07c0e62f-ac37-4400-9112-b385485708a6\">\n",
              "    <div class=\"colab-df-container\">\n",
              "      <div>\n",
              "<style scoped>\n",
              "    .dataframe tbody tr th:only-of-type {\n",
              "        vertical-align: middle;\n",
              "    }\n",
              "\n",
              "    .dataframe tbody tr th {\n",
              "        vertical-align: top;\n",
              "    }\n",
              "\n",
              "    .dataframe thead th {\n",
              "        text-align: right;\n",
              "    }\n",
              "</style>\n",
              "<table border=\"1\" class=\"dataframe\">\n",
              "  <thead>\n",
              "    <tr style=\"text-align: right;\">\n",
              "      <th></th>\n",
              "      <th>PSTATABB</th>\n",
              "      <th>PNAME</th>\n",
              "      <th>ORISPL</th>\n",
              "      <th>FUELG1</th>\n",
              "      <th>NAMEPCAP</th>\n",
              "      <th>CFACT</th>\n",
              "    </tr>\n",
              "  </thead>\n",
              "  <tbody>\n",
              "    <tr>\n",
              "      <th>0</th>\n",
              "      <td>AK</td>\n",
              "      <td>7-Mile Ridge Wind Project</td>\n",
              "      <td>60814</td>\n",
              "      <td>WND</td>\n",
              "      <td>1.8</td>\n",
              "      <td></td>\n",
              "    </tr>\n",
              "    <tr>\n",
              "      <th>1</th>\n",
              "      <td>AK</td>\n",
              "      <td>Agrium Kenai Nitrogen Operations</td>\n",
              "      <td>54452</td>\n",
              "      <td>NG</td>\n",
              "      <td>2.5</td>\n",
              "      <td></td>\n",
              "    </tr>\n",
              "    <tr>\n",
              "      <th>2</th>\n",
              "      <td>AK</td>\n",
              "      <td>Agrium Kenai Nitrogen Operations</td>\n",
              "      <td>54452</td>\n",
              "      <td>NG</td>\n",
              "      <td>2.5</td>\n",
              "      <td></td>\n",
              "    </tr>\n",
              "    <tr>\n",
              "      <th>3</th>\n",
              "      <td>AK</td>\n",
              "      <td>Agrium Kenai Nitrogen Operations</td>\n",
              "      <td>54452</td>\n",
              "      <td>NG</td>\n",
              "      <td>2.5</td>\n",
              "      <td></td>\n",
              "    </tr>\n",
              "    <tr>\n",
              "      <th>4</th>\n",
              "      <td>AK</td>\n",
              "      <td>Agrium Kenai Nitrogen Operations</td>\n",
              "      <td>54452</td>\n",
              "      <td>NG</td>\n",
              "      <td>2.5</td>\n",
              "      <td></td>\n",
              "    </tr>\n",
              "  </tbody>\n",
              "</table>\n",
              "</div>\n",
              "      <button class=\"colab-df-convert\" onclick=\"convertToInteractive('df-07c0e62f-ac37-4400-9112-b385485708a6')\"\n",
              "              title=\"Convert this dataframe to an interactive table.\"\n",
              "              style=\"display:none;\">\n",
              "        \n",
              "  <svg xmlns=\"http://www.w3.org/2000/svg\" height=\"24px\"viewBox=\"0 0 24 24\"\n",
              "       width=\"24px\">\n",
              "    <path d=\"M0 0h24v24H0V0z\" fill=\"none\"/>\n",
              "    <path d=\"M18.56 5.44l.94 2.06.94-2.06 2.06-.94-2.06-.94-.94-2.06-.94 2.06-2.06.94zm-11 1L8.5 8.5l.94-2.06 2.06-.94-2.06-.94L8.5 2.5l-.94 2.06-2.06.94zm10 10l.94 2.06.94-2.06 2.06-.94-2.06-.94-.94-2.06-.94 2.06-2.06.94z\"/><path d=\"M17.41 7.96l-1.37-1.37c-.4-.4-.92-.59-1.43-.59-.52 0-1.04.2-1.43.59L10.3 9.45l-7.72 7.72c-.78.78-.78 2.05 0 2.83L4 21.41c.39.39.9.59 1.41.59.51 0 1.02-.2 1.41-.59l7.78-7.78 2.81-2.81c.8-.78.8-2.07 0-2.86zM5.41 20L4 18.59l7.72-7.72 1.47 1.35L5.41 20z\"/>\n",
              "  </svg>\n",
              "      </button>\n",
              "      \n",
              "  <style>\n",
              "    .colab-df-container {\n",
              "      display:flex;\n",
              "      flex-wrap:wrap;\n",
              "      gap: 12px;\n",
              "    }\n",
              "\n",
              "    .colab-df-convert {\n",
              "      background-color: #E8F0FE;\n",
              "      border: none;\n",
              "      border-radius: 50%;\n",
              "      cursor: pointer;\n",
              "      display: none;\n",
              "      fill: #1967D2;\n",
              "      height: 32px;\n",
              "      padding: 0 0 0 0;\n",
              "      width: 32px;\n",
              "    }\n",
              "\n",
              "    .colab-df-convert:hover {\n",
              "      background-color: #E2EBFA;\n",
              "      box-shadow: 0px 1px 2px rgba(60, 64, 67, 0.3), 0px 1px 3px 1px rgba(60, 64, 67, 0.15);\n",
              "      fill: #174EA6;\n",
              "    }\n",
              "\n",
              "    [theme=dark] .colab-df-convert {\n",
              "      background-color: #3B4455;\n",
              "      fill: #D2E3FC;\n",
              "    }\n",
              "\n",
              "    [theme=dark] .colab-df-convert:hover {\n",
              "      background-color: #434B5C;\n",
              "      box-shadow: 0px 1px 3px 1px rgba(0, 0, 0, 0.15);\n",
              "      filter: drop-shadow(0px 1px 2px rgba(0, 0, 0, 0.3));\n",
              "      fill: #FFFFFF;\n",
              "    }\n",
              "  </style>\n",
              "\n",
              "      <script>\n",
              "        const buttonEl =\n",
              "          document.querySelector('#df-07c0e62f-ac37-4400-9112-b385485708a6 button.colab-df-convert');\n",
              "        buttonEl.style.display =\n",
              "          google.colab.kernel.accessAllowed ? 'block' : 'none';\n",
              "\n",
              "        async function convertToInteractive(key) {\n",
              "          const element = document.querySelector('#df-07c0e62f-ac37-4400-9112-b385485708a6');\n",
              "          const dataTable =\n",
              "            await google.colab.kernel.invokeFunction('convertToInteractive',\n",
              "                                                     [key], {});\n",
              "          if (!dataTable) return;\n",
              "\n",
              "          const docLinkHtml = 'Like what you see? Visit the ' +\n",
              "            '<a target=\"_blank\" href=https://colab.research.google.com/notebooks/data_table.ipynb>data table notebook</a>'\n",
              "            + ' to learn more about interactive tables.';\n",
              "          element.innerHTML = '';\n",
              "          dataTable['output_type'] = 'display_data';\n",
              "          await google.colab.output.renderOutput(dataTable, element);\n",
              "          const docLink = document.createElement('div');\n",
              "          docLink.innerHTML = docLinkHtml;\n",
              "          element.appendChild(docLink);\n",
              "        }\n",
              "      </script>\n",
              "    </div>\n",
              "  </div>\n",
              "  "
            ]
          },
          "metadata": {},
          "execution_count": 26
        }
      ]
    },
    {
      "cell_type": "markdown",
      "metadata": {
        "id": "EIjsl9q8p8W9"
      },
      "source": [
        "Some can be done for a subset of rows. Say you want rows 101 to 109, then you specify the range 101:110."
      ]
    },
    {
      "cell_type": "code",
      "metadata": {
        "colab": {
          "base_uri": "https://localhost:8080/",
          "height": 489
        },
        "id": "RPZLPmkvp-2u",
        "outputId": "1549eb0c-174b-46f2-d5e1-ff94198a4c0b"
      },
      "source": [
        "sub_df_gen = df_gen.iloc[101:110,]\n",
        "sub_df_gen.head()"
      ],
      "execution_count": null,
      "outputs": [
        {
          "output_type": "execute_result",
          "data": {
            "text/plain": [
              "     SEQGEN20  YEAR PSTATABB       PNAME  ORISPL GENID  NUMBLR GENSTAT PRMVR  \\\n",
              "101       102  2020       AK  Craig (AK)     421     1       0      OP    IC   \n",
              "102       103  2020       AK  Craig (AK)     421    3B       0      OP    IC   \n",
              "103       104  2020       AK  Craig (AK)     421     5       0      OP    IC   \n",
              "104       105  2020       AK  Craig (AK)     421     6       0      OP    IC   \n",
              "105       106  2020       AK  Craig (AK)     421    3A       0      RE    IC   \n",
              "\n",
              "    FUELG1 NAMEPCAP  CFACT GENNTAN GENNTOZ  \\\n",
              "101    DFO      0.6  0.007      39  16.826   \n",
              "102    DFO      1.8  0.007     117  50.478   \n",
              "103    DFO      1.1  0.007    71.5  30.848   \n",
              "104    DFO      1.1  0.007    71.5  30.848   \n",
              "105    DFO      1.6                          \n",
              "\n",
              "                                     GENERSRC GENYRONL GENYRRET  \n",
              "101  Distributed from 923 Generation And Fuel     1984           \n",
              "102  Distributed from 923 Generation And Fuel     2015           \n",
              "103  Distributed from 923 Generation And Fuel     1983           \n",
              "104  Distributed from 923 Generation And Fuel     1989           \n",
              "105                                                        2015  "
            ],
            "text/html": [
              "\n",
              "  <div id=\"df-94b91c00-656b-4086-83a2-994460fa85b7\">\n",
              "    <div class=\"colab-df-container\">\n",
              "      <div>\n",
              "<style scoped>\n",
              "    .dataframe tbody tr th:only-of-type {\n",
              "        vertical-align: middle;\n",
              "    }\n",
              "\n",
              "    .dataframe tbody tr th {\n",
              "        vertical-align: top;\n",
              "    }\n",
              "\n",
              "    .dataframe thead th {\n",
              "        text-align: right;\n",
              "    }\n",
              "</style>\n",
              "<table border=\"1\" class=\"dataframe\">\n",
              "  <thead>\n",
              "    <tr style=\"text-align: right;\">\n",
              "      <th></th>\n",
              "      <th>SEQGEN20</th>\n",
              "      <th>YEAR</th>\n",
              "      <th>PSTATABB</th>\n",
              "      <th>PNAME</th>\n",
              "      <th>ORISPL</th>\n",
              "      <th>GENID</th>\n",
              "      <th>NUMBLR</th>\n",
              "      <th>GENSTAT</th>\n",
              "      <th>PRMVR</th>\n",
              "      <th>FUELG1</th>\n",
              "      <th>NAMEPCAP</th>\n",
              "      <th>CFACT</th>\n",
              "      <th>GENNTAN</th>\n",
              "      <th>GENNTOZ</th>\n",
              "      <th>GENERSRC</th>\n",
              "      <th>GENYRONL</th>\n",
              "      <th>GENYRRET</th>\n",
              "    </tr>\n",
              "  </thead>\n",
              "  <tbody>\n",
              "    <tr>\n",
              "      <th>101</th>\n",
              "      <td>102</td>\n",
              "      <td>2020</td>\n",
              "      <td>AK</td>\n",
              "      <td>Craig (AK)</td>\n",
              "      <td>421</td>\n",
              "      <td>1</td>\n",
              "      <td>0</td>\n",
              "      <td>OP</td>\n",
              "      <td>IC</td>\n",
              "      <td>DFO</td>\n",
              "      <td>0.6</td>\n",
              "      <td>0.007</td>\n",
              "      <td>39</td>\n",
              "      <td>16.826</td>\n",
              "      <td>Distributed from 923 Generation And Fuel</td>\n",
              "      <td>1984</td>\n",
              "      <td></td>\n",
              "    </tr>\n",
              "    <tr>\n",
              "      <th>102</th>\n",
              "      <td>103</td>\n",
              "      <td>2020</td>\n",
              "      <td>AK</td>\n",
              "      <td>Craig (AK)</td>\n",
              "      <td>421</td>\n",
              "      <td>3B</td>\n",
              "      <td>0</td>\n",
              "      <td>OP</td>\n",
              "      <td>IC</td>\n",
              "      <td>DFO</td>\n",
              "      <td>1.8</td>\n",
              "      <td>0.007</td>\n",
              "      <td>117</td>\n",
              "      <td>50.478</td>\n",
              "      <td>Distributed from 923 Generation And Fuel</td>\n",
              "      <td>2015</td>\n",
              "      <td></td>\n",
              "    </tr>\n",
              "    <tr>\n",
              "      <th>103</th>\n",
              "      <td>104</td>\n",
              "      <td>2020</td>\n",
              "      <td>AK</td>\n",
              "      <td>Craig (AK)</td>\n",
              "      <td>421</td>\n",
              "      <td>5</td>\n",
              "      <td>0</td>\n",
              "      <td>OP</td>\n",
              "      <td>IC</td>\n",
              "      <td>DFO</td>\n",
              "      <td>1.1</td>\n",
              "      <td>0.007</td>\n",
              "      <td>71.5</td>\n",
              "      <td>30.848</td>\n",
              "      <td>Distributed from 923 Generation And Fuel</td>\n",
              "      <td>1983</td>\n",
              "      <td></td>\n",
              "    </tr>\n",
              "    <tr>\n",
              "      <th>104</th>\n",
              "      <td>105</td>\n",
              "      <td>2020</td>\n",
              "      <td>AK</td>\n",
              "      <td>Craig (AK)</td>\n",
              "      <td>421</td>\n",
              "      <td>6</td>\n",
              "      <td>0</td>\n",
              "      <td>OP</td>\n",
              "      <td>IC</td>\n",
              "      <td>DFO</td>\n",
              "      <td>1.1</td>\n",
              "      <td>0.007</td>\n",
              "      <td>71.5</td>\n",
              "      <td>30.848</td>\n",
              "      <td>Distributed from 923 Generation And Fuel</td>\n",
              "      <td>1989</td>\n",
              "      <td></td>\n",
              "    </tr>\n",
              "    <tr>\n",
              "      <th>105</th>\n",
              "      <td>106</td>\n",
              "      <td>2020</td>\n",
              "      <td>AK</td>\n",
              "      <td>Craig (AK)</td>\n",
              "      <td>421</td>\n",
              "      <td>3A</td>\n",
              "      <td>0</td>\n",
              "      <td>RE</td>\n",
              "      <td>IC</td>\n",
              "      <td>DFO</td>\n",
              "      <td>1.6</td>\n",
              "      <td></td>\n",
              "      <td></td>\n",
              "      <td></td>\n",
              "      <td></td>\n",
              "      <td></td>\n",
              "      <td>2015</td>\n",
              "    </tr>\n",
              "  </tbody>\n",
              "</table>\n",
              "</div>\n",
              "      <button class=\"colab-df-convert\" onclick=\"convertToInteractive('df-94b91c00-656b-4086-83a2-994460fa85b7')\"\n",
              "              title=\"Convert this dataframe to an interactive table.\"\n",
              "              style=\"display:none;\">\n",
              "        \n",
              "  <svg xmlns=\"http://www.w3.org/2000/svg\" height=\"24px\"viewBox=\"0 0 24 24\"\n",
              "       width=\"24px\">\n",
              "    <path d=\"M0 0h24v24H0V0z\" fill=\"none\"/>\n",
              "    <path d=\"M18.56 5.44l.94 2.06.94-2.06 2.06-.94-2.06-.94-.94-2.06-.94 2.06-2.06.94zm-11 1L8.5 8.5l.94-2.06 2.06-.94-2.06-.94L8.5 2.5l-.94 2.06-2.06.94zm10 10l.94 2.06.94-2.06 2.06-.94-2.06-.94-.94-2.06-.94 2.06-2.06.94z\"/><path d=\"M17.41 7.96l-1.37-1.37c-.4-.4-.92-.59-1.43-.59-.52 0-1.04.2-1.43.59L10.3 9.45l-7.72 7.72c-.78.78-.78 2.05 0 2.83L4 21.41c.39.39.9.59 1.41.59.51 0 1.02-.2 1.41-.59l7.78-7.78 2.81-2.81c.8-.78.8-2.07 0-2.86zM5.41 20L4 18.59l7.72-7.72 1.47 1.35L5.41 20z\"/>\n",
              "  </svg>\n",
              "      </button>\n",
              "      \n",
              "  <style>\n",
              "    .colab-df-container {\n",
              "      display:flex;\n",
              "      flex-wrap:wrap;\n",
              "      gap: 12px;\n",
              "    }\n",
              "\n",
              "    .colab-df-convert {\n",
              "      background-color: #E8F0FE;\n",
              "      border: none;\n",
              "      border-radius: 50%;\n",
              "      cursor: pointer;\n",
              "      display: none;\n",
              "      fill: #1967D2;\n",
              "      height: 32px;\n",
              "      padding: 0 0 0 0;\n",
              "      width: 32px;\n",
              "    }\n",
              "\n",
              "    .colab-df-convert:hover {\n",
              "      background-color: #E2EBFA;\n",
              "      box-shadow: 0px 1px 2px rgba(60, 64, 67, 0.3), 0px 1px 3px 1px rgba(60, 64, 67, 0.15);\n",
              "      fill: #174EA6;\n",
              "    }\n",
              "\n",
              "    [theme=dark] .colab-df-convert {\n",
              "      background-color: #3B4455;\n",
              "      fill: #D2E3FC;\n",
              "    }\n",
              "\n",
              "    [theme=dark] .colab-df-convert:hover {\n",
              "      background-color: #434B5C;\n",
              "      box-shadow: 0px 1px 3px 1px rgba(0, 0, 0, 0.15);\n",
              "      filter: drop-shadow(0px 1px 2px rgba(0, 0, 0, 0.3));\n",
              "      fill: #FFFFFF;\n",
              "    }\n",
              "  </style>\n",
              "\n",
              "      <script>\n",
              "        const buttonEl =\n",
              "          document.querySelector('#df-94b91c00-656b-4086-83a2-994460fa85b7 button.colab-df-convert');\n",
              "        buttonEl.style.display =\n",
              "          google.colab.kernel.accessAllowed ? 'block' : 'none';\n",
              "\n",
              "        async function convertToInteractive(key) {\n",
              "          const element = document.querySelector('#df-94b91c00-656b-4086-83a2-994460fa85b7');\n",
              "          const dataTable =\n",
              "            await google.colab.kernel.invokeFunction('convertToInteractive',\n",
              "                                                     [key], {});\n",
              "          if (!dataTable) return;\n",
              "\n",
              "          const docLinkHtml = 'Like what you see? Visit the ' +\n",
              "            '<a target=\"_blank\" href=https://colab.research.google.com/notebooks/data_table.ipynb>data table notebook</a>'\n",
              "            + ' to learn more about interactive tables.';\n",
              "          element.innerHTML = '';\n",
              "          dataTable['output_type'] = 'display_data';\n",
              "          await google.colab.output.renderOutput(dataTable, element);\n",
              "          const docLink = document.createElement('div');\n",
              "          docLink.innerHTML = docLinkHtml;\n",
              "          element.appendChild(docLink);\n",
              "        }\n",
              "      </script>\n",
              "    </div>\n",
              "  </div>\n",
              "  "
            ]
          },
          "metadata": {},
          "execution_count": 27
        }
      ]
    },
    {
      "cell_type": "markdown",
      "metadata": {
        "id": "8LBYkAiZsIBB"
      },
      "source": [
        "## Filtering the data"
      ]
    },
    {
      "cell_type": "markdown",
      "metadata": {
        "id": "rh_CQRZlqxS0"
      },
      "source": [
        "But what if you want a specific subset of rows, say you are interested in **wind generators only**. You can **filter** your data by only selecting the rows whose columns FUELG1 is equal to \"WND\". Remember that WND stands for wind power.\n",
        "\n",
        "First you need to identify the columns you will use to filter the data and then the condition. In order to acces a column you use dataframename.columnname or dataframename[\"columnname\"]. For our example we could use: df_gen[“FUELG1”]==\"WND\" or df_gen.FUELG1==\"WND\". Both are correct!\n"
      ]
    },
    {
      "cell_type": "code",
      "metadata": {
        "colab": {
          "base_uri": "https://localhost:8080/",
          "height": 359
        },
        "id": "Jily-p-_qytC",
        "outputId": "b3c23e66-7649-4652-d624-1031e49e9b3e"
      },
      "source": [
        "sub_df_gen = df_gen.iloc[:,np.r_[2:5,9:12]]  ##going back to subset data frame with the columns of insterest#\n",
        "wnd_df_gen = sub_df_gen[(sub_df_gen.FUELG1==\"WND\")]\n",
        "wnd_df_gen.head(10)"
      ],
      "execution_count": null,
      "outputs": [
        {
          "output_type": "execute_result",
          "data": {
            "text/plain": [
              "    PSTATABB                      PNAME  ORISPL FUELG1 NAMEPCAP  CFACT\n",
              "0         AK  7-Mile Ridge Wind Project   60814    WND      1.8       \n",
              "107       AK            Delta Wind Farm   58511    WND      0.9  0.231\n",
              "108       AK            Delta Wind Farm   58511    WND      0.9  0.231\n",
              "109       AK            Delta Wind Farm   58511    WND      0.1  0.231\n",
              "172       AK             Eva Creek Wind   57935    WND     24.6  0.214\n",
              "180       AK           Fire Island Wind   58425    WND       18  0.299\n",
              "335       AK            Kotzebue Hybrid    6304    WND      0.1  0.101\n",
              "336       AK            Kotzebue Hybrid    6304    WND      0.1  0.101\n",
              "338       AK            Kotzebue Hybrid    6304    WND      0.1  0.101\n",
              "340       AK            Kotzebue Hybrid    6304    WND      0.1  0.101"
            ],
            "text/html": [
              "\n",
              "  <div id=\"df-e4e838d3-c1f9-4825-a3ab-0bc3ea6177d1\">\n",
              "    <div class=\"colab-df-container\">\n",
              "      <div>\n",
              "<style scoped>\n",
              "    .dataframe tbody tr th:only-of-type {\n",
              "        vertical-align: middle;\n",
              "    }\n",
              "\n",
              "    .dataframe tbody tr th {\n",
              "        vertical-align: top;\n",
              "    }\n",
              "\n",
              "    .dataframe thead th {\n",
              "        text-align: right;\n",
              "    }\n",
              "</style>\n",
              "<table border=\"1\" class=\"dataframe\">\n",
              "  <thead>\n",
              "    <tr style=\"text-align: right;\">\n",
              "      <th></th>\n",
              "      <th>PSTATABB</th>\n",
              "      <th>PNAME</th>\n",
              "      <th>ORISPL</th>\n",
              "      <th>FUELG1</th>\n",
              "      <th>NAMEPCAP</th>\n",
              "      <th>CFACT</th>\n",
              "    </tr>\n",
              "  </thead>\n",
              "  <tbody>\n",
              "    <tr>\n",
              "      <th>0</th>\n",
              "      <td>AK</td>\n",
              "      <td>7-Mile Ridge Wind Project</td>\n",
              "      <td>60814</td>\n",
              "      <td>WND</td>\n",
              "      <td>1.8</td>\n",
              "      <td></td>\n",
              "    </tr>\n",
              "    <tr>\n",
              "      <th>107</th>\n",
              "      <td>AK</td>\n",
              "      <td>Delta Wind Farm</td>\n",
              "      <td>58511</td>\n",
              "      <td>WND</td>\n",
              "      <td>0.9</td>\n",
              "      <td>0.231</td>\n",
              "    </tr>\n",
              "    <tr>\n",
              "      <th>108</th>\n",
              "      <td>AK</td>\n",
              "      <td>Delta Wind Farm</td>\n",
              "      <td>58511</td>\n",
              "      <td>WND</td>\n",
              "      <td>0.9</td>\n",
              "      <td>0.231</td>\n",
              "    </tr>\n",
              "    <tr>\n",
              "      <th>109</th>\n",
              "      <td>AK</td>\n",
              "      <td>Delta Wind Farm</td>\n",
              "      <td>58511</td>\n",
              "      <td>WND</td>\n",
              "      <td>0.1</td>\n",
              "      <td>0.231</td>\n",
              "    </tr>\n",
              "    <tr>\n",
              "      <th>172</th>\n",
              "      <td>AK</td>\n",
              "      <td>Eva Creek Wind</td>\n",
              "      <td>57935</td>\n",
              "      <td>WND</td>\n",
              "      <td>24.6</td>\n",
              "      <td>0.214</td>\n",
              "    </tr>\n",
              "    <tr>\n",
              "      <th>180</th>\n",
              "      <td>AK</td>\n",
              "      <td>Fire Island Wind</td>\n",
              "      <td>58425</td>\n",
              "      <td>WND</td>\n",
              "      <td>18</td>\n",
              "      <td>0.299</td>\n",
              "    </tr>\n",
              "    <tr>\n",
              "      <th>335</th>\n",
              "      <td>AK</td>\n",
              "      <td>Kotzebue Hybrid</td>\n",
              "      <td>6304</td>\n",
              "      <td>WND</td>\n",
              "      <td>0.1</td>\n",
              "      <td>0.101</td>\n",
              "    </tr>\n",
              "    <tr>\n",
              "      <th>336</th>\n",
              "      <td>AK</td>\n",
              "      <td>Kotzebue Hybrid</td>\n",
              "      <td>6304</td>\n",
              "      <td>WND</td>\n",
              "      <td>0.1</td>\n",
              "      <td>0.101</td>\n",
              "    </tr>\n",
              "    <tr>\n",
              "      <th>338</th>\n",
              "      <td>AK</td>\n",
              "      <td>Kotzebue Hybrid</td>\n",
              "      <td>6304</td>\n",
              "      <td>WND</td>\n",
              "      <td>0.1</td>\n",
              "      <td>0.101</td>\n",
              "    </tr>\n",
              "    <tr>\n",
              "      <th>340</th>\n",
              "      <td>AK</td>\n",
              "      <td>Kotzebue Hybrid</td>\n",
              "      <td>6304</td>\n",
              "      <td>WND</td>\n",
              "      <td>0.1</td>\n",
              "      <td>0.101</td>\n",
              "    </tr>\n",
              "  </tbody>\n",
              "</table>\n",
              "</div>\n",
              "      <button class=\"colab-df-convert\" onclick=\"convertToInteractive('df-e4e838d3-c1f9-4825-a3ab-0bc3ea6177d1')\"\n",
              "              title=\"Convert this dataframe to an interactive table.\"\n",
              "              style=\"display:none;\">\n",
              "        \n",
              "  <svg xmlns=\"http://www.w3.org/2000/svg\" height=\"24px\"viewBox=\"0 0 24 24\"\n",
              "       width=\"24px\">\n",
              "    <path d=\"M0 0h24v24H0V0z\" fill=\"none\"/>\n",
              "    <path d=\"M18.56 5.44l.94 2.06.94-2.06 2.06-.94-2.06-.94-.94-2.06-.94 2.06-2.06.94zm-11 1L8.5 8.5l.94-2.06 2.06-.94-2.06-.94L8.5 2.5l-.94 2.06-2.06.94zm10 10l.94 2.06.94-2.06 2.06-.94-2.06-.94-.94-2.06-.94 2.06-2.06.94z\"/><path d=\"M17.41 7.96l-1.37-1.37c-.4-.4-.92-.59-1.43-.59-.52 0-1.04.2-1.43.59L10.3 9.45l-7.72 7.72c-.78.78-.78 2.05 0 2.83L4 21.41c.39.39.9.59 1.41.59.51 0 1.02-.2 1.41-.59l7.78-7.78 2.81-2.81c.8-.78.8-2.07 0-2.86zM5.41 20L4 18.59l7.72-7.72 1.47 1.35L5.41 20z\"/>\n",
              "  </svg>\n",
              "      </button>\n",
              "      \n",
              "  <style>\n",
              "    .colab-df-container {\n",
              "      display:flex;\n",
              "      flex-wrap:wrap;\n",
              "      gap: 12px;\n",
              "    }\n",
              "\n",
              "    .colab-df-convert {\n",
              "      background-color: #E8F0FE;\n",
              "      border: none;\n",
              "      border-radius: 50%;\n",
              "      cursor: pointer;\n",
              "      display: none;\n",
              "      fill: #1967D2;\n",
              "      height: 32px;\n",
              "      padding: 0 0 0 0;\n",
              "      width: 32px;\n",
              "    }\n",
              "\n",
              "    .colab-df-convert:hover {\n",
              "      background-color: #E2EBFA;\n",
              "      box-shadow: 0px 1px 2px rgba(60, 64, 67, 0.3), 0px 1px 3px 1px rgba(60, 64, 67, 0.15);\n",
              "      fill: #174EA6;\n",
              "    }\n",
              "\n",
              "    [theme=dark] .colab-df-convert {\n",
              "      background-color: #3B4455;\n",
              "      fill: #D2E3FC;\n",
              "    }\n",
              "\n",
              "    [theme=dark] .colab-df-convert:hover {\n",
              "      background-color: #434B5C;\n",
              "      box-shadow: 0px 1px 3px 1px rgba(0, 0, 0, 0.15);\n",
              "      filter: drop-shadow(0px 1px 2px rgba(0, 0, 0, 0.3));\n",
              "      fill: #FFFFFF;\n",
              "    }\n",
              "  </style>\n",
              "\n",
              "      <script>\n",
              "        const buttonEl =\n",
              "          document.querySelector('#df-e4e838d3-c1f9-4825-a3ab-0bc3ea6177d1 button.colab-df-convert');\n",
              "        buttonEl.style.display =\n",
              "          google.colab.kernel.accessAllowed ? 'block' : 'none';\n",
              "\n",
              "        async function convertToInteractive(key) {\n",
              "          const element = document.querySelector('#df-e4e838d3-c1f9-4825-a3ab-0bc3ea6177d1');\n",
              "          const dataTable =\n",
              "            await google.colab.kernel.invokeFunction('convertToInteractive',\n",
              "                                                     [key], {});\n",
              "          if (!dataTable) return;\n",
              "\n",
              "          const docLinkHtml = 'Like what you see? Visit the ' +\n",
              "            '<a target=\"_blank\" href=https://colab.research.google.com/notebooks/data_table.ipynb>data table notebook</a>'\n",
              "            + ' to learn more about interactive tables.';\n",
              "          element.innerHTML = '';\n",
              "          dataTable['output_type'] = 'display_data';\n",
              "          await google.colab.output.renderOutput(dataTable, element);\n",
              "          const docLink = document.createElement('div');\n",
              "          docLink.innerHTML = docLinkHtml;\n",
              "          element.appendChild(docLink);\n",
              "        }\n",
              "      </script>\n",
              "    </div>\n",
              "  </div>\n",
              "  "
            ]
          },
          "metadata": {},
          "execution_count": 28
        }
      ]
    },
    {
      "cell_type": "markdown",
      "metadata": {
        "id": "CBfDI_k5qzs9"
      },
      "source": [
        "Note that all rows have \"WND\" in the FUELG1 column. Now what if I want wind and solar power only. I can add another condition inside the brackets."
      ]
    },
    {
      "cell_type": "code",
      "metadata": {
        "colab": {
          "base_uri": "https://localhost:8080/",
          "height": 419
        },
        "id": "TjPVvqjuq0BN",
        "outputId": "20f2e2a1-9510-4750-ed1b-05f9d620aa26"
      },
      "source": [
        "wnd_sun_df_gen = sub_df_gen[(sub_df_gen.FUELG1==\"WND\")|(sub_df_gen.FUELG1==\"SUN\")]\n",
        "wnd_sun_df_gen"
      ],
      "execution_count": null,
      "outputs": [
        {
          "output_type": "execute_result",
          "data": {
            "text/plain": [
              "      PSTATABB                               PNAME  ORISPL FUELG1 NAMEPCAP  \\\n",
              "0           AK           7-Mile Ridge Wind Project   60814    WND      1.8   \n",
              "107         AK                     Delta Wind Farm   58511    WND      0.9   \n",
              "108         AK                     Delta Wind Farm   58511    WND      0.9   \n",
              "109         AK                     Delta Wind Farm   58511    WND      0.1   \n",
              "172         AK                      Eva Creek Wind   57935    WND     24.6   \n",
              "...        ...                                 ...     ...    ...      ...   \n",
              "30178       WY                    Sweetwater Solar   61369    SUN       92   \n",
              "30184       WY                            TB Flats   62516    WND    503.2   \n",
              "30185       WY  Top of the World Windpower Project   57327    WND      200   \n",
              "30186       WY              TransAlta Wyoming Wind   56093    WND      144   \n",
              "30187       WY            Two Rivers Wind Facility   63972    WND      290   \n",
              "\n",
              "       CFACT  \n",
              "0             \n",
              "107    0.231  \n",
              "108    0.231  \n",
              "109    0.231  \n",
              "172    0.214  \n",
              "...      ...  \n",
              "30178  0.205  \n",
              "30184         \n",
              "30185  0.308  \n",
              "30186  0.299  \n",
              "30187         \n",
              "\n",
              "[7607 rows x 6 columns]"
            ],
            "text/html": [
              "\n",
              "  <div id=\"df-bc92f61a-f9a0-445b-a1fc-8d7607437633\">\n",
              "    <div class=\"colab-df-container\">\n",
              "      <div>\n",
              "<style scoped>\n",
              "    .dataframe tbody tr th:only-of-type {\n",
              "        vertical-align: middle;\n",
              "    }\n",
              "\n",
              "    .dataframe tbody tr th {\n",
              "        vertical-align: top;\n",
              "    }\n",
              "\n",
              "    .dataframe thead th {\n",
              "        text-align: right;\n",
              "    }\n",
              "</style>\n",
              "<table border=\"1\" class=\"dataframe\">\n",
              "  <thead>\n",
              "    <tr style=\"text-align: right;\">\n",
              "      <th></th>\n",
              "      <th>PSTATABB</th>\n",
              "      <th>PNAME</th>\n",
              "      <th>ORISPL</th>\n",
              "      <th>FUELG1</th>\n",
              "      <th>NAMEPCAP</th>\n",
              "      <th>CFACT</th>\n",
              "    </tr>\n",
              "  </thead>\n",
              "  <tbody>\n",
              "    <tr>\n",
              "      <th>0</th>\n",
              "      <td>AK</td>\n",
              "      <td>7-Mile Ridge Wind Project</td>\n",
              "      <td>60814</td>\n",
              "      <td>WND</td>\n",
              "      <td>1.8</td>\n",
              "      <td></td>\n",
              "    </tr>\n",
              "    <tr>\n",
              "      <th>107</th>\n",
              "      <td>AK</td>\n",
              "      <td>Delta Wind Farm</td>\n",
              "      <td>58511</td>\n",
              "      <td>WND</td>\n",
              "      <td>0.9</td>\n",
              "      <td>0.231</td>\n",
              "    </tr>\n",
              "    <tr>\n",
              "      <th>108</th>\n",
              "      <td>AK</td>\n",
              "      <td>Delta Wind Farm</td>\n",
              "      <td>58511</td>\n",
              "      <td>WND</td>\n",
              "      <td>0.9</td>\n",
              "      <td>0.231</td>\n",
              "    </tr>\n",
              "    <tr>\n",
              "      <th>109</th>\n",
              "      <td>AK</td>\n",
              "      <td>Delta Wind Farm</td>\n",
              "      <td>58511</td>\n",
              "      <td>WND</td>\n",
              "      <td>0.1</td>\n",
              "      <td>0.231</td>\n",
              "    </tr>\n",
              "    <tr>\n",
              "      <th>172</th>\n",
              "      <td>AK</td>\n",
              "      <td>Eva Creek Wind</td>\n",
              "      <td>57935</td>\n",
              "      <td>WND</td>\n",
              "      <td>24.6</td>\n",
              "      <td>0.214</td>\n",
              "    </tr>\n",
              "    <tr>\n",
              "      <th>...</th>\n",
              "      <td>...</td>\n",
              "      <td>...</td>\n",
              "      <td>...</td>\n",
              "      <td>...</td>\n",
              "      <td>...</td>\n",
              "      <td>...</td>\n",
              "    </tr>\n",
              "    <tr>\n",
              "      <th>30178</th>\n",
              "      <td>WY</td>\n",
              "      <td>Sweetwater Solar</td>\n",
              "      <td>61369</td>\n",
              "      <td>SUN</td>\n",
              "      <td>92</td>\n",
              "      <td>0.205</td>\n",
              "    </tr>\n",
              "    <tr>\n",
              "      <th>30184</th>\n",
              "      <td>WY</td>\n",
              "      <td>TB Flats</td>\n",
              "      <td>62516</td>\n",
              "      <td>WND</td>\n",
              "      <td>503.2</td>\n",
              "      <td></td>\n",
              "    </tr>\n",
              "    <tr>\n",
              "      <th>30185</th>\n",
              "      <td>WY</td>\n",
              "      <td>Top of the World Windpower Project</td>\n",
              "      <td>57327</td>\n",
              "      <td>WND</td>\n",
              "      <td>200</td>\n",
              "      <td>0.308</td>\n",
              "    </tr>\n",
              "    <tr>\n",
              "      <th>30186</th>\n",
              "      <td>WY</td>\n",
              "      <td>TransAlta Wyoming Wind</td>\n",
              "      <td>56093</td>\n",
              "      <td>WND</td>\n",
              "      <td>144</td>\n",
              "      <td>0.299</td>\n",
              "    </tr>\n",
              "    <tr>\n",
              "      <th>30187</th>\n",
              "      <td>WY</td>\n",
              "      <td>Two Rivers Wind Facility</td>\n",
              "      <td>63972</td>\n",
              "      <td>WND</td>\n",
              "      <td>290</td>\n",
              "      <td></td>\n",
              "    </tr>\n",
              "  </tbody>\n",
              "</table>\n",
              "<p>7607 rows × 6 columns</p>\n",
              "</div>\n",
              "      <button class=\"colab-df-convert\" onclick=\"convertToInteractive('df-bc92f61a-f9a0-445b-a1fc-8d7607437633')\"\n",
              "              title=\"Convert this dataframe to an interactive table.\"\n",
              "              style=\"display:none;\">\n",
              "        \n",
              "  <svg xmlns=\"http://www.w3.org/2000/svg\" height=\"24px\"viewBox=\"0 0 24 24\"\n",
              "       width=\"24px\">\n",
              "    <path d=\"M0 0h24v24H0V0z\" fill=\"none\"/>\n",
              "    <path d=\"M18.56 5.44l.94 2.06.94-2.06 2.06-.94-2.06-.94-.94-2.06-.94 2.06-2.06.94zm-11 1L8.5 8.5l.94-2.06 2.06-.94-2.06-.94L8.5 2.5l-.94 2.06-2.06.94zm10 10l.94 2.06.94-2.06 2.06-.94-2.06-.94-.94-2.06-.94 2.06-2.06.94z\"/><path d=\"M17.41 7.96l-1.37-1.37c-.4-.4-.92-.59-1.43-.59-.52 0-1.04.2-1.43.59L10.3 9.45l-7.72 7.72c-.78.78-.78 2.05 0 2.83L4 21.41c.39.39.9.59 1.41.59.51 0 1.02-.2 1.41-.59l7.78-7.78 2.81-2.81c.8-.78.8-2.07 0-2.86zM5.41 20L4 18.59l7.72-7.72 1.47 1.35L5.41 20z\"/>\n",
              "  </svg>\n",
              "      </button>\n",
              "      \n",
              "  <style>\n",
              "    .colab-df-container {\n",
              "      display:flex;\n",
              "      flex-wrap:wrap;\n",
              "      gap: 12px;\n",
              "    }\n",
              "\n",
              "    .colab-df-convert {\n",
              "      background-color: #E8F0FE;\n",
              "      border: none;\n",
              "      border-radius: 50%;\n",
              "      cursor: pointer;\n",
              "      display: none;\n",
              "      fill: #1967D2;\n",
              "      height: 32px;\n",
              "      padding: 0 0 0 0;\n",
              "      width: 32px;\n",
              "    }\n",
              "\n",
              "    .colab-df-convert:hover {\n",
              "      background-color: #E2EBFA;\n",
              "      box-shadow: 0px 1px 2px rgba(60, 64, 67, 0.3), 0px 1px 3px 1px rgba(60, 64, 67, 0.15);\n",
              "      fill: #174EA6;\n",
              "    }\n",
              "\n",
              "    [theme=dark] .colab-df-convert {\n",
              "      background-color: #3B4455;\n",
              "      fill: #D2E3FC;\n",
              "    }\n",
              "\n",
              "    [theme=dark] .colab-df-convert:hover {\n",
              "      background-color: #434B5C;\n",
              "      box-shadow: 0px 1px 3px 1px rgba(0, 0, 0, 0.15);\n",
              "      filter: drop-shadow(0px 1px 2px rgba(0, 0, 0, 0.3));\n",
              "      fill: #FFFFFF;\n",
              "    }\n",
              "  </style>\n",
              "\n",
              "      <script>\n",
              "        const buttonEl =\n",
              "          document.querySelector('#df-bc92f61a-f9a0-445b-a1fc-8d7607437633 button.colab-df-convert');\n",
              "        buttonEl.style.display =\n",
              "          google.colab.kernel.accessAllowed ? 'block' : 'none';\n",
              "\n",
              "        async function convertToInteractive(key) {\n",
              "          const element = document.querySelector('#df-bc92f61a-f9a0-445b-a1fc-8d7607437633');\n",
              "          const dataTable =\n",
              "            await google.colab.kernel.invokeFunction('convertToInteractive',\n",
              "                                                     [key], {});\n",
              "          if (!dataTable) return;\n",
              "\n",
              "          const docLinkHtml = 'Like what you see? Visit the ' +\n",
              "            '<a target=\"_blank\" href=https://colab.research.google.com/notebooks/data_table.ipynb>data table notebook</a>'\n",
              "            + ' to learn more about interactive tables.';\n",
              "          element.innerHTML = '';\n",
              "          dataTable['output_type'] = 'display_data';\n",
              "          await google.colab.output.renderOutput(dataTable, element);\n",
              "          const docLink = document.createElement('div');\n",
              "          docLink.innerHTML = docLinkHtml;\n",
              "          element.appendChild(docLink);\n",
              "        }\n",
              "      </script>\n",
              "    </div>\n",
              "  </div>\n",
              "  "
            ]
          },
          "metadata": {},
          "execution_count": 29
        }
      ]
    },
    {
      "cell_type": "markdown",
      "metadata": {
        "id": "loHppnnYsNPn"
      },
      "source": [
        "## Summarizing the data"
      ]
    },
    {
      "cell_type": "markdown",
      "metadata": {
        "id": "iTTcopBys8HI"
      },
      "source": [
        "Now imagine that you want to sum nameplate capacity to see total installed capacity for wind and sun. You can start with our subset data wnd_sun_df_gen that already contain our generators of interest. All you have left to do is to point to the columns you want to sum and use function .sum(). "
      ]
    },
    {
      "cell_type": "code",
      "metadata": {
        "colab": {
          "base_uri": "https://localhost:8080/"
        },
        "id": "6j0IIH0bsP6Y",
        "outputId": "a4308e05-ca9e-484b-cd10-904f082439cb"
      },
      "source": [
        "sum_cap = wnd_sun_df_gen['NAMEPCAP'].sum()\n",
        "sum_cap"
      ],
      "execution_count": null,
      "outputs": [
        {
          "output_type": "execute_result",
          "data": {
            "text/plain": [
              "269291.5999999992"
            ]
          },
          "metadata": {},
          "execution_count": 30
        }
      ]
    },
    {
      "cell_type": "markdown",
      "metadata": {
        "id": "30e1DlSqtj8K"
      },
      "source": [
        "Remember the units for NAMEPCAP column in e-grid is MW. Therefore, the total installed capacity for sun and wind in 2020 was 269,291 MW or 269 GW."
      ]
    },
    {
      "cell_type": "markdown",
      "source": [
        "# Exercise - Calculate total wind and solar installed capacity"
      ],
      "metadata": {
        "id": "AmbNzhMdx2ND"
      }
    },
    {
      "cell_type": "markdown",
      "metadata": {
        "id": "0nnDcv7ct_qm"
      },
      "source": [
        "What if you want separated values for wind and sun? \n",
        "\n",
        "Part a) Write a code that will give you the total installed capacity in 2020 for **wind** power."
      ]
    },
    {
      "cell_type": "code",
      "metadata": {
        "id": "Nd8m_3qOuQSZ"
      },
      "source": [
        "## your code"
      ],
      "execution_count": null,
      "outputs": []
    },
    {
      "cell_type": "markdown",
      "metadata": {
        "id": "WAyybk8huRsY"
      },
      "source": [
        "Part b) Write a code that will give you the total installed capacity in 2020 for ***solar*** power."
      ]
    },
    {
      "cell_type": "code",
      "metadata": {
        "id": "of1Sh1bvuZTU"
      },
      "source": [
        "## your code"
      ],
      "execution_count": null,
      "outputs": []
    },
    {
      "cell_type": "markdown",
      "metadata": {
        "id": "2r-NHgIjubnl"
      },
      "source": [
        "Part c) Now sum the total installed capcity from wind (part 1) and solar (part 2) and see if you got the same 269 GW."
      ]
    },
    {
      "cell_type": "code",
      "metadata": {
        "id": "PtFJLfi9uqzy"
      },
      "source": [
        "## your code"
      ],
      "execution_count": null,
      "outputs": []
    }
  ]
}